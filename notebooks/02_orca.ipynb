{
 "cells": [
  {
   "cell_type": "code",
   "execution_count": 1,
   "outputs": [],
   "source": [
    "%load_ext autoreload\n",
    "%autoreload 2"
   ],
   "metadata": {
    "collapsed": false,
    "ExecuteTime": {
     "end_time": "2023-11-23T06:17:53.498727500Z",
     "start_time": "2023-11-23T06:17:53.347599Z"
    }
   }
  },
  {
   "cell_type": "code",
   "execution_count": 2,
   "metadata": {
    "collapsed": true,
    "ExecuteTime": {
     "end_time": "2023-11-23T06:17:53.540727500Z",
     "start_time": "2023-11-23T06:17:53.366598700Z"
    }
   },
   "outputs": [],
   "source": [
    "import os\n",
    "import shutil\n",
    "import subprocess\n",
    "from copy import deepcopy\n",
    "from time import time\n",
    "from rdkit import Chem\n",
    "from rdkit.Chem import AllChem\n",
    "from rdkit.Chem.rdDistGeom import EmbedMultipleConfs\n",
    "from linux_qm.src.util import _load_smiles3D, _create_tmp_dir, draw3Dconfs, SetPositions\n",
    "from linux_qm.qm.crest.crest import conformer_pipeline\n",
    "\n",
    "\n",
    "ORCA_TMP = '.orca_tmp'"
   ]
  },
  {
   "cell_type": "code",
   "execution_count": 3,
   "outputs": [
    {
     "name": "stderr",
     "output_type": "stream",
     "text": [
      "normal termination of xtb\n",
      "Note: The following floating-point exceptions are signalling: IEEE_INVALID_FLAG IEEE_UNDERFLOW_FLAG IEEE_DENORMAL\n"
     ]
    },
    {
     "name": "stdout",
     "output_type": "stream",
     "text": [
      "Number of conformers generated: 4\n",
      "Energies: ['-23.275472730000001', '-23.273513529999999', '-23.273084449999999', '-23.272812779999999']\n"
     ]
    }
   ],
   "source": [
    "smi = 'COC1CN(C)C1'\n",
    "# smi = 'CO'\n",
    "\n",
    "\n",
    "# mol = _load_smiles3D(smi)\n",
    "# EmbedMultipleConfs(mol, numConfs=3)\n",
    "\n",
    "mol = conformer_pipeline(smi)\n",
    "\n",
    "# Get the conformers\n",
    "\n",
    "conformers = mol.GetConformers()\n",
    "\n",
    "# Print the number of conformers generated\n",
    "print(f\"Number of conformers generated: {len(conformers)}\")\n",
    "print(\"Energies:\", [c.GetProp('energy') for c in conformers])"
   ],
   "metadata": {
    "collapsed": false,
    "ExecuteTime": {
     "end_time": "2023-11-23T06:17:57.648517800Z",
     "start_time": "2023-11-23T06:17:53.527727400Z"
    }
   }
  },
  {
   "cell_type": "code",
   "execution_count": 4,
   "outputs": [
    {
     "name": "stdout",
     "output_type": "stream",
     "text": [
      "(3, 2, 6, 4)\n",
      "num conformers 4\n"
     ]
    },
    {
     "data": {
      "application/3dmoljs_load.v0": "<div id=\"3dmolviewer_17007202776519156\"  style=\"position: relative; width: 600px; height: 400px;\">\n        <p id=\"3dmolwarning_17007202776519156\" style=\"background-color:#ffcccc;color:black\">You appear to be running in JupyterLab (or JavaScript failed to load for some other reason).  You need to install the 3dmol extension: <br>\n        <tt>jupyter labextension install jupyterlab_3dmol</tt></p>\n        </div>\n<script>\n\nvar loadScriptAsync = function(uri){\n  return new Promise((resolve, reject) => {\n    //this is to ignore the existence of requirejs amd\n    var savedexports, savedmodule;\n    if (typeof exports !== 'undefined') savedexports = exports;\n    else exports = {}\n    if (typeof module !== 'undefined') savedmodule = module;\n    else module = {}\n\n    var tag = document.createElement('script');\n    tag.src = uri;\n    tag.async = true;\n    tag.onload = () => {\n        exports = savedexports;\n        module = savedmodule;\n        resolve();\n    };\n  var firstScriptTag = document.getElementsByTagName('script')[0];\n  firstScriptTag.parentNode.insertBefore(tag, firstScriptTag);\n});\n};\n\nif(typeof $3Dmolpromise === 'undefined') {\n$3Dmolpromise = null;\n  $3Dmolpromise = loadScriptAsync('https://cdnjs.cloudflare.com/ajax/libs/3Dmol/2.0.4/3Dmol-min.js');\n}\n\nvar viewer_17007202776519156 = null;\nvar warn = document.getElementById(\"3dmolwarning_17007202776519156\");\nif(warn) {\n    warn.parentNode.removeChild(warn);\n}\n$3Dmolpromise.then(function() {\nviewer_17007202776519156 = $3Dmol.createViewer(document.getElementById(\"3dmolviewer_17007202776519156\"),{backgroundColor:\"white\"});\nviewer_17007202776519156.zoomTo();\n\tviewer_17007202776519156.addModel(\"\\n     RDKit          3D\\n\\n 18 18  0  0  0  0  0  0  0  0999 V2000\\n   -2.7148   -0.4289    0.1541 C   0  0  0  0  0  0  0  0  0  0  0  0\\n   -1.6147    0.3969    0.4458 O   0  0  0  0  0  0  0  0  0  0  0  0\\n   -0.5678    0.2730   -0.4747 C   0  0  0  0  0  0  0  0  0  0  0  0\\n    0.3619   -0.9500   -0.3396 C   0  0  0  0  0  0  0  0  0  0  0  0\\n    1.5150   -0.0469   -0.3698 N   0  0  0  0  0  0  0  0  0  0  0  0\\n    2.5812   -0.2951    0.5645 C   0  0  0  0  0  0  0  0  0  0  0  0\\n    0.6613    1.1199   -0.1312 C   0  0  0  0  0  0  0  0  0  0  0  0\\n   -3.1295   -0.1982   -0.8351 H   0  0  0  0  0  0  0  0  0  0  0  0\\n   -3.4630   -0.2281    0.9181 H   0  0  0  0  0  0  0  0  0  0  0  0\\n   -2.4397   -1.4895    0.1810 H   0  0  0  0  0  0  0  0  0  0  0  0\\n   -0.9302    0.4196   -1.5007 H   0  0  0  0  0  0  0  0  0  0  0  0\\n    0.3620   -1.6803   -1.1501 H   0  0  0  0  0  0  0  0  0  0  0  0\\n    0.2225   -1.4567    0.6235 H   0  0  0  0  0  0  0  0  0  0  0  0\\n    3.3130    0.5075    0.4816 H   0  0  0  0  0  0  0  0  0  0  0  0\\n    2.2322   -0.3494    1.6082 H   0  0  0  0  0  0  0  0  0  0  0  0\\n    3.0619   -1.2379    0.3059 H   0  0  0  0  0  0  0  0  0  0  0  0\\n    0.6292    1.4466    0.9141 H   0  0  0  0  0  0  0  0  0  0  0  0\\n    0.8848    1.9663   -0.7804 H   0  0  0  0  0  0  0  0  0  0  0  0\\n  1  2  1  0\\n  2  3  1  0\\n  3  4  1  0\\n  4  5  1  0\\n  5  6  1  0\\n  5  7  1  0\\n  7  3  1  0\\n  1  8  1  0\\n  1  9  1  0\\n  1 10  1  0\\n  3 11  1  0\\n  4 12  1  0\\n  4 13  1  0\\n  6 14  1  0\\n  6 15  1  0\\n  6 16  1  0\\n  7 17  1  0\\n  7 18  1  0\\nM  END\\n\",\"mol\");\n\tviewer_17007202776519156.addModel(\"\\n     RDKit          3D\\n\\n 18 18  0  0  0  0  0  0  0  0999 V2000\\n   -0.7862   -0.1053    2.0517 C   0  0  0  0  0  0  0  0  0  0  0  0\\n   -1.3935    0.2808    0.8345 O   0  0  0  0  0  0  0  0  0  0  0  0\\n   -0.5872    0.2544   -0.3062 C   0  0  0  0  0  0  0  0  0  0  0  0\\n    0.3739   -0.9336   -0.5178 C   0  0  0  0  0  0  0  0  0  0  0  0\\n    1.5050   -0.0642   -0.1821 N   0  0  0  0  0  0  0  0  0  0  0  0\\n    2.6878   -0.1567   -0.9946 C   0  0  0  0  0  0  0  0  0  0  0  0\\n    0.6785    1.1393   -0.3092 C   0  0  0  0  0  0  0  0  0  0  0  0\\n   -0.8199   -1.1923    2.1807 H   0  0  0  0  0  0  0  0  0  0  0  0\\n   -1.3706    0.3618    2.8436 H   0  0  0  0  0  0  0  0  0  0  0  0\\n    0.2512    0.2267    2.1143 H   0  0  0  0  0  0  0  0  0  0  0  0\\n   -1.2800    0.4424   -1.1290 H   0  0  0  0  0  0  0  0  0  0  0  0\\n    0.3744   -1.2870   -1.5559 H   0  0  0  0  0  0  0  0  0  0  0  0\\n    0.2694   -1.7853    0.1541 H   0  0  0  0  0  0  0  0  0  0  0  0\\n    3.1372   -1.1385   -0.8507 H   0  0  0  0  0  0  0  0  0  0  0  0\\n    2.4816   -0.0159   -2.0682 H   0  0  0  0  0  0  0  0  0  0  0  0\\n    3.3965    0.6053   -0.6721 H   0  0  0  0  0  0  0  0  0  0  0  0\\n    0.7924    1.8387    0.5205 H   0  0  0  0  0  0  0  0  0  0  0  0\\n    0.8106    1.6758   -1.2562 H   0  0  0  0  0  0  0  0  0  0  0  0\\n  1  2  1  0\\n  2  3  1  0\\n  3  4  1  0\\n  4  5  1  0\\n  5  6  1  0\\n  5  7  1  0\\n  7  3  1  0\\n  1  8  1  0\\n  1  9  1  0\\n  1 10  1  0\\n  3 11  1  0\\n  4 12  1  0\\n  4 13  1  0\\n  6 14  1  0\\n  6 15  1  0\\n  6 16  1  0\\n  7 17  1  0\\n  7 18  1  0\\nM  END\\n\",\"mol\");\n\tviewer_17007202776519156.addModel(\"\\n     RDKit          3D\\n\\n 18 18  0  0  0  0  0  0  0  0999 V2000\\n   -1.7251    0.0959    1.6182 C   0  0  0  0  0  0  0  0  0  0  0  0\\n   -1.7592    0.3849    0.2398 O   0  0  0  0  0  0  0  0  0  0  0  0\\n   -0.5672    0.2695   -0.4831 C   0  0  0  0  0  0  0  0  0  0  0  0\\n    0.3609   -0.9512   -0.3319 C   0  0  0  0  0  0  0  0  0  0  0  0\\n    1.5110   -0.0452   -0.3781 N   0  0  0  0  0  0  0  0  0  0  0  0\\n    2.5986   -0.2976    0.5289 C   0  0  0  0  0  0  0  0  0  0  0  0\\n    0.6656    1.1228   -0.1220 C   0  0  0  0  0  0  0  0  0  0  0  0\\n   -2.6959    0.4015    2.0046 H   0  0  0  0  0  0  0  0  0  0  0  0\\n   -0.9430    0.6543    2.1419 H   0  0  0  0  0  0  0  0  0  0  0  0\\n   -1.5906   -0.9751    1.8064 H   0  0  0  0  0  0  0  0  0  0  0  0\\n   -0.8692    0.4222   -1.5208 H   0  0  0  0  0  0  0  0  0  0  0  0\\n    0.3490   -1.6861   -1.1374 H   0  0  0  0  0  0  0  0  0  0  0  0\\n    0.2472   -1.4630    0.6307 H   0  0  0  0  0  0  0  0  0  0  0  0\\n    2.2764   -0.3600    1.5820 H   0  0  0  0  0  0  0  0  0  0  0  0\\n    3.0742   -1.2381    0.2538 H   0  0  0  0  0  0  0  0  0  0  0  0\\n    3.3280    0.5060    0.4346 H   0  0  0  0  0  0  0  0  0  0  0  0\\n    0.6708    1.4524    0.9240 H   0  0  0  0  0  0  0  0  0  0  0  0\\n    0.8850    1.9731   -0.7682 H   0  0  0  0  0  0  0  0  0  0  0  0\\n  1  2  1  0\\n  2  3  1  0\\n  3  4  1  0\\n  4  5  1  0\\n  5  6  1  0\\n  5  7  1  0\\n  7  3  1  0\\n  1  8  1  0\\n  1  9  1  0\\n  1 10  1  0\\n  3 11  1  0\\n  4 12  1  0\\n  4 13  1  0\\n  6 14  1  0\\n  6 15  1  0\\n  6 16  1  0\\n  7 17  1  0\\n  7 18  1  0\\nM  END\\n\",\"mol\");\n\tviewer_17007202776519156.addModel(\"\\n     RDKit          3D\\n\\n 18 18  0  0  0  0  0  0  0  0999 V2000\\n   -2.2055    1.2915    1.0047 C   0  0  0  0  0  0  0  0  0  0  0  0\\n   -1.3690    0.1779    0.8164 O   0  0  0  0  0  0  0  0  0  0  0  0\\n   -0.5870    0.2550   -0.3412 C   0  0  0  0  0  0  0  0  0  0  0  0\\n    0.3672   -0.9375   -0.4816 C   0  0  0  0  0  0  0  0  0  0  0  0\\n    1.5144   -0.0616   -0.2208 N   0  0  0  0  0  0  0  0  0  0  0  0\\n    2.6267   -0.1350   -1.1281 C   0  0  0  0  0  0  0  0  0  0  0  0\\n    0.6757    1.1401   -0.2716 C   0  0  0  0  0  0  0  0  0  0  0  0\\n   -2.8997    1.4108    0.1624 H   0  0  0  0  0  0  0  0  0  0  0  0\\n   -1.6303    2.2174    1.1181 H   0  0  0  0  0  0  0  0  0  0  0  0\\n   -2.7694    1.1024    1.9156 H   0  0  0  0  0  0  0  0  0  0  0  0\\n   -1.2259    0.4502   -1.2159 H   0  0  0  0  0  0  0  0  0  0  0  0\\n    0.3588   -1.3961   -1.4759 H   0  0  0  0  0  0  0  0  0  0  0  0\\n    0.2407   -1.7021    0.2849 H   0  0  0  0  0  0  0  0  0  0  0  0\\n    2.3369    0.0144   -2.1818 H   0  0  0  0  0  0  0  0  0  0  0  0\\n    3.3538    0.6290   -0.8548 H   0  0  0  0  0  0  0  0  0  0  0  0\\n    3.0942   -1.1140   -1.0305 H   0  0  0  0  0  0  0  0  0  0  0  0\\n    0.7743    1.7485    0.6291 H   0  0  0  0  0  0  0  0  0  0  0  0\\n    0.8255    1.7637   -1.1603 H   0  0  0  0  0  0  0  0  0  0  0  0\\n  1  2  1  0\\n  2  3  1  0\\n  3  4  1  0\\n  4  5  1  0\\n  5  6  1  0\\n  5  7  1  0\\n  7  3  1  0\\n  1  8  1  0\\n  1  9  1  0\\n  1 10  1  0\\n  3 11  1  0\\n  4 12  1  0\\n  4 13  1  0\\n  6 14  1  0\\n  6 15  1  0\\n  6 16  1  0\\n  7 17  1  0\\n  7 18  1  0\\nM  END\\n\",\"mol\");\n\tviewer_17007202776519156.setStyle({\"stick\": {}});\n\tviewer_17007202776519156.setBackgroundColor(\"black\");\n\tviewer_17007202776519156.zoomTo();\nviewer_17007202776519156.render();\n});\n</script>",
      "text/html": "<div id=\"3dmolviewer_17007202776519156\"  style=\"position: relative; width: 600px; height: 400px;\">\n        <p id=\"3dmolwarning_17007202776519156\" style=\"background-color:#ffcccc;color:black\">You appear to be running in JupyterLab (or JavaScript failed to load for some other reason).  You need to install the 3dmol extension: <br>\n        <tt>jupyter labextension install jupyterlab_3dmol</tt></p>\n        </div>\n<script>\n\nvar loadScriptAsync = function(uri){\n  return new Promise((resolve, reject) => {\n    //this is to ignore the existence of requirejs amd\n    var savedexports, savedmodule;\n    if (typeof exports !== 'undefined') savedexports = exports;\n    else exports = {}\n    if (typeof module !== 'undefined') savedmodule = module;\n    else module = {}\n\n    var tag = document.createElement('script');\n    tag.src = uri;\n    tag.async = true;\n    tag.onload = () => {\n        exports = savedexports;\n        module = savedmodule;\n        resolve();\n    };\n  var firstScriptTag = document.getElementsByTagName('script')[0];\n  firstScriptTag.parentNode.insertBefore(tag, firstScriptTag);\n});\n};\n\nif(typeof $3Dmolpromise === 'undefined') {\n$3Dmolpromise = null;\n  $3Dmolpromise = loadScriptAsync('https://cdnjs.cloudflare.com/ajax/libs/3Dmol/2.0.4/3Dmol-min.js');\n}\n\nvar viewer_17007202776519156 = null;\nvar warn = document.getElementById(\"3dmolwarning_17007202776519156\");\nif(warn) {\n    warn.parentNode.removeChild(warn);\n}\n$3Dmolpromise.then(function() {\nviewer_17007202776519156 = $3Dmol.createViewer(document.getElementById(\"3dmolviewer_17007202776519156\"),{backgroundColor:\"white\"});\nviewer_17007202776519156.zoomTo();\n\tviewer_17007202776519156.addModel(\"\\n     RDKit          3D\\n\\n 18 18  0  0  0  0  0  0  0  0999 V2000\\n   -2.7148   -0.4289    0.1541 C   0  0  0  0  0  0  0  0  0  0  0  0\\n   -1.6147    0.3969    0.4458 O   0  0  0  0  0  0  0  0  0  0  0  0\\n   -0.5678    0.2730   -0.4747 C   0  0  0  0  0  0  0  0  0  0  0  0\\n    0.3619   -0.9500   -0.3396 C   0  0  0  0  0  0  0  0  0  0  0  0\\n    1.5150   -0.0469   -0.3698 N   0  0  0  0  0  0  0  0  0  0  0  0\\n    2.5812   -0.2951    0.5645 C   0  0  0  0  0  0  0  0  0  0  0  0\\n    0.6613    1.1199   -0.1312 C   0  0  0  0  0  0  0  0  0  0  0  0\\n   -3.1295   -0.1982   -0.8351 H   0  0  0  0  0  0  0  0  0  0  0  0\\n   -3.4630   -0.2281    0.9181 H   0  0  0  0  0  0  0  0  0  0  0  0\\n   -2.4397   -1.4895    0.1810 H   0  0  0  0  0  0  0  0  0  0  0  0\\n   -0.9302    0.4196   -1.5007 H   0  0  0  0  0  0  0  0  0  0  0  0\\n    0.3620   -1.6803   -1.1501 H   0  0  0  0  0  0  0  0  0  0  0  0\\n    0.2225   -1.4567    0.6235 H   0  0  0  0  0  0  0  0  0  0  0  0\\n    3.3130    0.5075    0.4816 H   0  0  0  0  0  0  0  0  0  0  0  0\\n    2.2322   -0.3494    1.6082 H   0  0  0  0  0  0  0  0  0  0  0  0\\n    3.0619   -1.2379    0.3059 H   0  0  0  0  0  0  0  0  0  0  0  0\\n    0.6292    1.4466    0.9141 H   0  0  0  0  0  0  0  0  0  0  0  0\\n    0.8848    1.9663   -0.7804 H   0  0  0  0  0  0  0  0  0  0  0  0\\n  1  2  1  0\\n  2  3  1  0\\n  3  4  1  0\\n  4  5  1  0\\n  5  6  1  0\\n  5  7  1  0\\n  7  3  1  0\\n  1  8  1  0\\n  1  9  1  0\\n  1 10  1  0\\n  3 11  1  0\\n  4 12  1  0\\n  4 13  1  0\\n  6 14  1  0\\n  6 15  1  0\\n  6 16  1  0\\n  7 17  1  0\\n  7 18  1  0\\nM  END\\n\",\"mol\");\n\tviewer_17007202776519156.addModel(\"\\n     RDKit          3D\\n\\n 18 18  0  0  0  0  0  0  0  0999 V2000\\n   -0.7862   -0.1053    2.0517 C   0  0  0  0  0  0  0  0  0  0  0  0\\n   -1.3935    0.2808    0.8345 O   0  0  0  0  0  0  0  0  0  0  0  0\\n   -0.5872    0.2544   -0.3062 C   0  0  0  0  0  0  0  0  0  0  0  0\\n    0.3739   -0.9336   -0.5178 C   0  0  0  0  0  0  0  0  0  0  0  0\\n    1.5050   -0.0642   -0.1821 N   0  0  0  0  0  0  0  0  0  0  0  0\\n    2.6878   -0.1567   -0.9946 C   0  0  0  0  0  0  0  0  0  0  0  0\\n    0.6785    1.1393   -0.3092 C   0  0  0  0  0  0  0  0  0  0  0  0\\n   -0.8199   -1.1923    2.1807 H   0  0  0  0  0  0  0  0  0  0  0  0\\n   -1.3706    0.3618    2.8436 H   0  0  0  0  0  0  0  0  0  0  0  0\\n    0.2512    0.2267    2.1143 H   0  0  0  0  0  0  0  0  0  0  0  0\\n   -1.2800    0.4424   -1.1290 H   0  0  0  0  0  0  0  0  0  0  0  0\\n    0.3744   -1.2870   -1.5559 H   0  0  0  0  0  0  0  0  0  0  0  0\\n    0.2694   -1.7853    0.1541 H   0  0  0  0  0  0  0  0  0  0  0  0\\n    3.1372   -1.1385   -0.8507 H   0  0  0  0  0  0  0  0  0  0  0  0\\n    2.4816   -0.0159   -2.0682 H   0  0  0  0  0  0  0  0  0  0  0  0\\n    3.3965    0.6053   -0.6721 H   0  0  0  0  0  0  0  0  0  0  0  0\\n    0.7924    1.8387    0.5205 H   0  0  0  0  0  0  0  0  0  0  0  0\\n    0.8106    1.6758   -1.2562 H   0  0  0  0  0  0  0  0  0  0  0  0\\n  1  2  1  0\\n  2  3  1  0\\n  3  4  1  0\\n  4  5  1  0\\n  5  6  1  0\\n  5  7  1  0\\n  7  3  1  0\\n  1  8  1  0\\n  1  9  1  0\\n  1 10  1  0\\n  3 11  1  0\\n  4 12  1  0\\n  4 13  1  0\\n  6 14  1  0\\n  6 15  1  0\\n  6 16  1  0\\n  7 17  1  0\\n  7 18  1  0\\nM  END\\n\",\"mol\");\n\tviewer_17007202776519156.addModel(\"\\n     RDKit          3D\\n\\n 18 18  0  0  0  0  0  0  0  0999 V2000\\n   -1.7251    0.0959    1.6182 C   0  0  0  0  0  0  0  0  0  0  0  0\\n   -1.7592    0.3849    0.2398 O   0  0  0  0  0  0  0  0  0  0  0  0\\n   -0.5672    0.2695   -0.4831 C   0  0  0  0  0  0  0  0  0  0  0  0\\n    0.3609   -0.9512   -0.3319 C   0  0  0  0  0  0  0  0  0  0  0  0\\n    1.5110   -0.0452   -0.3781 N   0  0  0  0  0  0  0  0  0  0  0  0\\n    2.5986   -0.2976    0.5289 C   0  0  0  0  0  0  0  0  0  0  0  0\\n    0.6656    1.1228   -0.1220 C   0  0  0  0  0  0  0  0  0  0  0  0\\n   -2.6959    0.4015    2.0046 H   0  0  0  0  0  0  0  0  0  0  0  0\\n   -0.9430    0.6543    2.1419 H   0  0  0  0  0  0  0  0  0  0  0  0\\n   -1.5906   -0.9751    1.8064 H   0  0  0  0  0  0  0  0  0  0  0  0\\n   -0.8692    0.4222   -1.5208 H   0  0  0  0  0  0  0  0  0  0  0  0\\n    0.3490   -1.6861   -1.1374 H   0  0  0  0  0  0  0  0  0  0  0  0\\n    0.2472   -1.4630    0.6307 H   0  0  0  0  0  0  0  0  0  0  0  0\\n    2.2764   -0.3600    1.5820 H   0  0  0  0  0  0  0  0  0  0  0  0\\n    3.0742   -1.2381    0.2538 H   0  0  0  0  0  0  0  0  0  0  0  0\\n    3.3280    0.5060    0.4346 H   0  0  0  0  0  0  0  0  0  0  0  0\\n    0.6708    1.4524    0.9240 H   0  0  0  0  0  0  0  0  0  0  0  0\\n    0.8850    1.9731   -0.7682 H   0  0  0  0  0  0  0  0  0  0  0  0\\n  1  2  1  0\\n  2  3  1  0\\n  3  4  1  0\\n  4  5  1  0\\n  5  6  1  0\\n  5  7  1  0\\n  7  3  1  0\\n  1  8  1  0\\n  1  9  1  0\\n  1 10  1  0\\n  3 11  1  0\\n  4 12  1  0\\n  4 13  1  0\\n  6 14  1  0\\n  6 15  1  0\\n  6 16  1  0\\n  7 17  1  0\\n  7 18  1  0\\nM  END\\n\",\"mol\");\n\tviewer_17007202776519156.addModel(\"\\n     RDKit          3D\\n\\n 18 18  0  0  0  0  0  0  0  0999 V2000\\n   -2.2055    1.2915    1.0047 C   0  0  0  0  0  0  0  0  0  0  0  0\\n   -1.3690    0.1779    0.8164 O   0  0  0  0  0  0  0  0  0  0  0  0\\n   -0.5870    0.2550   -0.3412 C   0  0  0  0  0  0  0  0  0  0  0  0\\n    0.3672   -0.9375   -0.4816 C   0  0  0  0  0  0  0  0  0  0  0  0\\n    1.5144   -0.0616   -0.2208 N   0  0  0  0  0  0  0  0  0  0  0  0\\n    2.6267   -0.1350   -1.1281 C   0  0  0  0  0  0  0  0  0  0  0  0\\n    0.6757    1.1401   -0.2716 C   0  0  0  0  0  0  0  0  0  0  0  0\\n   -2.8997    1.4108    0.1624 H   0  0  0  0  0  0  0  0  0  0  0  0\\n   -1.6303    2.2174    1.1181 H   0  0  0  0  0  0  0  0  0  0  0  0\\n   -2.7694    1.1024    1.9156 H   0  0  0  0  0  0  0  0  0  0  0  0\\n   -1.2259    0.4502   -1.2159 H   0  0  0  0  0  0  0  0  0  0  0  0\\n    0.3588   -1.3961   -1.4759 H   0  0  0  0  0  0  0  0  0  0  0  0\\n    0.2407   -1.7021    0.2849 H   0  0  0  0  0  0  0  0  0  0  0  0\\n    2.3369    0.0144   -2.1818 H   0  0  0  0  0  0  0  0  0  0  0  0\\n    3.3538    0.6290   -0.8548 H   0  0  0  0  0  0  0  0  0  0  0  0\\n    3.0942   -1.1140   -1.0305 H   0  0  0  0  0  0  0  0  0  0  0  0\\n    0.7743    1.7485    0.6291 H   0  0  0  0  0  0  0  0  0  0  0  0\\n    0.8255    1.7637   -1.1603 H   0  0  0  0  0  0  0  0  0  0  0  0\\n  1  2  1  0\\n  2  3  1  0\\n  3  4  1  0\\n  4  5  1  0\\n  5  6  1  0\\n  5  7  1  0\\n  7  3  1  0\\n  1  8  1  0\\n  1  9  1  0\\n  1 10  1  0\\n  3 11  1  0\\n  4 12  1  0\\n  4 13  1  0\\n  6 14  1  0\\n  6 15  1  0\\n  6 16  1  0\\n  7 17  1  0\\n  7 18  1  0\\nM  END\\n\",\"mol\");\n\tviewer_17007202776519156.setStyle({\"stick\": {}});\n\tviewer_17007202776519156.setBackgroundColor(\"black\");\n\tviewer_17007202776519156.zoomTo();\nviewer_17007202776519156.render();\n});\n</script>"
     },
     "metadata": {},
     "output_type": "display_data"
    }
   ],
   "source": [
    "query = Chem.MolFromSmarts('C1CCN1')\n",
    "atom_ids = mol.GetSubstructMatch(query)\n",
    "print(atom_ids)\n",
    "AllChem.AlignMolConformers(mol, atomIds=atom_ids)\n",
    "draw3Dconfs(mol, autoalign=False)"
   ],
   "metadata": {
    "collapsed": false,
    "ExecuteTime": {
     "end_time": "2023-11-23T06:17:57.712518200Z",
     "start_time": "2023-11-23T06:17:57.644516200Z"
    }
   }
  },
  {
   "cell_type": "code",
   "execution_count": 5,
   "outputs": [
    {
     "name": "stdout",
     "output_type": "stream",
     "text": [
      "!B3LYP DEF2-SVP OPT\n",
      "%geom MaxIter 100 end\n",
      "%cpcm\n",
      "  smd true\n",
      "  SMDsolvent \"THF\"\n",
      "  end\n",
      "%pal nprocs 22 end\n",
      "*xyz 0 1\n",
      "C           -2.71478820         -0.42885540          0.15406937\n",
      "O           -1.61467692          0.39694184          0.44575716\n",
      "C           -0.56782235          0.27296990         -0.47466576\n",
      "C            0.36187249         -0.95002327         -0.33959139\n",
      "N            1.51499860         -0.04688833         -0.36976593\n",
      "C            2.58121940         -0.29507022          0.56449033\n",
      "C            0.66125759          1.11992193         -0.13116444\n",
      "H           -3.12947443         -0.19821137         -0.83506216\n",
      "H           -3.46298983         -0.22811082          0.91812373\n",
      "H           -2.43967404         -1.48951654          0.18103452\n",
      "H           -0.93022880          0.41958554         -1.50069853\n",
      "H            0.36201809         -1.68034166         -1.15006164\n",
      "H            0.22254057         -1.45665655          0.62351908\n",
      "H            3.31303418          0.50745220          0.48160651\n",
      "H            2.23224688         -0.34939530          1.60816156\n",
      "H            3.06194910         -1.23791042          0.30588888\n",
      "H            0.62918941          1.44664926          0.91405364\n",
      "H            0.88484038          1.96632260         -0.78042666\n",
      "*\n"
     ]
    }
   ],
   "source": [
    "### QM calculation by ORCA for each conformer\n",
    "\n",
    "def gen_input(conf, options: dict):\n",
    "    method, solvent = options['method'], options.get('solvent')\n",
    "    geom_maxiter, n_jobs = options.get('geom_maxiter', 100), options.get('n_jobs', 8)\n",
    "\n",
    "    input_str =\"\"\n",
    "    input_str += f\"!{method}\\n\"\n",
    "    input_str += f\"%geom MaxIter {geom_maxiter} end\\n\"\n",
    "    if solvent:\n",
    "        input_str += (f\"%cpcm\\n\"\n",
    "        f\"  smd true\\n\"\n",
    "        f\"  SMDsolvent \\\"{solvent}\\\"\\n\"\n",
    "        f\"  end\\n\")\n",
    "    \n",
    "    # input_str += (f\"%output\\n \"\n",
    "    #     f\"  PrintLevel Huge\\n\"\n",
    "    #     # f\"  Print[P_MOs] 1\\n\"\n",
    "    #     # f\"  Print[ P_gradient ] 1\\n\"\n",
    "    #     f\"  end\\n\")    \n",
    "    input_str += f\"%pal nprocs {n_jobs} end\\n\"\n",
    "    input_str += gen_xyz_block(conf)\n",
    "    return input_str\n",
    "\n",
    "def gen_xyz_block(conf):\n",
    "    mol = conf.GetOwningMol()\n",
    "    xyz_block = \"*xyz 0 1\\n\"\n",
    "    for i in range(conf.GetNumAtoms()):\n",
    "        symbol = mol.GetAtomWithIdx(i).GetSymbol()\n",
    "        x, y, z = conf.GetAtomPosition(i)\n",
    "        xyz_block += f\"{symbol:3}{x:20.8f}{y:20.8f}{z:20.8f}\\n\"\n",
    "    xyz_block += \"*\\n\"\n",
    "    return xyz_block\n",
    "\n",
    "def write_input(content):\n",
    "    fname = 'task.inp'\n",
    "    with open(fname, 'w') as f:\n",
    "        f.write(content)\n",
    "    return fname\n",
    "\n",
    "def write_output(content):\n",
    "    fname = 'output'\n",
    "    with open(fname, 'w') as f:\n",
    "        f.write(content)\n",
    "    return fname\n",
    "\n",
    "options = {\n",
    "    'method': 'B3LYP DEF2-SVP OPT',\n",
    "    'solvent': 'THF',\n",
    "    'nmr_atoms': [0],\n",
    "    'geom_maxiter': 100,\n",
    "    'n_jobs': 22,\n",
    "}    \n",
    "\n",
    "conf = mol.GetConformer()\n",
    "print(gen_input(conf, options))"
   ],
   "metadata": {
    "collapsed": false,
    "ExecuteTime": {
     "end_time": "2023-11-23T06:17:57.722518900Z",
     "start_time": "2023-11-23T06:17:57.665518100Z"
    }
   }
  },
  {
   "cell_type": "code",
   "execution_count": 6,
   "outputs": [],
   "source": [
    "def set_orca_env():\n",
    "    ORCA_PATH = \"/opt/orca-5.0.3\"\n",
    "    os.environ['PATH'] = f\"{ORCA_PATH}:{os.environ.get('PATH')}\"\n",
    "    os.environ['LD_LIBRARY_PATH'] = f\"{ORCA_PATH}:{os.environ.get('LD_LIBRARY_PATH', '')}\"\n",
    "    # supposed to be path\n",
    "    os.environ['PATH'] = f\"/opt/openmpi-4.1.1/bin:{os.environ['PATH']}\"\n",
    "    os.environ['LD_LIBRARY_PATH'] = f\"/opt/openmpi-4.1.1/lib:{os.environ['LD_LIBRARY_PATH']}\"\n",
    "    \n",
    "    # intel MKL\n",
    "    os.environ['LD_LIBRARY_PATH'] = f\"/usr/lib/x86_64-linux-gnu:{os.environ['LD_LIBRARY_PATH']}\"\n",
    "    \n",
    "    # nbo\n",
    "    NBOBIN = '/opt/NBO6'\n",
    "    os.environ['NBOEXE'] = f\"{NBOBIN}/nbo6.exe\"\n",
    "    os.environ['GENEXE'] = f\"{NBOBIN}/gennbo6.exe\"\n",
    "    os.environ['PATH'] = f\"{NBOBIN}:{os.environ['PATH']}\"\n",
    "\n",
    "    # real openmpi path\n",
    "    # os.environ['LD_LIBRARY_PATH'] = \"/opt/orca-5.0.3/openmpi-4.1.1/lib:/opt/orca-5.0.3/orca:\"\n",
    "    # os.environ['PATH'] = f\"/opt/orca-5.0.3/openmpi-4.1.1/bin:{os.environ['PATH']}\"\n",
    "\n",
    "if 'orca' not in os.environ['PATH']:\n",
    "    set_orca_env()"
   ],
   "metadata": {
    "collapsed": false,
    "ExecuteTime": {
     "end_time": "2023-11-23T06:17:57.722518900Z",
     "start_time": "2023-11-23T06:17:57.681520100Z"
    }
   }
  },
  {
   "cell_type": "code",
   "execution_count": 7,
   "outputs": [
    {
     "data": {
      "text/plain": "'/usr/lib/x86_64-linux-gnu:/opt/openmpi-4.1.1/lib:/opt/orca-5.0.3:'"
     },
     "execution_count": 7,
     "metadata": {},
     "output_type": "execute_result"
    }
   ],
   "source": [
    "os.environ['LD_LIBRARY_PATH']"
   ],
   "metadata": {
    "collapsed": false,
    "ExecuteTime": {
     "end_time": "2023-11-23T06:17:57.722518900Z",
     "start_time": "2023-11-23T06:17:57.693518500Z"
    }
   }
  },
  {
   "cell_type": "code",
   "execution_count": 8,
   "outputs": [],
   "source": [
    "import cclib"
   ],
   "metadata": {
    "collapsed": false,
    "ExecuteTime": {
     "end_time": "2023-11-23T06:17:58.000808500Z",
     "start_time": "2023-11-23T06:17:57.708518300Z"
    }
   }
  },
  {
   "cell_type": "code",
   "execution_count": 9,
   "outputs": [
    {
     "name": "stderr",
     "output_type": "stream",
     "text": [
      "[23-11-2023 07:18:02] [INFO] Identified logfile to be in ORCA format\n"
     ]
    }
   ],
   "source": [
    "saved_work_dir = os.getcwd()\n",
    "tmp_path = _create_tmp_dir(ORCA_TMP)\n",
    "os.chdir(tmp_path)\n",
    "\n",
    "data = None\n",
    "\n",
    "options = {\n",
    "    'method': 'B3LYP  6-31G',\n",
    "    # 'method': 'B3LYP  6-31++G(d,p) OPT',\n",
    "    'solvent': None,\n",
    "    'geom_maxiter': 100,\n",
    "    'n_jobs': 16,\n",
    "}\n",
    "\n",
    "input_str = gen_input(conf, options)\n",
    "fname = write_input(input_str)\n",
    "    \n",
    "res = subprocess.run(\n",
    "    ['/opt/orca-5.0.3/orca', fname, '--use-hwthread-cpus'], \n",
    "    capture_output=True,\n",
    "    text=True\n",
    ")\n",
    "\n",
    "fname = write_output(res.stdout)\n",
    "\n",
    "# parse ORCA output\n",
    "data = cclib.io.ccread(fname)    \n",
    "\n",
    "# resotore\n",
    "os.chdir(saved_work_dir)\n",
    "shutil.rmtree(tmp_path)\n",
    "\n",
    "if not data.metadata['success']:\n",
    "    print('Failed')"
   ],
   "metadata": {
    "collapsed": false,
    "ExecuteTime": {
     "end_time": "2023-11-23T06:18:02.474483Z",
     "start_time": "2023-11-23T06:17:58.005808700Z"
    }
   }
  },
  {
   "cell_type": "code",
   "execution_count": 10,
   "outputs": [],
   "source": [
    "def update_conformer(conf, cclib_data):\n",
    "    SetPositions(conf, cclib_data.atomcoords[-1])\n",
    "    conf.SetDoubleProp('energy', cclib_data.scfenergies[-1])\n",
    "\n",
    "\n",
    "def run_orca(conf, options):\n",
    "    # save current dir\n",
    "    saved_work_dir = os.getcwd()\n",
    "    tmp_path = _create_tmp_dir(ORCA_TMP)\n",
    "    os.chdir(tmp_path)    \n",
    "        \n",
    "    input_str = gen_input(conf, options)\n",
    "    fname = write_input(input_str)\n",
    "        \n",
    "    output = subprocess.run(\n",
    "        ['/opt/orca-5.0.3/orca', fname, '--use-hwthread-cpus'], \n",
    "        capture_output=True,\n",
    "        text=True\n",
    "    ).stdout\n",
    "    \n",
    "    fname = write_output(output)\n",
    "    \n",
    "    # parse ORCA output\n",
    "    data = cclib.io.ccread(fname)    \n",
    "    \n",
    "    # restore\n",
    "    os.chdir(saved_work_dir)\n",
    "    shutil.rmtree(tmp_path)\n",
    "    \n",
    "    success = data.metadata['success']\n",
    "    conf.SetBoolProp('success', success)\n",
    "\n",
    "    # DEV\n",
    "    print('Success:', success)\n",
    "    \n",
    "    # update conformer\n",
    "    if success:\n",
    "        update_conformer(conf, data)\n",
    "        # DEV\n",
    "        print('Elapsed time:', data.metadata['cpu_time'][0])\n",
    "        print('Num iter:', len(data.atomcoords))\n",
    "    else:\n",
    "        print(output)\n",
    "    \n",
    "    return data, output\n",
    "\n",
    "\n",
    "\n",
    "\n",
    "# options = {\n",
    "#     'method': 'M062X 6-311++G(d,p) OPT NMR',\n",
    "#     'solvent': 'THF',\n",
    "#     'geom_maxiter': 100,\n",
    "#     'n_jobs': 16,\n",
    "# }\n",
    "\n",
    "\n",
    "# for conf in deepcopy(mol).GetConformers():\n",
    "#     print(f'======= Conformer {conf.GetId()} ======= ')\n",
    "#     data, output = run_orca(conf, options)\n",
    "#     break\n",
    "# single_point(conf, options)"
   ],
   "metadata": {
    "collapsed": false,
    "ExecuteTime": {
     "end_time": "2023-11-23T06:18:02.484481800Z",
     "start_time": "2023-11-23T06:18:02.444054300Z"
    }
   }
  },
  {
   "cell_type": "code",
   "execution_count": 11,
   "outputs": [],
   "source": [
    "# query = Chem.MolFromSmarts('C1CCN1')\n",
    "# \n",
    "# atom_ids = mol.GetSubstructMatch(query)\n",
    "# print(atom_ids)\n",
    "# AllChem.AlignMolConformers(mol, atomIds=atom_ids)\n",
    "# \n",
    "# draw3Dconfs(mol, autoalign=False)"
   ],
   "metadata": {
    "collapsed": false,
    "ExecuteTime": {
     "end_time": "2023-11-23T06:18:02.484481800Z",
     "start_time": "2023-11-23T06:18:02.457056Z"
    }
   }
  },
  {
   "cell_type": "code",
   "execution_count": 12,
   "outputs": [
    {
     "name": "stderr",
     "output_type": "stream",
     "text": [
      "[23-11-2023 07:20:20] [INFO] Identified logfile to be in ORCA format\n"
     ]
    },
    {
     "name": "stdout",
     "output_type": "stream",
     "text": [
      "Success: True\n",
      "Elapsed time: 0:02:17.911000\n",
      "Num iter: 9\n",
      "CPU times: user 140 ms, sys: 46.8 ms, total: 187 ms\n",
      "Wall time: 2min 17s\n"
     ]
    }
   ],
   "source": [
    "%%time\n",
    "options = {    \n",
    "    'solvent': 'THF',\n",
    "    'geom_maxiter': 100,\n",
    "    'n_jobs': 16,\n",
    "}\n",
    "\n",
    "conf = deepcopy(mol).GetConformer()\n",
    "options['method'] = 'M062X 6-311++G(d,p) OPT NMR'\n",
    "data, output = run_orca(conf, options)"
   ],
   "metadata": {
    "collapsed": false,
    "ExecuteTime": {
     "end_time": "2023-11-23T06:20:20.469112700Z",
     "start_time": "2023-11-23T06:18:02.475487100Z"
    }
   }
  },
  {
   "cell_type": "code",
   "execution_count": 13,
   "outputs": [
    {
     "name": "stderr",
     "output_type": "stream",
     "text": [
      "[23-11-2023 07:21:36] [INFO] Identified logfile to be in ORCA format\n"
     ]
    },
    {
     "name": "stdout",
     "output_type": "stream",
     "text": [
      "Success: True\n",
      "Elapsed time: 0:01:16.214000\n",
      "Num iter: 9\n"
     ]
    },
    {
     "name": "stderr",
     "output_type": "stream",
     "text": [
      "[23-11-2023 07:22:54] [INFO] Identified logfile to be in ORCA format\n"
     ]
    },
    {
     "name": "stdout",
     "output_type": "stream",
     "text": [
      "Success: True\n",
      "Elapsed time: 0:01:17.614000\n",
      "Num iter: 5\n",
      "CPU times: user 183 ms, sys: 96 ms, total: 279 ms\n",
      "Wall time: 2min 33s\n"
     ]
    }
   ],
   "source": [
    "%%time\n",
    "\n",
    "conf = deepcopy(mol).GetConformer()\n",
    "\n",
    "options['method'] = 'M062X 6-31G(d,p) OPT'\n",
    "run_orca(conf, options)\n",
    "\n",
    "options['method'] = 'M062X 6-311++G(d,p) OPT NMR'\n",
    "data, output = run_orca(conf, options)"
   ],
   "metadata": {
    "collapsed": false,
    "ExecuteTime": {
     "end_time": "2023-11-23T06:22:54.452452Z",
     "start_time": "2023-11-23T06:20:20.512122900Z"
    }
   }
  },
  {
   "cell_type": "code",
   "execution_count": 44,
   "outputs": [
    {
     "name": "stderr",
     "output_type": "stream",
     "text": [
      "[23-11-2023 08:08:50] [INFO] Identified logfile to be in ORCA format\n"
     ]
    },
    {
     "name": "stdout",
     "output_type": "stream",
     "text": [
      "Success: True\n",
      "Elapsed time: 0:02:26.726000\n",
      "Num iter: 9\n",
      "CPU times: user 141 ms, sys: 31 ms, total: 172 ms\n",
      "Wall time: 2min 26s\n"
     ]
    }
   ],
   "source": [
    "%%time\n",
    "\n",
    "conf = deepcopy(mol).GetConformer()\n",
    "options['method'] = 'M062X def2-TZVP OPT'\n",
    "data, output = run_orca(conf, options)"
   ],
   "metadata": {
    "collapsed": false,
    "ExecuteTime": {
     "end_time": "2023-11-23T07:08:50.406763800Z",
     "start_time": "2023-11-23T07:06:23.552348200Z"
    }
   }
  },
  {
   "cell_type": "code",
   "execution_count": 37,
   "outputs": [
    {
     "name": "stderr",
     "output_type": "stream",
     "text": [
      "[23-11-2023 07:40:13] [INFO] Identified logfile to be in ORCA format\n"
     ]
    },
    {
     "name": "stdout",
     "output_type": "stream",
     "text": [
      "Success: True\n",
      "Elapsed time: 0:02:58.253000\n",
      "Num iter: 9\n",
      "CPU times: user 143 ms, sys: 32.7 ms, total: 176 ms\n",
      "Wall time: 2min 58s\n"
     ]
    }
   ],
   "source": [
    "%%time\n",
    "\n",
    "conf = deepcopy(mol).GetConformer()\n",
    "options['method'] = 'M062X aug-cc-pVDZ OPT'\n",
    "data, output = run_orca(conf, options)"
   ],
   "metadata": {
    "collapsed": false,
    "ExecuteTime": {
     "end_time": "2023-11-23T06:40:13.191675100Z",
     "start_time": "2023-11-23T06:37:14.805228500Z"
    }
   }
  },
  {
   "cell_type": "code",
   "execution_count": 41,
   "outputs": [
    {
     "name": "stderr",
     "output_type": "stream",
     "text": [
      "[23-11-2023 07:54:31] [INFO] Identified logfile to be in ORCA format\n"
     ]
    },
    {
     "name": "stdout",
     "output_type": "stream",
     "text": [
      "Success: True\n",
      "Elapsed time: 0:03:20.218000\n",
      "Num iter: 9\n",
      "CPU times: user 129 ms, sys: 66.7 ms, total: 196 ms\n",
      "Wall time: 3min 20s\n"
     ]
    }
   ],
   "source": [
    "%%time\n",
    "\n",
    "conf = deepcopy(mol).GetConformer()\n",
    "options['method'] = 'M062X cc-pVTZ OPT'\n",
    "data, output = run_orca(conf, options)"
   ],
   "metadata": {
    "collapsed": false,
    "ExecuteTime": {
     "end_time": "2023-11-23T06:54:31.988419300Z",
     "start_time": "2023-11-23T06:51:11.680848900Z"
    }
   }
  },
  {
   "cell_type": "code",
   "execution_count": 42,
   "outputs": [
    {
     "name": "stderr",
     "output_type": "stream",
     "text": [
      "[23-11-2023 08:03:34] [INFO] Identified logfile to be in ORCA format\n"
     ]
    },
    {
     "name": "stdout",
     "output_type": "stream",
     "text": [
      "Success: True\n",
      "Elapsed time: 0:09:02.365000\n",
      "Num iter: 9\n",
      "CPU times: user 160 ms, sys: 83.4 ms, total: 243 ms\n",
      "Wall time: 9min 2s\n"
     ]
    }
   ],
   "source": [
    "%%time\n",
    "\n",
    "conf = deepcopy(mol).GetConformer()\n",
    "options['method'] = 'M062X aug-cc-pVTZ OPT'\n",
    "data, output = run_orca(conf, options)"
   ],
   "metadata": {
    "collapsed": false,
    "ExecuteTime": {
     "end_time": "2023-11-23T07:03:34.482749100Z",
     "start_time": "2023-11-23T06:54:31.983419500Z"
    }
   }
  },
  {
   "cell_type": "code",
   "execution_count": 45,
   "outputs": [
    {
     "name": "stderr",
     "output_type": "stream",
     "text": [
      "[23-11-2023 08:30:21] [INFO] Identified logfile to be in ORCA format\n"
     ]
    },
    {
     "name": "stdout",
     "output_type": "stream",
     "text": [
      "Success: True\n",
      "Elapsed time: 0:01:21.496000\n",
      "Num iter: 9\n"
     ]
    },
    {
     "name": "stderr",
     "output_type": "stream",
     "text": [
      "[23-11-2023 08:35:16] [INFO] Identified logfile to be in ORCA format\n"
     ]
    },
    {
     "name": "stdout",
     "output_type": "stream",
     "text": [
      "Success: True\n",
      "Elapsed time: 0:04:55.687000\n",
      "Num iter: 5\n",
      "CPU times: user 215 ms, sys: 92.4 ms, total: 308 ms\n",
      "Wall time: 6min 17s\n"
     ]
    }
   ],
   "source": [
    "%%time\n",
    "\n",
    "conf = deepcopy(mol).GetConformer()\n",
    "options['method'] = 'M062X cc-pVDZ OPT'\n",
    "data, output = run_orca(conf, options)\n",
    "\n",
    "options['method'] = 'M062X aug-cc-pVTZ OPT'\n",
    "data, output = run_orca(conf, options)"
   ],
   "metadata": {
    "collapsed": false,
    "ExecuteTime": {
     "end_time": "2023-11-23T07:35:17.047151300Z",
     "start_time": "2023-11-23T07:28:59.714004300Z"
    }
   }
  },
  {
   "cell_type": "code",
   "execution_count": 43,
   "outputs": [
    {
     "name": "stdout",
     "output_type": "stream",
     "text": [
      "(3, 2, 6, 4)\n",
      "num conformers 4\n"
     ]
    },
    {
     "data": {
      "application/3dmoljs_load.v0": "<div id=\"3dmolviewer_17007230624933908\"  style=\"position: relative; width: 600px; height: 400px;\">\n        <p id=\"3dmolwarning_17007230624933908\" style=\"background-color:#ffcccc;color:black\">You appear to be running in JupyterLab (or JavaScript failed to load for some other reason).  You need to install the 3dmol extension: <br>\n        <tt>jupyter labextension install jupyterlab_3dmol</tt></p>\n        </div>\n<script>\n\nvar loadScriptAsync = function(uri){\n  return new Promise((resolve, reject) => {\n    //this is to ignore the existence of requirejs amd\n    var savedexports, savedmodule;\n    if (typeof exports !== 'undefined') savedexports = exports;\n    else exports = {}\n    if (typeof module !== 'undefined') savedmodule = module;\n    else module = {}\n\n    var tag = document.createElement('script');\n    tag.src = uri;\n    tag.async = true;\n    tag.onload = () => {\n        exports = savedexports;\n        module = savedmodule;\n        resolve();\n    };\n  var firstScriptTag = document.getElementsByTagName('script')[0];\n  firstScriptTag.parentNode.insertBefore(tag, firstScriptTag);\n});\n};\n\nif(typeof $3Dmolpromise === 'undefined') {\n$3Dmolpromise = null;\n  $3Dmolpromise = loadScriptAsync('https://cdnjs.cloudflare.com/ajax/libs/3Dmol/2.0.4/3Dmol-min.js');\n}\n\nvar viewer_17007230624933908 = null;\nvar warn = document.getElementById(\"3dmolwarning_17007230624933908\");\nif(warn) {\n    warn.parentNode.removeChild(warn);\n}\n$3Dmolpromise.then(function() {\nviewer_17007230624933908 = $3Dmol.createViewer(document.getElementById(\"3dmolviewer_17007230624933908\"),{backgroundColor:\"white\"});\nviewer_17007230624933908.zoomTo();\n\tviewer_17007230624933908.addModel(\"\\n     RDKit          3D\\n\\n 18 18  0  0  0  0  0  0  0  0999 V2000\\n   -2.7148   -0.4289    0.1541 C   0  0  0  0  0  0  0  0  0  0  0  0\\n   -1.6147    0.3969    0.4458 O   0  0  0  0  0  0  0  0  0  0  0  0\\n   -0.5678    0.2730   -0.4747 C   0  0  0  0  0  0  0  0  0  0  0  0\\n    0.3619   -0.9500   -0.3396 C   0  0  0  0  0  0  0  0  0  0  0  0\\n    1.5150   -0.0469   -0.3698 N   0  0  0  0  0  0  0  0  0  0  0  0\\n    2.5812   -0.2951    0.5645 C   0  0  0  0  0  0  0  0  0  0  0  0\\n    0.6613    1.1199   -0.1312 C   0  0  0  0  0  0  0  0  0  0  0  0\\n   -3.1295   -0.1982   -0.8351 H   0  0  0  0  0  0  0  0  0  0  0  0\\n   -3.4630   -0.2281    0.9181 H   0  0  0  0  0  0  0  0  0  0  0  0\\n   -2.4397   -1.4895    0.1810 H   0  0  0  0  0  0  0  0  0  0  0  0\\n   -0.9302    0.4196   -1.5007 H   0  0  0  0  0  0  0  0  0  0  0  0\\n    0.3620   -1.6803   -1.1501 H   0  0  0  0  0  0  0  0  0  0  0  0\\n    0.2225   -1.4567    0.6235 H   0  0  0  0  0  0  0  0  0  0  0  0\\n    3.3130    0.5075    0.4816 H   0  0  0  0  0  0  0  0  0  0  0  0\\n    2.2322   -0.3494    1.6082 H   0  0  0  0  0  0  0  0  0  0  0  0\\n    3.0619   -1.2379    0.3059 H   0  0  0  0  0  0  0  0  0  0  0  0\\n    0.6292    1.4466    0.9141 H   0  0  0  0  0  0  0  0  0  0  0  0\\n    0.8848    1.9663   -0.7804 H   0  0  0  0  0  0  0  0  0  0  0  0\\n  1  2  1  0\\n  2  3  1  0\\n  3  4  1  0\\n  4  5  1  0\\n  5  6  1  0\\n  5  7  1  0\\n  7  3  1  0\\n  1  8  1  0\\n  1  9  1  0\\n  1 10  1  0\\n  3 11  1  0\\n  4 12  1  0\\n  4 13  1  0\\n  6 14  1  0\\n  6 15  1  0\\n  6 16  1  0\\n  7 17  1  0\\n  7 18  1  0\\nM  END\\n\",\"mol\");\n\tviewer_17007230624933908.setStyle({\"stick\": {}});\n\tviewer_17007230624933908.setBackgroundColor(\"black\");\n\tviewer_17007230624933908.zoomTo();\nviewer_17007230624933908.render();\n});\n</script>",
      "text/html": "<div id=\"3dmolviewer_17007230624933908\"  style=\"position: relative; width: 600px; height: 400px;\">\n        <p id=\"3dmolwarning_17007230624933908\" style=\"background-color:#ffcccc;color:black\">You appear to be running in JupyterLab (or JavaScript failed to load for some other reason).  You need to install the 3dmol extension: <br>\n        <tt>jupyter labextension install jupyterlab_3dmol</tt></p>\n        </div>\n<script>\n\nvar loadScriptAsync = function(uri){\n  return new Promise((resolve, reject) => {\n    //this is to ignore the existence of requirejs amd\n    var savedexports, savedmodule;\n    if (typeof exports !== 'undefined') savedexports = exports;\n    else exports = {}\n    if (typeof module !== 'undefined') savedmodule = module;\n    else module = {}\n\n    var tag = document.createElement('script');\n    tag.src = uri;\n    tag.async = true;\n    tag.onload = () => {\n        exports = savedexports;\n        module = savedmodule;\n        resolve();\n    };\n  var firstScriptTag = document.getElementsByTagName('script')[0];\n  firstScriptTag.parentNode.insertBefore(tag, firstScriptTag);\n});\n};\n\nif(typeof $3Dmolpromise === 'undefined') {\n$3Dmolpromise = null;\n  $3Dmolpromise = loadScriptAsync('https://cdnjs.cloudflare.com/ajax/libs/3Dmol/2.0.4/3Dmol-min.js');\n}\n\nvar viewer_17007230624933908 = null;\nvar warn = document.getElementById(\"3dmolwarning_17007230624933908\");\nif(warn) {\n    warn.parentNode.removeChild(warn);\n}\n$3Dmolpromise.then(function() {\nviewer_17007230624933908 = $3Dmol.createViewer(document.getElementById(\"3dmolviewer_17007230624933908\"),{backgroundColor:\"white\"});\nviewer_17007230624933908.zoomTo();\n\tviewer_17007230624933908.addModel(\"\\n     RDKit          3D\\n\\n 18 18  0  0  0  0  0  0  0  0999 V2000\\n   -2.7148   -0.4289    0.1541 C   0  0  0  0  0  0  0  0  0  0  0  0\\n   -1.6147    0.3969    0.4458 O   0  0  0  0  0  0  0  0  0  0  0  0\\n   -0.5678    0.2730   -0.4747 C   0  0  0  0  0  0  0  0  0  0  0  0\\n    0.3619   -0.9500   -0.3396 C   0  0  0  0  0  0  0  0  0  0  0  0\\n    1.5150   -0.0469   -0.3698 N   0  0  0  0  0  0  0  0  0  0  0  0\\n    2.5812   -0.2951    0.5645 C   0  0  0  0  0  0  0  0  0  0  0  0\\n    0.6613    1.1199   -0.1312 C   0  0  0  0  0  0  0  0  0  0  0  0\\n   -3.1295   -0.1982   -0.8351 H   0  0  0  0  0  0  0  0  0  0  0  0\\n   -3.4630   -0.2281    0.9181 H   0  0  0  0  0  0  0  0  0  0  0  0\\n   -2.4397   -1.4895    0.1810 H   0  0  0  0  0  0  0  0  0  0  0  0\\n   -0.9302    0.4196   -1.5007 H   0  0  0  0  0  0  0  0  0  0  0  0\\n    0.3620   -1.6803   -1.1501 H   0  0  0  0  0  0  0  0  0  0  0  0\\n    0.2225   -1.4567    0.6235 H   0  0  0  0  0  0  0  0  0  0  0  0\\n    3.3130    0.5075    0.4816 H   0  0  0  0  0  0  0  0  0  0  0  0\\n    2.2322   -0.3494    1.6082 H   0  0  0  0  0  0  0  0  0  0  0  0\\n    3.0619   -1.2379    0.3059 H   0  0  0  0  0  0  0  0  0  0  0  0\\n    0.6292    1.4466    0.9141 H   0  0  0  0  0  0  0  0  0  0  0  0\\n    0.8848    1.9663   -0.7804 H   0  0  0  0  0  0  0  0  0  0  0  0\\n  1  2  1  0\\n  2  3  1  0\\n  3  4  1  0\\n  4  5  1  0\\n  5  6  1  0\\n  5  7  1  0\\n  7  3  1  0\\n  1  8  1  0\\n  1  9  1  0\\n  1 10  1  0\\n  3 11  1  0\\n  4 12  1  0\\n  4 13  1  0\\n  6 14  1  0\\n  6 15  1  0\\n  6 16  1  0\\n  7 17  1  0\\n  7 18  1  0\\nM  END\\n\",\"mol\");\n\tviewer_17007230624933908.setStyle({\"stick\": {}});\n\tviewer_17007230624933908.setBackgroundColor(\"black\");\n\tviewer_17007230624933908.zoomTo();\nviewer_17007230624933908.render();\n});\n</script>"
     },
     "metadata": {},
     "output_type": "display_data"
    }
   ],
   "source": [
    "query = Chem.MolFromSmarts('C1CCN1')\n",
    "atom_ids = mol.GetSubstructMatch(query)\n",
    "print(atom_ids)\n",
    "AllChem.AlignMolConformers(mol, atomIds=atom_ids)\n",
    "draw3Dconfs(mol, confIds=[0], autoalign=False)"
   ],
   "metadata": {
    "collapsed": false,
    "ExecuteTime": {
     "end_time": "2023-11-23T07:04:22.544700400Z",
     "start_time": "2023-11-23T07:04:22.484796300Z"
    }
   }
  },
  {
   "cell_type": "code",
   "execution_count": 52,
   "outputs": [
    {
     "data": {
      "text/plain": "[array([[ 0.00000000e+00,  1.75780800e-01,  1.13529000e-03],\n        [-7.83250489e-02,  1.44294260e-01,  9.00510000e-04],\n        [-3.82209220e-02,  3.60672850e-01,  2.12364000e-03],\n        [-5.95070839e-02,  3.45931600e-02,  3.53380000e-04],\n        [-1.10323800e-02,  1.38156100e-02,  1.32650000e-04],\n        [-2.43487796e-04,  4.96315000e-03,  5.04600000e-05],\n        [-3.80466000e-05,  2.50000000e-04,  7.07300000e-03],\n        [-5.39920000e-06,  1.49000000e-04,  3.84100000e-03],\n        [-3.79500000e-07,  6.80000000e-05,  8.82000000e-04],\n        [-4.23500000e-07,  1.50000000e-05,  6.69000000e-04],\n        [-8.50000000e-09,  7.00000000e-06,  7.70000000e-05],\n        [-5.17330000e-09,  3.99680000e-15,  1.17560000e-17]]),\n array([[-3.27054152e+02,  2.26400000e-03,  6.88800000e-03],\n        [-3.97856500e-04,  4.46000000e-04,  5.24900000e-03],\n        [-3.05938000e-05,  2.93000000e-04,  2.26000000e-03],\n        [-1.46754000e-05,  6.50000000e-05,  7.32000000e-04],\n        [-2.08900000e-07,  4.30000000e-05,  2.61000000e-04],\n        [-4.53000000e-07,  1.10000000e-05,  5.50000000e-05],\n        [-1.56000000e-08,  4.00000000e-06,  4.50000000e-05],\n        [-1.07530000e-09,  2.88660000e-15,  4.50000000e-05]]),\n array([[-3.27054524e+02,  1.14600000e-03,  4.12200000e-03],\n        [-7.85327000e-05,  2.50000000e-04,  1.13900000e-03],\n        [-9.82570000e-06,  1.04000000e-04,  4.15000000e-04],\n        [-3.89300000e-07,  3.50000000e-05,  1.28000000e-04],\n        [-4.02800000e-07,  9.00000000e-06,  4.00000000e-05],\n        [-9.60000000e-09,  4.00000000e-06,  5.30000000e-05],\n        [-2.12250000e-09,  3.10860000e-15,  5.30000000e-05]]),\n array([[-3.27054391e+02,  1.76200000e-03,  6.51000000e-03],\n        [-1.96970100e-04,  4.03000000e-04,  1.10700000e-03],\n        [-2.60566000e-05,  1.60000000e-04,  6.42000000e-04],\n        [-1.37410000e-06,  4.50000000e-05,  1.68000000e-04],\n        [-4.04100000e-07,  2.20000000e-05,  8.70000000e-05],\n        [-7.07000000e-08,  5.00000000e-06,  4.10000000e-05],\n        [-4.40000000e-09,  2.00000000e-06,  3.80000000e-05],\n        [ 3.11620000e-10,  3.55270000e-15,  3.80000000e-05]]),\n array([[-3.2705457e+02,  8.4800000e-04,  5.5840000e-03],\n        [-3.7478000e-05,  1.9000000e-04,  5.2800000e-04],\n        [-5.2808000e-06,  7.1000000e-05,  2.9200000e-04],\n        [-3.3000000e-07,  1.8000000e-05,  6.4000000e-05],\n        [-2.1800000e-08,  1.0000000e-05,  3.4000000e-05],\n        [-1.7902000e-08,  2.6645000e-15,  1.1244000e-17]])]"
     },
     "execution_count": 52,
     "metadata": {},
     "output_type": "execute_result"
    }
   ],
   "source": [
    "data.scfvalues"
   ],
   "metadata": {
    "collapsed": false,
    "ExecuteTime": {
     "end_time": "2023-11-23T07:58:17.204921200Z",
     "start_time": "2023-11-23T07:58:17.136796500Z"
    }
   }
  },
  {
   "cell_type": "code",
   "execution_count": 51,
   "outputs": [
    {
     "data": {
      "text/plain": "array([[1.e-08, 1.e-07, 5.e-09],\n       [1.e-08, 1.e-07, 5.e-09],\n       [1.e-08, 1.e-07, 5.e-09],\n       [1.e-08, 1.e-07, 5.e-09],\n       [1.e-08, 1.e-07, 5.e-09]])"
     },
     "execution_count": 51,
     "metadata": {},
     "output_type": "execute_result"
    }
   ],
   "source": [
    "data.scftargets"
   ],
   "metadata": {
    "collapsed": false,
    "ExecuteTime": {
     "end_time": "2023-11-23T07:58:07.038651500Z",
     "start_time": "2023-11-23T07:58:07.012655400Z"
    }
   }
  },
  {
   "cell_type": "code",
   "execution_count": 36,
   "outputs": [
    {
     "name": "stdout",
     "output_type": "stream",
     "text": [
      "C 0 125.508\n",
      "O 1 275.301\n",
      "C 2 110.446\n",
      "C 3 114.12\n",
      "N 4 223.565\n",
      "C 5 133.679\n",
      "C 6 115.657\n",
      "H 7 28.766\n",
      "H 8 28.318\n",
      "H 9 28.777\n",
      "H 10 27.965\n",
      "H 11 28.106\n",
      "H 12 29.335\n",
      "H 13 29.221\n",
      "H 14 30.004\n",
      "H 15 29.269\n",
      "H 16 29.104\n",
      "H 17 28.096\n"
     ]
    }
   ],
   "source": [
    "# NMR shielding\n",
    "for k,v in data.nmrtensors.items():\n",
    "    print(mol.GetAtomWithIdx(k).GetSymbol(), k, v['isotropic'])"
   ],
   "metadata": {
    "collapsed": false,
    "ExecuteTime": {
     "end_time": "2023-11-23T06:36:10.051845600Z",
     "start_time": "2023-11-23T06:36:09.976846300Z"
    }
   }
  },
  {
   "cell_type": "code",
   "execution_count": 15,
   "outputs": [
    {
     "data": {
      "text/plain": "['OPT_DONE',\n 'OPT_NEW',\n 'OPT_UNCONVERGED',\n 'OPT_UNKNOWN',\n '__class__',\n '__delattr__',\n '__dict__',\n '__dir__',\n '__doc__',\n '__eq__',\n '__format__',\n '__ge__',\n '__getattribute__',\n '__gt__',\n '__hash__',\n '__init__',\n '__init_subclass__',\n '__le__',\n '__lt__',\n '__module__',\n '__ne__',\n '__new__',\n '__reduce__',\n '__reduce_ex__',\n '__repr__',\n '__setattr__',\n '__sizeof__',\n '__str__',\n '__subclasshook__',\n '__weakref__',\n '_attributes',\n '_attrlist',\n '_dictsofarrays',\n '_intarrays',\n '_listsofarrays',\n 'arrayify',\n 'atomcharges',\n 'atomcoords',\n 'atommasses',\n 'atomnos',\n 'charge',\n 'check_values',\n 'closed_shell',\n 'converged_geometries',\n 'coreelectrons',\n 'geotargets',\n 'geovalues',\n 'getattributes',\n 'grads',\n 'homos',\n 'listify',\n 'metadata',\n 'moenergies',\n 'moments',\n 'mosyms',\n 'mult',\n 'natom',\n 'nbasis',\n 'nelectrons',\n 'new_geometries',\n 'nmo',\n 'nmrtensors',\n 'optdone',\n 'scfenergies',\n 'scftargets',\n 'scfvalues',\n 'setattributes',\n 'typecheck',\n 'unconverged_geometries',\n 'unknown_geometries',\n 'write',\n 'writecml',\n 'writejson',\n 'writexyz']"
     },
     "execution_count": 15,
     "metadata": {},
     "output_type": "execute_result"
    }
   ],
   "source": [
    "dir(data)"
   ],
   "metadata": {
    "collapsed": false,
    "ExecuteTime": {
     "end_time": "2023-11-23T06:22:54.529451800Z",
     "start_time": "2023-11-23T06:22:54.463452100Z"
    }
   }
  },
  {
   "cell_type": "code",
   "execution_count": 16,
   "outputs": [
    {
     "name": "stdout",
     "output_type": "stream",
     "text": [
      "0:01:17.614000\n"
     ]
    }
   ],
   "source": [
    "print(data.metadata['cpu_time'][0])"
   ],
   "metadata": {
    "collapsed": false,
    "ExecuteTime": {
     "end_time": "2023-11-23T06:22:54.533452200Z",
     "start_time": "2023-11-23T06:22:54.482450700Z"
    }
   }
  },
  {
   "cell_type": "code",
   "execution_count": 17,
   "outputs": [
    {
     "data": {
      "text/plain": "5"
     },
     "execution_count": 17,
     "metadata": {},
     "output_type": "execute_result"
    }
   ],
   "source": [
    "len(data.converged_geometries)"
   ],
   "metadata": {
    "collapsed": false,
    "ExecuteTime": {
     "end_time": "2023-11-23T06:22:54.534452500Z",
     "start_time": "2023-11-23T06:22:54.498451Z"
    }
   }
  },
  {
   "cell_type": "code",
   "execution_count": 18,
   "outputs": [
    {
     "data": {
      "text/plain": "['OPT_DONE',\n 'OPT_NEW',\n 'OPT_UNCONVERGED',\n 'OPT_UNKNOWN',\n '__class__',\n '__delattr__',\n '__dict__',\n '__dir__',\n '__doc__',\n '__eq__',\n '__format__',\n '__ge__',\n '__getattribute__',\n '__gt__',\n '__hash__',\n '__init__',\n '__init_subclass__',\n '__le__',\n '__lt__',\n '__module__',\n '__ne__',\n '__new__',\n '__reduce__',\n '__reduce_ex__',\n '__repr__',\n '__setattr__',\n '__sizeof__',\n '__str__',\n '__subclasshook__',\n '__weakref__',\n '_attributes',\n '_attrlist',\n '_dictsofarrays',\n '_intarrays',\n '_listsofarrays',\n 'arrayify',\n 'atomcharges',\n 'atomcoords',\n 'atommasses',\n 'atomnos',\n 'charge',\n 'check_values',\n 'closed_shell',\n 'converged_geometries',\n 'coreelectrons',\n 'geotargets',\n 'geovalues',\n 'getattributes',\n 'grads',\n 'homos',\n 'listify',\n 'metadata',\n 'moenergies',\n 'moments',\n 'mosyms',\n 'mult',\n 'natom',\n 'nbasis',\n 'nelectrons',\n 'new_geometries',\n 'nmo',\n 'nmrtensors',\n 'optdone',\n 'scfenergies',\n 'scftargets',\n 'scfvalues',\n 'setattributes',\n 'typecheck',\n 'unconverged_geometries',\n 'unknown_geometries',\n 'write',\n 'writecml',\n 'writejson',\n 'writexyz']"
     },
     "execution_count": 18,
     "metadata": {},
     "output_type": "execute_result"
    }
   ],
   "source": [
    "dir(data)"
   ],
   "metadata": {
    "collapsed": false,
    "ExecuteTime": {
     "end_time": "2023-11-23T06:22:54.535450900Z",
     "start_time": "2023-11-23T06:22:54.522447800Z"
    }
   }
  },
  {
   "cell_type": "code",
   "execution_count": 19,
   "outputs": [
    {
     "data": {
      "text/plain": "True"
     },
     "execution_count": 19,
     "metadata": {},
     "output_type": "execute_result"
    }
   ],
   "source": [
    "data.optdone"
   ],
   "metadata": {
    "collapsed": false,
    "ExecuteTime": {
     "end_time": "2023-11-23T06:22:54.547452700Z",
     "start_time": "2023-11-23T06:22:54.527452Z"
    }
   }
  },
  {
   "cell_type": "code",
   "execution_count": 20,
   "outputs": [
    {
     "data": {
      "text/plain": "{'package': 'ORCA',\n 'methods': ['DFT', 'DFT', 'DFT', 'DFT', 'DFT'],\n 'success': True,\n 'legacy_package_version': '5.0.3',\n 'package_version': '5.0.3',\n 'basis_set': '6-311++G(d,p)',\n 'warnings': ['Geometry OptimizationSwitching off AutoStartFor restart on a previous wavefunction, please use MOREAD',\n  'Minnesota functionals are quite sensitive to the integration grid.see SE Wheeler, KN Houk, JCTC 2010, 6, 395,N Mardirossian, M Head-Gordon, JCTC 2016, 12, 4303.DEFGRID3 seems to be a minimum grid for reliable results with these functionals!Please increase the integration grid!'],\n 'info': ['the flag for use of the SHARK integral package has been found!'],\n 'input_file_name': 'task.inp',\n 'input_file_contents': '!M062X 6-311++G(d,p) OPT NMR\\n%geom MaxIter 100 end\\n%cpcm\\n  smd true\\n  SMDsolvent \"THF\"\\n  end\\n%pal nprocs 16 end\\n*xyz 0 1\\nC           -2.73166000         -0.42891300          0.06568100\\nO           -1.69258800          0.47020300          0.38413500\\nC           -0.58496100          0.29469900         -0.44442300\\nC            0.31844600         -0.93709600         -0.21753700\\nN            1.48116300         -0.04771200         -0.38669400\\nC            2.63364000         -0.29907500          0.45103700\\nC            0.64513100          1.11823500         -0.05218900\\nH           -3.11054000         -0.26081900         -0.95236200\\nH           -3.54134800         -0.26296900          0.77892500\\nH           -2.40083100         -1.47423700          0.14385900\\nH           -0.85607500          0.41282300         -1.50282400\\nH            0.27065800         -1.78479700         -0.90752500\\nH            0.20182900         -1.28900100          0.82165100\\nH            3.37624900          0.49222400          0.30815500\\nH            2.37466600         -0.34219500          1.52377700\\nH            3.09352400         -1.25150200          0.16931400\\nH            0.61558200          1.32106000          1.03089200\\nH            0.87263000          2.03793800         -0.59860300\\n*\\n\\n',\n 'coord_type': 'xyz',\n 'keywords': ['M062X', '6-311++G(d,p)', 'OPT', 'NMR'],\n 'coords': [['C', -2.73166, -0.428913, 0.065681],\n  ['O', -1.692588, 0.470203, 0.384135],\n  ['C', -0.584961, 0.294699, -0.444423],\n  ['C', 0.318446, -0.937096, -0.217537],\n  ['N', 1.481163, -0.047712, -0.386694],\n  ['C', 2.63364, -0.299075, 0.451037],\n  ['C', 0.645131, 1.118235, -0.052189],\n  ['H', -3.11054, -0.260819, -0.952362],\n  ['H', -3.541348, -0.262969, 0.778925],\n  ['H', -2.400831, -1.474237, 0.143859],\n  ['H', -0.856075, 0.412823, -1.502824],\n  ['H', 0.270658, -1.784797, -0.907525],\n  ['H', 0.201829, -1.289001, 0.821651],\n  ['H', 3.376249, 0.492224, 0.308155],\n  ['H', 2.374666, -0.342195, 1.523777],\n  ['H', 3.093524, -1.251502, 0.169314],\n  ['H', 0.615582, 1.32106, 1.030892],\n  ['H', 0.87263, 2.037938, -0.598603]],\n 'solvent_model': 'SMD-CPCM',\n 'solvent_params': {'epsilon': 7.4257, 'refractive_index': 1.405},\n 'solvent_name': 'thf',\n 'wall_time': [datetime.timedelta(seconds=77, microseconds=614000)],\n 'cpu_time': [datetime.timedelta(seconds=77, microseconds=614000)]}"
     },
     "execution_count": 20,
     "metadata": {},
     "output_type": "execute_result"
    }
   ],
   "source": [
    "data.metadata"
   ],
   "metadata": {
    "collapsed": false,
    "ExecuteTime": {
     "end_time": "2023-11-23T06:22:54.556452200Z",
     "start_time": "2023-11-23T06:22:54.550451400Z"
    }
   }
  },
  {
   "cell_type": "code",
   "execution_count": 21,
   "outputs": [
    {
     "data": {
      "text/plain": "array([[[-2.73166 , -0.428913,  0.065681],\n        [-1.692588,  0.470203,  0.384135],\n        [-0.584961,  0.294699, -0.444423],\n        [ 0.318446, -0.937096, -0.217537],\n        [ 1.481163, -0.047712, -0.386694],\n        [ 2.63364 , -0.299075,  0.451037],\n        [ 0.645131,  1.118235, -0.052189],\n        [-3.11054 , -0.260819, -0.952362],\n        [-3.541348, -0.262969,  0.778925],\n        [-2.400831, -1.474237,  0.143859],\n        [-0.856075,  0.412823, -1.502824],\n        [ 0.270658, -1.784797, -0.907525],\n        [ 0.201829, -1.289001,  0.821651],\n        [ 3.376249,  0.492224,  0.308155],\n        [ 2.374666, -0.342195,  1.523777],\n        [ 3.093524, -1.251502,  0.169314],\n        [ 0.615582,  1.32106 ,  1.030892],\n        [ 0.87263 ,  2.037938, -0.598603]],\n\n       [[-2.732772, -0.433447,  0.065903],\n        [-1.697911,  0.474342,  0.37912 ],\n        [-0.585376,  0.300297, -0.445689],\n        [ 0.315233, -0.934156, -0.217946],\n        [ 1.481057, -0.046769, -0.385799],\n        [ 2.634873, -0.302202,  0.451036],\n        [ 0.645327,  1.121757, -0.051177],\n        [-3.105489, -0.275913, -0.953681],\n        [-3.544823, -0.264693,  0.773018],\n        [-2.394782, -1.473188,  0.157066],\n        [-0.855041,  0.419619, -1.501379],\n        [ 0.266075, -1.778981, -0.907622],\n        [ 0.202464, -1.285323,  0.819697],\n        [ 3.378344,  0.486322,  0.308556],\n        [ 2.37379 , -0.344812,  1.521095],\n        [ 3.091138, -1.254435,  0.168883],\n        [ 0.619207,  1.321321,  1.030496],\n        [ 0.874201,  2.039127, -0.596307]],\n\n       [[-2.730923, -0.437749,  0.066363],\n        [-1.701356,  0.479458,  0.374929],\n        [-0.585299,  0.305388, -0.446607],\n        [ 0.311613, -0.931382, -0.218543],\n        [ 1.479897, -0.045647, -0.38625 ],\n        [ 2.633753, -0.304911,  0.450485],\n        [ 0.645393,  1.124713, -0.049556],\n        [-3.09706 , -0.291817, -0.956823],\n        [-3.546938, -0.264617,  0.767219],\n        [-2.385549, -1.473114,  0.17267 ],\n        [-0.853997,  0.426623, -1.501697],\n        [ 0.260388, -1.774583, -0.909294],\n        [ 0.202159, -1.281913,  0.819118],\n        [ 3.378787,  0.48169 ,  0.308221],\n        [ 2.36991 , -0.347121,  1.519417],\n        [ 3.086587, -1.258029,  0.167299],\n        [ 0.622673,  1.320374,  1.032394],\n        [ 0.875478,  2.041503, -0.594076]],\n\n       [[-2.728599, -0.440291,  0.067153],\n        [-1.702734,  0.482952,  0.372905],\n        [-0.585233,  0.308263, -0.447049],\n        [ 0.309505, -0.929593, -0.2197  ],\n        [ 1.479103, -0.044807, -0.387317],\n        [ 2.632101, -0.306399,  0.450207],\n        [ 0.645471,  1.126138, -0.048571],\n        [-3.090103, -0.302806, -0.958951],\n        [-3.547878, -0.263231,  0.763347],\n        [-2.379325, -1.473253,  0.184334],\n        [-0.853322,  0.431154, -1.502373],\n        [ 0.256841, -1.771872, -0.911682],\n        [ 0.201457, -1.280161,  0.818184],\n        [ 3.378382,  0.4792  ,  0.30842 ],\n        [ 2.366314, -0.34851 ,  1.518805],\n        [ 3.082981, -1.260337,  0.166355],\n        [ 0.624441,  1.319275,  1.033932],\n        [ 0.876112,  2.043143, -0.59273 ]],\n\n       [[-2.72728 , -0.441325,  0.067838],\n        [-1.703025,  0.48438 ,  0.372432],\n        [-0.585281,  0.309372, -0.447129],\n        [ 0.30882 , -0.928772, -0.220731],\n        [ 1.478878, -0.044339, -0.388175],\n        [ 2.631113, -0.306948,  0.450142],\n        [ 0.645577,  1.126584, -0.048202],\n        [-3.086211, -0.308372, -0.959878],\n        [-3.548534, -0.261661,  0.761202],\n        [-2.377151, -1.473437,  0.190644],\n        [-0.85299 ,  0.433246, -1.502671],\n        [ 0.255484, -1.770563, -0.913454],\n        [ 0.201016, -1.279716,  0.817171],\n        [ 3.378063,  0.478214,  0.308794],\n        [ 2.364551, -0.349078,  1.518662],\n        [ 3.081254, -1.261296,  0.166113],\n        [ 0.624939,  1.318676,  1.034586],\n        [ 0.87629 ,  2.043899, -0.592074]]])"
     },
     "execution_count": 21,
     "metadata": {},
     "output_type": "execute_result"
    }
   ],
   "source": [
    "data.new_geometries"
   ],
   "metadata": {
    "collapsed": false,
    "ExecuteTime": {
     "end_time": "2023-11-23T06:22:54.637549400Z",
     "start_time": "2023-11-23T06:22:54.555451200Z"
    }
   }
  },
  {
   "cell_type": "code",
   "execution_count": 22,
   "outputs": [
    {
     "data": {
      "text/plain": "(-7.7628095042939, 0.14092776317395)"
     },
     "execution_count": 22,
     "metadata": {},
     "output_type": "execute_result"
    }
   ],
   "source": [
    "# HOMO LUMO\n",
    "homo = data.moenergies[0][data.homos[0]]\n",
    "lumo = data.moenergies[0][data.homos[0] + 1]\n",
    "homo, lumo"
   ],
   "metadata": {
    "collapsed": false,
    "ExecuteTime": {
     "end_time": "2023-11-23T06:22:54.638550600Z",
     "start_time": "2023-11-23T06:22:54.572453100Z"
    }
   }
  },
  {
   "cell_type": "code",
   "execution_count": 23,
   "outputs": [
    {
     "name": "stdout",
     "output_type": "stream",
     "text": [
      "0:01:17.614000\n"
     ]
    }
   ],
   "source": [
    "print(data.metadata['cpu_time'][0])"
   ],
   "metadata": {
    "collapsed": false,
    "ExecuteTime": {
     "end_time": "2023-11-23T06:22:54.638550600Z",
     "start_time": "2023-11-23T06:22:54.587452400Z"
    }
   }
  },
  {
   "cell_type": "code",
   "execution_count": 24,
   "outputs": [
    {
     "data": {
      "text/plain": "(18, 231)"
     },
     "execution_count": 24,
     "metadata": {},
     "output_type": "execute_result"
    }
   ],
   "source": [
    "data.natom, data.nmo"
   ],
   "metadata": {
    "collapsed": false,
    "ExecuteTime": {
     "end_time": "2023-11-23T06:22:54.639551Z",
     "start_time": "2023-11-23T06:22:54.609984300Z"
    }
   }
  },
  {
   "cell_type": "code",
   "execution_count": 25,
   "outputs": [
    {
     "data": {
      "text/plain": "{'package': 'ORCA',\n 'methods': ['DFT', 'DFT', 'DFT', 'DFT', 'DFT'],\n 'success': True,\n 'legacy_package_version': '5.0.3',\n 'package_version': '5.0.3',\n 'basis_set': '6-311++G(d,p)',\n 'warnings': ['Geometry OptimizationSwitching off AutoStartFor restart on a previous wavefunction, please use MOREAD',\n  'Minnesota functionals are quite sensitive to the integration grid.see SE Wheeler, KN Houk, JCTC 2010, 6, 395,N Mardirossian, M Head-Gordon, JCTC 2016, 12, 4303.DEFGRID3 seems to be a minimum grid for reliable results with these functionals!Please increase the integration grid!'],\n 'info': ['the flag for use of the SHARK integral package has been found!'],\n 'input_file_name': 'task.inp',\n 'input_file_contents': '!M062X 6-311++G(d,p) OPT NMR\\n%geom MaxIter 100 end\\n%cpcm\\n  smd true\\n  SMDsolvent \"THF\"\\n  end\\n%pal nprocs 16 end\\n*xyz 0 1\\nC           -2.73166000         -0.42891300          0.06568100\\nO           -1.69258800          0.47020300          0.38413500\\nC           -0.58496100          0.29469900         -0.44442300\\nC            0.31844600         -0.93709600         -0.21753700\\nN            1.48116300         -0.04771200         -0.38669400\\nC            2.63364000         -0.29907500          0.45103700\\nC            0.64513100          1.11823500         -0.05218900\\nH           -3.11054000         -0.26081900         -0.95236200\\nH           -3.54134800         -0.26296900          0.77892500\\nH           -2.40083100         -1.47423700          0.14385900\\nH           -0.85607500          0.41282300         -1.50282400\\nH            0.27065800         -1.78479700         -0.90752500\\nH            0.20182900         -1.28900100          0.82165100\\nH            3.37624900          0.49222400          0.30815500\\nH            2.37466600         -0.34219500          1.52377700\\nH            3.09352400         -1.25150200          0.16931400\\nH            0.61558200          1.32106000          1.03089200\\nH            0.87263000          2.03793800         -0.59860300\\n*\\n\\n',\n 'coord_type': 'xyz',\n 'keywords': ['M062X', '6-311++G(d,p)', 'OPT', 'NMR'],\n 'coords': [['C', -2.73166, -0.428913, 0.065681],\n  ['O', -1.692588, 0.470203, 0.384135],\n  ['C', -0.584961, 0.294699, -0.444423],\n  ['C', 0.318446, -0.937096, -0.217537],\n  ['N', 1.481163, -0.047712, -0.386694],\n  ['C', 2.63364, -0.299075, 0.451037],\n  ['C', 0.645131, 1.118235, -0.052189],\n  ['H', -3.11054, -0.260819, -0.952362],\n  ['H', -3.541348, -0.262969, 0.778925],\n  ['H', -2.400831, -1.474237, 0.143859],\n  ['H', -0.856075, 0.412823, -1.502824],\n  ['H', 0.270658, -1.784797, -0.907525],\n  ['H', 0.201829, -1.289001, 0.821651],\n  ['H', 3.376249, 0.492224, 0.308155],\n  ['H', 2.374666, -0.342195, 1.523777],\n  ['H', 3.093524, -1.251502, 0.169314],\n  ['H', 0.615582, 1.32106, 1.030892],\n  ['H', 0.87263, 2.037938, -0.598603]],\n 'solvent_model': 'SMD-CPCM',\n 'solvent_params': {'epsilon': 7.4257, 'refractive_index': 1.405},\n 'solvent_name': 'thf',\n 'wall_time': [datetime.timedelta(seconds=77, microseconds=614000)],\n 'cpu_time': [datetime.timedelta(seconds=77, microseconds=614000)]}"
     },
     "execution_count": 25,
     "metadata": {},
     "output_type": "execute_result"
    }
   ],
   "source": [
    "data.metadata"
   ],
   "metadata": {
    "collapsed": false,
    "ExecuteTime": {
     "end_time": "2023-11-23T06:22:54.641551600Z",
     "start_time": "2023-11-23T06:22:54.613983500Z"
    }
   }
  },
  {
   "cell_type": "code",
   "execution_count": 26,
   "outputs": [
    {
     "data": {
      "text/plain": "array([-8898.73503472, -8898.73716429, -8898.73758198, -8898.73766933,\n       -8898.73770797])"
     },
     "execution_count": 26,
     "metadata": {},
     "output_type": "execute_result"
    }
   ],
   "source": [
    "data.scfenergies"
   ],
   "metadata": {
    "collapsed": false,
    "ExecuteTime": {
     "end_time": "2023-11-23T06:22:54.656549300Z",
     "start_time": "2023-11-23T06:22:54.633550800Z"
    }
   }
  }
 ],
 "metadata": {
  "kernelspec": {
   "name": "python3",
   "language": "python",
   "display_name": "Python 3 (ipykernel)"
  },
  "language_info": {
   "codemirror_mode": {
    "name": "ipython",
    "version": 2
   },
   "file_extension": ".py",
   "mimetype": "text/x-python",
   "name": "python",
   "nbconvert_exporter": "python",
   "pygments_lexer": "ipython2",
   "version": "2.7.6"
  }
 },
 "nbformat": 4,
 "nbformat_minor": 0
}
