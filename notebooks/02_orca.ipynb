{
 "cells": [
  {
   "cell_type": "code",
   "execution_count": 1,
   "outputs": [],
   "source": [
    "%load_ext autoreload\n",
    "%autoreload 2"
   ],
   "metadata": {
    "collapsed": false,
    "ExecuteTime": {
     "end_time": "2023-11-21T18:45:37.083202Z",
     "start_time": "2023-11-21T18:45:37.025598100Z"
    }
   }
  },
  {
   "cell_type": "code",
   "execution_count": 2,
   "metadata": {
    "collapsed": true,
    "ExecuteTime": {
     "end_time": "2023-11-21T18:45:37.178760600Z",
     "start_time": "2023-11-21T18:45:37.042597900Z"
    }
   },
   "outputs": [],
   "source": [
    "import os\n",
    "import shutil\n",
    "import subprocess\n",
    "from rdkit import Chem\n",
    "from rdkit.Chem import AllChem\n",
    "from rdkit.Chem.rdDistGeom import EmbedMultipleConfs\n",
    "from linux_qm.src.util import _load_smiles3D, _create_tmp_dir, draw3Dconfs, SetPositions\n",
    "from linux_qm.qm.crest.crest import conformer_pipeline\n",
    "\n",
    "\n",
    "ORCA_TMP = '/tmp/.orca_tmp'"
   ]
  },
  {
   "cell_type": "code",
   "execution_count": 3,
   "outputs": [
    {
     "name": "stderr",
     "output_type": "stream",
     "text": [
      "normal termination of xtb\n",
      "Note: The following floating-point exceptions are signalling: IEEE_INVALID_FLAG IEEE_UNDERFLOW_FLAG IEEE_DENORMAL\n"
     ]
    },
    {
     "name": "stdout",
     "output_type": "stream",
     "text": [
      "Number of conformers generated: 2\n"
     ]
    }
   ],
   "source": [
    "smi = 'COC1CNC1'\n",
    "# smi = 'CO'\n",
    "\n",
    "\n",
    "# mol = _load_smiles3D(smi)\n",
    "# EmbedMultipleConfs(mol, numConfs=3)\n",
    "\n",
    "mol = conformer_pipeline(smi)\n",
    "\n",
    "# Get the conformers\n",
    "\n",
    "conformers = mol.GetConformers()\n",
    "\n",
    "# Print the number of conformers generated\n",
    "print(f\"Number of conformers generated: {len(conformers)}\")"
   ],
   "metadata": {
    "collapsed": false,
    "ExecuteTime": {
     "end_time": "2023-11-21T18:45:40.050167600Z",
     "start_time": "2023-11-21T18:45:37.182763600Z"
    }
   }
  },
  {
   "cell_type": "code",
   "execution_count": 4,
   "outputs": [
    {
     "name": "stdout",
     "output_type": "stream",
     "text": [
      "num conformers 2\n"
     ]
    },
    {
     "data": {
      "application/3dmoljs_load.v0": "<div id=\"3dmolviewer_17005923400621955\"  style=\"position: relative; width: 600px; height: 400px;\">\n        <p id=\"3dmolwarning_17005923400621955\" style=\"background-color:#ffcccc;color:black\">You appear to be running in JupyterLab (or JavaScript failed to load for some other reason).  You need to install the 3dmol extension: <br>\n        <tt>jupyter labextension install jupyterlab_3dmol</tt></p>\n        </div>\n<script>\n\nvar loadScriptAsync = function(uri){\n  return new Promise((resolve, reject) => {\n    //this is to ignore the existence of requirejs amd\n    var savedexports, savedmodule;\n    if (typeof exports !== 'undefined') savedexports = exports;\n    else exports = {}\n    if (typeof module !== 'undefined') savedmodule = module;\n    else module = {}\n\n    var tag = document.createElement('script');\n    tag.src = uri;\n    tag.async = true;\n    tag.onload = () => {\n        exports = savedexports;\n        module = savedmodule;\n        resolve();\n    };\n  var firstScriptTag = document.getElementsByTagName('script')[0];\n  firstScriptTag.parentNode.insertBefore(tag, firstScriptTag);\n});\n};\n\nif(typeof $3Dmolpromise === 'undefined') {\n$3Dmolpromise = null;\n  $3Dmolpromise = loadScriptAsync('https://cdnjs.cloudflare.com/ajax/libs/3Dmol/2.0.4/3Dmol-min.js');\n}\n\nvar viewer_17005923400621955 = null;\nvar warn = document.getElementById(\"3dmolwarning_17005923400621955\");\nif(warn) {\n    warn.parentNode.removeChild(warn);\n}\n$3Dmolpromise.then(function() {\nviewer_17005923400621955 = $3Dmol.createViewer(document.getElementById(\"3dmolviewer_17005923400621955\"),{backgroundColor:\"white\"});\nviewer_17005923400621955.zoomTo();\n\tviewer_17005923400621955.addModel(\"\\n     RDKit          3D\\n\\n 15 15  0  0  0  0  0  0  0  0999 V2000\\n    2.3342    0.2873    0.0348 C   0  0  0  0  0  0  0  0  0  0  0  0\\n    1.2156   -0.4948   -0.3044 O   0  0  0  0  0  0  0  0  0  0  0  0\\n    0.0649   -0.1635    0.4194 C   0  0  0  0  0  0  0  0  0  0  0  0\\n   -1.1688   -0.9855    0.0263 C   0  0  0  0  0  0  0  0  0  0  0  0\\n   -1.9483    0.2529   -0.0637 N   0  0  0  0  0  0  0  0  0  0  0  0\\n   -0.7354    1.0754   -0.0388 C   0  0  0  0  0  0  0  0  0  0  0  0\\n    2.1624    1.3486   -0.1783 H   0  0  0  0  0  0  0  0  0  0  0  0\\n    3.1605   -0.0761   -0.5727 H   0  0  0  0  0  0  0  0  0  0  0  0\\n    2.5840    0.1778    1.0973 H   0  0  0  0  0  0  0  0  0  0  0  0\\n    0.2686   -0.1632    1.4981 H   0  0  0  0  0  0  0  0  0  0  0  0\\n   -1.5559   -1.6810    0.7718 H   0  0  0  0  0  0  0  0  0  0  0  0\\n   -1.0043   -1.5097   -0.9195 H   0  0  0  0  0  0  0  0  0  0  0  0\\n   -2.5307    0.3493   -0.8878 H   0  0  0  0  0  0  0  0  0  0  0  0\\n   -0.3978    1.4363   -1.0163 H   0  0  0  0  0  0  0  0  0  0  0  0\\n   -0.8049    1.9109    0.6602 H   0  0  0  0  0  0  0  0  0  0  0  0\\n  1  2  1  0\\n  2  3  1  0\\n  3  4  1  0\\n  4  5  1  0\\n  5  6  1  0\\n  6  3  1  0\\n  1  7  1  0\\n  1  8  1  0\\n  1  9  1  0\\n  3 10  1  0\\n  4 11  1  0\\n  4 12  1  0\\n  5 13  1  0\\n  6 14  1  0\\n  6 15  1  0\\nM  END\\n\",\"mol\");\n\tviewer_17005923400621955.addModel(\"\\n     RDKit          3D\\n\\n 15 15  0  0  0  0  0  0  0  0999 V2000\\n    2.0725    0.0893   -0.3031 C   0  0  0  0  0  0  0  0  0  0  0  0\\n    1.3928   -0.1137    0.9141 O   0  0  0  0  0  0  0  0  0  0  0  0\\n   -0.0035   -0.0456    0.9080 C   0  0  0  0  0  0  0  0  0  0  0  0\\n   -0.8514   -0.8937   -0.0644 C   0  0  0  0  0  0  0  0  0  0  0  0\\n   -1.7347    0.2604   -0.2476 N   0  0  0  0  0  0  0  0  0  0  0  0\\n   -0.7522    1.1773    0.3352 C   0  0  0  0  0  0  0  0  0  0  0  0\\n    1.8087   -0.6624   -1.0543 H   0  0  0  0  0  0  0  0  0  0  0  0\\n    3.1297   -0.0085   -0.0636 H   0  0  0  0  0  0  0  0  0  0  0  0\\n    1.8936    1.0880   -0.7149 H   0  0  0  0  0  0  0  0  0  0  0  0\\n   -0.2815   -0.2327    1.9467 H   0  0  0  0  0  0  0  0  0  0  0  0\\n   -1.3592   -1.7605    0.3609 H   0  0  0  0  0  0  0  0  0  0  0  0\\n   -0.3034   -1.2033   -0.9602 H   0  0  0  0  0  0  0  0  0  0  0  0\\n   -2.0199    0.4579   -1.2002 H   0  0  0  0  0  0  0  0  0  0  0  0\\n   -0.1621    1.7454   -0.3912 H   0  0  0  0  0  0  0  0  0  0  0  0\\n   -1.1854    1.8669    1.0610 H   0  0  0  0  0  0  0  0  0  0  0  0\\n  1  2  1  0\\n  2  3  1  0\\n  3  4  1  0\\n  4  5  1  0\\n  5  6  1  0\\n  6  3  1  0\\n  1  7  1  0\\n  1  8  1  0\\n  1  9  1  0\\n  3 10  1  0\\n  4 11  1  0\\n  4 12  1  0\\n  5 13  1  0\\n  6 14  1  0\\n  6 15  1  0\\nM  END\\n\",\"mol\");\n\tviewer_17005923400621955.setStyle({\"stick\": {}});\n\tviewer_17005923400621955.setBackgroundColor(\"white\");\n\tviewer_17005923400621955.zoomTo();\nviewer_17005923400621955.render();\n});\n</script>",
      "text/html": "<div id=\"3dmolviewer_17005923400621955\"  style=\"position: relative; width: 600px; height: 400px;\">\n        <p id=\"3dmolwarning_17005923400621955\" style=\"background-color:#ffcccc;color:black\">You appear to be running in JupyterLab (or JavaScript failed to load for some other reason).  You need to install the 3dmol extension: <br>\n        <tt>jupyter labextension install jupyterlab_3dmol</tt></p>\n        </div>\n<script>\n\nvar loadScriptAsync = function(uri){\n  return new Promise((resolve, reject) => {\n    //this is to ignore the existence of requirejs amd\n    var savedexports, savedmodule;\n    if (typeof exports !== 'undefined') savedexports = exports;\n    else exports = {}\n    if (typeof module !== 'undefined') savedmodule = module;\n    else module = {}\n\n    var tag = document.createElement('script');\n    tag.src = uri;\n    tag.async = true;\n    tag.onload = () => {\n        exports = savedexports;\n        module = savedmodule;\n        resolve();\n    };\n  var firstScriptTag = document.getElementsByTagName('script')[0];\n  firstScriptTag.parentNode.insertBefore(tag, firstScriptTag);\n});\n};\n\nif(typeof $3Dmolpromise === 'undefined') {\n$3Dmolpromise = null;\n  $3Dmolpromise = loadScriptAsync('https://cdnjs.cloudflare.com/ajax/libs/3Dmol/2.0.4/3Dmol-min.js');\n}\n\nvar viewer_17005923400621955 = null;\nvar warn = document.getElementById(\"3dmolwarning_17005923400621955\");\nif(warn) {\n    warn.parentNode.removeChild(warn);\n}\n$3Dmolpromise.then(function() {\nviewer_17005923400621955 = $3Dmol.createViewer(document.getElementById(\"3dmolviewer_17005923400621955\"),{backgroundColor:\"white\"});\nviewer_17005923400621955.zoomTo();\n\tviewer_17005923400621955.addModel(\"\\n     RDKit          3D\\n\\n 15 15  0  0  0  0  0  0  0  0999 V2000\\n    2.3342    0.2873    0.0348 C   0  0  0  0  0  0  0  0  0  0  0  0\\n    1.2156   -0.4948   -0.3044 O   0  0  0  0  0  0  0  0  0  0  0  0\\n    0.0649   -0.1635    0.4194 C   0  0  0  0  0  0  0  0  0  0  0  0\\n   -1.1688   -0.9855    0.0263 C   0  0  0  0  0  0  0  0  0  0  0  0\\n   -1.9483    0.2529   -0.0637 N   0  0  0  0  0  0  0  0  0  0  0  0\\n   -0.7354    1.0754   -0.0388 C   0  0  0  0  0  0  0  0  0  0  0  0\\n    2.1624    1.3486   -0.1783 H   0  0  0  0  0  0  0  0  0  0  0  0\\n    3.1605   -0.0761   -0.5727 H   0  0  0  0  0  0  0  0  0  0  0  0\\n    2.5840    0.1778    1.0973 H   0  0  0  0  0  0  0  0  0  0  0  0\\n    0.2686   -0.1632    1.4981 H   0  0  0  0  0  0  0  0  0  0  0  0\\n   -1.5559   -1.6810    0.7718 H   0  0  0  0  0  0  0  0  0  0  0  0\\n   -1.0043   -1.5097   -0.9195 H   0  0  0  0  0  0  0  0  0  0  0  0\\n   -2.5307    0.3493   -0.8878 H   0  0  0  0  0  0  0  0  0  0  0  0\\n   -0.3978    1.4363   -1.0163 H   0  0  0  0  0  0  0  0  0  0  0  0\\n   -0.8049    1.9109    0.6602 H   0  0  0  0  0  0  0  0  0  0  0  0\\n  1  2  1  0\\n  2  3  1  0\\n  3  4  1  0\\n  4  5  1  0\\n  5  6  1  0\\n  6  3  1  0\\n  1  7  1  0\\n  1  8  1  0\\n  1  9  1  0\\n  3 10  1  0\\n  4 11  1  0\\n  4 12  1  0\\n  5 13  1  0\\n  6 14  1  0\\n  6 15  1  0\\nM  END\\n\",\"mol\");\n\tviewer_17005923400621955.addModel(\"\\n     RDKit          3D\\n\\n 15 15  0  0  0  0  0  0  0  0999 V2000\\n    2.0725    0.0893   -0.3031 C   0  0  0  0  0  0  0  0  0  0  0  0\\n    1.3928   -0.1137    0.9141 O   0  0  0  0  0  0  0  0  0  0  0  0\\n   -0.0035   -0.0456    0.9080 C   0  0  0  0  0  0  0  0  0  0  0  0\\n   -0.8514   -0.8937   -0.0644 C   0  0  0  0  0  0  0  0  0  0  0  0\\n   -1.7347    0.2604   -0.2476 N   0  0  0  0  0  0  0  0  0  0  0  0\\n   -0.7522    1.1773    0.3352 C   0  0  0  0  0  0  0  0  0  0  0  0\\n    1.8087   -0.6624   -1.0543 H   0  0  0  0  0  0  0  0  0  0  0  0\\n    3.1297   -0.0085   -0.0636 H   0  0  0  0  0  0  0  0  0  0  0  0\\n    1.8936    1.0880   -0.7149 H   0  0  0  0  0  0  0  0  0  0  0  0\\n   -0.2815   -0.2327    1.9467 H   0  0  0  0  0  0  0  0  0  0  0  0\\n   -1.3592   -1.7605    0.3609 H   0  0  0  0  0  0  0  0  0  0  0  0\\n   -0.3034   -1.2033   -0.9602 H   0  0  0  0  0  0  0  0  0  0  0  0\\n   -2.0199    0.4579   -1.2002 H   0  0  0  0  0  0  0  0  0  0  0  0\\n   -0.1621    1.7454   -0.3912 H   0  0  0  0  0  0  0  0  0  0  0  0\\n   -1.1854    1.8669    1.0610 H   0  0  0  0  0  0  0  0  0  0  0  0\\n  1  2  1  0\\n  2  3  1  0\\n  3  4  1  0\\n  4  5  1  0\\n  5  6  1  0\\n  6  3  1  0\\n  1  7  1  0\\n  1  8  1  0\\n  1  9  1  0\\n  3 10  1  0\\n  4 11  1  0\\n  4 12  1  0\\n  5 13  1  0\\n  6 14  1  0\\n  6 15  1  0\\nM  END\\n\",\"mol\");\n\tviewer_17005923400621955.setStyle({\"stick\": {}});\n\tviewer_17005923400621955.setBackgroundColor(\"white\");\n\tviewer_17005923400621955.zoomTo();\nviewer_17005923400621955.render();\n});\n</script>"
     },
     "metadata": {},
     "output_type": "display_data"
    }
   ],
   "source": [
    "draw3Dconfs(mol)"
   ],
   "metadata": {
    "collapsed": false,
    "ExecuteTime": {
     "end_time": "2023-11-21T18:45:40.110188100Z",
     "start_time": "2023-11-21T18:45:40.049169Z"
    }
   }
  },
  {
   "cell_type": "code",
   "execution_count": 18,
   "outputs": [
    {
     "name": "stdout",
     "output_type": "stream",
     "text": [
      "!B3LYP def2-TZVP OPT\n",
      "%cpcm\n",
      "  smd true\n",
      "  SMDsolvent \"THF\"\n",
      "  end\n",
      "%geom MaxIter 100 end\n",
      "%pal nprocs 22 end\n",
      "*xyz 0 1\n",
      "C            2.33416950          0.28725986          0.03476549\n",
      "O            1.21564089         -0.49477460         -0.30436198\n",
      "C            0.06488140         -0.16348648          0.41940967\n",
      "C           -1.16882544         -0.98546954          0.02625142\n",
      "N           -1.94834967          0.25292588         -0.06365260\n",
      "C           -0.73536909          1.07536838         -0.03876436\n",
      "H            2.16241461          1.34861577         -0.17829044\n",
      "H            3.16046679         -0.07612526         -0.57273056\n",
      "H            2.58397142          0.17775524          1.09732023\n",
      "H            0.26859209         -0.16320648          1.49814406\n",
      "H           -1.55592664         -1.68095137          0.77177471\n",
      "H           -1.00427617         -1.50967970         -0.91954727\n",
      "H           -2.53069235          0.34928233         -0.88776656\n",
      "H           -0.39783558          1.43626129         -1.01631386\n",
      "H           -0.80487597          1.91090735          0.66019962\n",
      "*\n"
     ]
    }
   ],
   "source": [
    "### QM calculation by ORCA for each conformer\n",
    "\n",
    "options = {\n",
    "    'method': 'B3LYP def2-TZVP OPT',\n",
    "    'solvent': 'THF',\n",
    "    'geom_maxiter': 100,\n",
    "    'n_jobs': 22,\n",
    "}\n",
    "\n",
    "def gen_input(conf, options: dict):\n",
    "    method, solvent = options['method'], options['solvent']\n",
    "    geom_maxiter, n_jobs = options['geom_maxiter'], options['n_jobs']\n",
    "\n",
    "    input_str =\"\"\n",
    "    input_str += f\"!{method}\\n\"\n",
    "    if solvent:\n",
    "        input_str += (f\"%cpcm\\n\"\n",
    "        f\"  smd true\\n\"\n",
    "        f\"  SMDsolvent \\\"{solvent}\\\"\\n\"\n",
    "        f\"  end\\n\")\n",
    "    # input_str += (f\"%output\\n \"\n",
    "    #     f\"  PrintLevel Huge\\n\"\n",
    "    #     # f\"  Print[P_MOs] 1\\n\"\n",
    "    #     # f\"  Print[ P_gradient ] 1\\n\"\n",
    "    #     f\"  end\\n\")\n",
    "    input_str += f\"%geom MaxIter {geom_maxiter} end\\n\"\n",
    "    input_str += f\"%pal nprocs {n_jobs} end\\n\"\n",
    "    input_str += gen_xyz_block(conf)\n",
    "    return input_str\n",
    "\n",
    "def gen_xyz_block(conf):\n",
    "    mol = conf.GetOwningMol()\n",
    "    xyz_block = \"*xyz 0 1\\n\"\n",
    "    for i in range(conf.GetNumAtoms()):\n",
    "        symbol = mol.GetAtomWithIdx(i).GetSymbol()\n",
    "        x, y, z = conf.GetAtomPosition(i)\n",
    "        xyz_block += f\"{symbol:3}{x:20.8f}{y:20.8f}{z:20.8f}\\n\"\n",
    "    xyz_block += \"*\\n\"\n",
    "    return xyz_block\n",
    "\n",
    "\n",
    "conf = mol.GetConformer()\n",
    "print(gen_input(conf, options))"
   ],
   "metadata": {
    "collapsed": false,
    "ExecuteTime": {
     "end_time": "2023-11-21T18:49:24.247829500Z",
     "start_time": "2023-11-21T18:49:24.183513900Z"
    }
   }
  },
  {
   "cell_type": "code",
   "execution_count": 6,
   "outputs": [],
   "source": [
    "def set_orca_env():\n",
    "    ORCA_PATH = \"/opt/orca-5.0.3\"\n",
    "    os.environ['PATH'] = f\"{ORCA_PATH}:{os.environ.get('PATH')}\"\n",
    "    os.environ['LD_LIBRARY_PATH'] = f\"{ORCA_PATH}:{os.environ.get('LD_LIBRARY_PATH', '')}\"\n",
    "    # supposed to be path\n",
    "    os.environ['PATH'] = f\"/opt/openmpi-4.1.1/bin:{os.environ['PATH']}\"\n",
    "    os.environ['LD_LIBRARY_PATH'] = f\"/opt/openmpi-4.1.1/lib:{os.environ['LD_LIBRARY_PATH']}\"\n",
    "    # real openmpi path\n",
    "    # os.environ['LD_LIBRARY_PATH'] = \"/opt/orca-5.0.3/openmpi-4.1.1/lib:/opt/orca-5.0.3/orca:\"\n",
    "    # os.environ['PATH'] = f\"/opt/orca-5.0.3/openmpi-4.1.1/bin:{os.environ['PATH']}\"\n",
    "\n",
    "if 'orca' not in os.environ['PATH']:\n",
    "    set_orca_env()"
   ],
   "metadata": {
    "collapsed": false,
    "ExecuteTime": {
     "end_time": "2023-11-21T18:45:40.122186300Z",
     "start_time": "2023-11-21T18:45:40.084190400Z"
    }
   }
  },
  {
   "cell_type": "code",
   "execution_count": 7,
   "outputs": [
    {
     "data": {
      "text/plain": "'/opt/openmpi-4.1.1/lib:/opt/orca-5.0.3:'"
     },
     "execution_count": 7,
     "metadata": {},
     "output_type": "execute_result"
    }
   ],
   "source": [
    "os.environ['LD_LIBRARY_PATH']"
   ],
   "metadata": {
    "collapsed": false,
    "ExecuteTime": {
     "end_time": "2023-11-21T18:45:40.123188900Z",
     "start_time": "2023-11-21T18:45:40.098190100Z"
    }
   }
  },
  {
   "cell_type": "code",
   "execution_count": 27,
   "outputs": [
    {
     "name": "stderr",
     "output_type": "stream",
     "text": [
      "[21-11-2023 07:53:46] [INFO] Identified logfile to be in ORCA format\n"
     ]
    },
    {
     "name": "stdout",
     "output_type": "stream",
     "text": [
      "0:01:51.109000\n",
      "geom iter: 10\n",
      "converged: True\n"
     ]
    }
   ],
   "source": [
    "saved_work_dir = os.getcwd()\n",
    "tmp_path = _create_tmp_dir(ORCA_TMP)\n",
    "os.chdir(tmp_path)\n",
    "\n",
    "import cclib\n",
    "\n",
    "data = None\n",
    "\n",
    "with open('input.inp', 'w') as f:\n",
    "    inp = gen_input(conf, options)\n",
    "    f.write(inp)\n",
    "    \n",
    "try:\n",
    "    res = subprocess.run(\n",
    "        ['/opt/orca-5.0.3/orca', 'input.inp', '--use-hwthread-cpus'], \n",
    "        capture_output=True,\n",
    "        text=True\n",
    "    )\n",
    "    \n",
    "    with open('output', 'w') as f:\n",
    "        f.write(res.stdout)\n",
    "        \n",
    "    # parse ORCA output\n",
    "    data = cclib.io.ccread('output')\n",
    "    \n",
    "except Exception as e:\n",
    "    print(e)\n",
    "\n",
    "os.chdir(saved_work_dir)\n",
    "shutil.rmtree(tmp_path)\n",
    "\n",
    "if data:\n",
    "    print(data.metadata['cpu_time'][0])\n",
    "    print('geom iter:', len(data.converged_geometries))\n",
    "    print('converged:', data.optdone)\n",
    "    "
   ],
   "metadata": {
    "collapsed": false,
    "ExecuteTime": {
     "end_time": "2023-11-21T18:53:46.445974600Z",
     "start_time": "2023-11-21T18:51:55.158046800Z"
    }
   }
  },
  {
   "cell_type": "code",
   "execution_count": 28,
   "outputs": [
    {
     "name": "stdout",
     "output_type": "stream",
     "text": [
      "0:01:51.109000\n"
     ]
    }
   ],
   "source": [
    "print(data.metadata['cpu_time'][0])"
   ],
   "metadata": {
    "collapsed": false,
    "ExecuteTime": {
     "end_time": "2023-11-21T18:56:58.158640300Z",
     "start_time": "2023-11-21T18:56:58.145639700Z"
    }
   }
  },
  {
   "cell_type": "code",
   "execution_count": 29,
   "outputs": [
    {
     "data": {
      "text/plain": "10"
     },
     "execution_count": 29,
     "metadata": {},
     "output_type": "execute_result"
    }
   ],
   "source": [
    "len(data.converged_geometries)"
   ],
   "metadata": {
    "collapsed": false,
    "ExecuteTime": {
     "end_time": "2023-11-21T18:56:59.613878800Z",
     "start_time": "2023-11-21T18:56:59.601877300Z"
    }
   }
  },
  {
   "cell_type": "code",
   "execution_count": 30,
   "outputs": [
    {
     "data": {
      "text/plain": "['OPT_DONE',\n 'OPT_NEW',\n 'OPT_UNCONVERGED',\n 'OPT_UNKNOWN',\n '__class__',\n '__delattr__',\n '__dict__',\n '__dir__',\n '__doc__',\n '__eq__',\n '__format__',\n '__ge__',\n '__getattribute__',\n '__gt__',\n '__hash__',\n '__init__',\n '__init_subclass__',\n '__le__',\n '__lt__',\n '__module__',\n '__ne__',\n '__new__',\n '__reduce__',\n '__reduce_ex__',\n '__repr__',\n '__setattr__',\n '__sizeof__',\n '__str__',\n '__subclasshook__',\n '__weakref__',\n '_attributes',\n '_attrlist',\n '_dictsofarrays',\n '_intarrays',\n '_listsofarrays',\n 'arrayify',\n 'atomcharges',\n 'atomcoords',\n 'atommasses',\n 'atomnos',\n 'charge',\n 'check_values',\n 'closed_shell',\n 'converged_geometries',\n 'coreelectrons',\n 'geotargets',\n 'geovalues',\n 'getattributes',\n 'grads',\n 'homos',\n 'listify',\n 'metadata',\n 'moenergies',\n 'moments',\n 'mosyms',\n 'mult',\n 'natom',\n 'nbasis',\n 'nelectrons',\n 'new_geometries',\n 'nmo',\n 'optdone',\n 'scfenergies',\n 'scftargets',\n 'scfvalues',\n 'setattributes',\n 'typecheck',\n 'unconverged_geometries',\n 'unknown_geometries',\n 'write',\n 'writecml',\n 'writejson',\n 'writexyz']"
     },
     "execution_count": 30,
     "metadata": {},
     "output_type": "execute_result"
    }
   ],
   "source": [
    "dir(data)"
   ],
   "metadata": {
    "collapsed": false,
    "ExecuteTime": {
     "end_time": "2023-11-21T18:57:02.261035300Z",
     "start_time": "2023-11-21T18:57:02.195594900Z"
    }
   }
  },
  {
   "cell_type": "code",
   "execution_count": 31,
   "outputs": [
    {
     "data": {
      "text/plain": "{'package': 'ORCA',\n 'methods': ['DFT',\n  'DFT',\n  'DFT',\n  'DFT',\n  'DFT',\n  'DFT',\n  'DFT',\n  'DFT',\n  'DFT',\n  'DFT'],\n 'success': True,\n 'legacy_package_version': '5.0.3',\n 'package_version': '5.0.3',\n 'basis_set': 'def2-TZVP',\n 'warnings': ['Geometry OptimizationSwitching off AutoStartFor restart on a previous wavefunction, please use MOREAD'],\n 'info': ['the flag for use of the SHARK integral package has been found!'],\n 'input_file_name': 'input.inp',\n 'input_file_contents': '!B3LYP def2-TZVP OPT\\n%cpcm\\n  smd true\\n  SMDsolvent \"THF\"\\n  end\\n%geom MaxIter 100 end\\n%pal nprocs 22 end\\n*xyz 0 1\\nC            2.33416950          0.28725986          0.03476549\\nO            1.21564089         -0.49477460         -0.30436198\\nC            0.06488140         -0.16348648          0.41940967\\nC           -1.16882544         -0.98546954          0.02625142\\nN           -1.94834967          0.25292588         -0.06365260\\nC           -0.73536909          1.07536838         -0.03876436\\nH            2.16241461          1.34861577         -0.17829044\\nH            3.16046679         -0.07612526         -0.57273056\\nH            2.58397142          0.17775524          1.09732023\\nH            0.26859209         -0.16320648          1.49814406\\nH           -1.55592664         -1.68095137          0.77177471\\nH           -1.00427617         -1.50967970         -0.91954727\\nH           -2.53069235          0.34928233         -0.88776656\\nH           -0.39783558          1.43626129         -1.01631386\\nH           -0.80487597          1.91090735          0.66019962\\n*\\n\\n',\n 'coord_type': 'xyz',\n 'keywords': ['B3LYP', 'def2-TZVP', 'OPT'],\n 'coords': [['C', 2.3341695, 0.28725986, 0.03476549],\n  ['O', 1.21564089, -0.4947746, -0.30436198],\n  ['C', 0.0648814, -0.16348648, 0.41940967],\n  ['C', -1.16882544, -0.98546954, 0.02625142],\n  ['N', -1.94834967, 0.25292588, -0.0636526],\n  ['C', -0.73536909, 1.07536838, -0.03876436],\n  ['H', 2.16241461, 1.34861577, -0.17829044],\n  ['H', 3.16046679, -0.07612526, -0.57273056],\n  ['H', 2.58397142, 0.17775524, 1.09732023],\n  ['H', 0.26859209, -0.16320648, 1.49814406],\n  ['H', -1.55592664, -1.68095137, 0.77177471],\n  ['H', -1.00427617, -1.5096797, -0.91954727],\n  ['H', -2.53069235, 0.34928233, -0.88776656],\n  ['H', -0.39783558, 1.43626129, -1.01631386],\n  ['H', -0.80487597, 1.91090735, 0.66019962]],\n 'solvent_model': 'SMD-CPCM',\n 'solvent_params': {'epsilon': 7.4257, 'refractive_index': 1.405},\n 'solvent_name': 'thf',\n 'wall_time': [datetime.timedelta(seconds=111, microseconds=109000)],\n 'cpu_time': [datetime.timedelta(seconds=111, microseconds=109000)]}"
     },
     "execution_count": 31,
     "metadata": {},
     "output_type": "execute_result"
    }
   ],
   "source": [
    "data.metadata"
   ],
   "metadata": {
    "collapsed": false,
    "ExecuteTime": {
     "end_time": "2023-11-21T18:57:08.549690800Z",
     "start_time": "2023-11-21T18:57:08.531690600Z"
    }
   }
  },
  {
   "cell_type": "code",
   "execution_count": 11,
   "outputs": [
    {
     "data": {
      "text/plain": "array([[[ 2.334169,  0.28726 ,  0.034765],\n        [ 1.215641, -0.494775, -0.304362],\n        [ 0.064881, -0.163486,  0.41941 ],\n        [-1.168825, -0.98547 ,  0.026251],\n        [-1.94835 ,  0.252926, -0.063653],\n        [-0.735369,  1.075368, -0.038764],\n        [ 2.162415,  1.348616, -0.17829 ],\n        [ 3.160467, -0.076125, -0.572731],\n        [ 2.583971,  0.177755,  1.09732 ],\n        [ 0.268592, -0.163206,  1.498144],\n        [-1.555927, -1.680951,  0.771775],\n        [-1.004276, -1.50968 , -0.919547],\n        [-2.530692,  0.349282, -0.887767],\n        [-0.397836,  1.436261, -1.016314],\n        [-0.804876,  1.910907,  0.6602  ]],\n\n       [[ 2.340629,  0.28278 ,  0.035309],\n        [ 1.213674, -0.498957, -0.300802],\n        [ 0.060503, -0.162887,  0.419456],\n        [-1.176965, -0.991363,  0.026361],\n        [-1.966482,  0.254251, -0.059411],\n        [-0.744593,  1.0843  , -0.039159],\n        [ 2.177959,  1.356732, -0.180111],\n        [ 3.181933, -0.079484, -0.574525],\n        [ 2.601063,  0.179162,  1.107468],\n        [ 0.266238, -0.162684,  1.507241],\n        [-1.552888, -1.711675,  0.773996],\n        [-1.006557, -1.513591, -0.932782],\n        [-2.551872,  0.349636, -0.888712],\n        [-0.402026,  1.440915, -1.028279],\n        [-0.796629,  1.937548,  0.660385]],\n\n       [[ 2.340945,  0.27972 ,  0.038333],\n        [ 1.213337, -0.500672, -0.298146],\n        [ 0.059523, -0.161464,  0.418397],\n        [-1.178039, -0.99077 ,  0.025198],\n        [-1.973357,  0.254941, -0.047412],\n        [-0.748443,  1.085687, -0.041761],\n        [ 2.184638,  1.355666, -0.17758 ],\n        [ 3.187437, -0.079381, -0.567895],\n        [ 2.604225,  0.179574,  1.111348],\n        [ 0.263623, -0.159593,  1.507579],\n        [-1.543025, -1.72693 ,  0.764378],\n        [-1.0084  , -1.502121, -0.941202],\n        [-2.561326,  0.349376, -0.875093],\n        [-0.410889,  1.431699, -1.037475],\n        [-0.786266,  1.94895 ,  0.647769]],\n\n       [[ 2.341338,  0.276184,  0.04462 ],\n        [ 1.215574, -0.502225, -0.294101],\n        [ 0.059385, -0.159805,  0.415177],\n        [-1.177886, -0.988643,  0.022759],\n        [-1.979672,  0.255807, -0.023428],\n        [-0.751998,  1.085044, -0.047105],\n        [ 2.19266 ,  1.353216, -0.172791],\n        [ 3.194357, -0.079251, -0.554864],\n        [ 2.605156,  0.18066 ,  1.118238],\n        [ 0.258381, -0.154127,  1.505365],\n        [-1.527976, -1.747966,  0.745411],\n        [-1.013176, -1.478304, -0.955872],\n        [-2.5751  ,  0.34982 , -0.845967],\n        [-0.427701,  1.410731, -1.054254],\n        [-0.769357,  1.963544,  0.623251]],\n\n       [[ 2.342759,  0.275156,  0.049967],\n        [ 1.219597, -0.502622, -0.291535],\n        [ 0.060361, -0.159411,  0.411407],\n        [-1.176774, -0.987308,  0.020261],\n        [-1.980834,  0.256188, -0.004799],\n        [-0.752412,  1.083185, -0.051838],\n        [ 2.19698 ,  1.351885, -0.169908],\n        [ 3.199119, -0.080086, -0.544385],\n        [ 2.603489,  0.182512,  1.124351],\n        [ 0.253736, -0.150629,  1.502236],\n        [-1.519479, -1.760243,  0.731113],\n        [-1.01788 , -1.459973, -0.967403],\n        [-2.585826,  0.351298, -0.820318],\n        [-0.440448,  1.393355, -1.067555],\n        [-0.758399,  1.971376,  0.604843]],\n\n       [[ 2.345521,  0.275441,  0.055855],\n        [ 1.225242, -0.502846, -0.289303],\n        [ 0.062157, -0.159701,  0.406293],\n        [-1.175011, -0.986658,  0.016801],\n        [-1.979593,  0.256329,  0.0135  ],\n        [-0.751205,  1.080839, -0.057394],\n        [ 2.200578,  1.351129, -0.168232],\n        [ 3.204319, -0.082188, -0.532962],\n        [ 2.60012 ,  0.18586 ,  1.131639],\n        [ 0.248244, -0.147924,  1.498074],\n        [-1.512819, -1.770302,  0.717342],\n        [-1.023186, -1.442296, -0.979769],\n        [-2.598961,  0.354025, -0.790987],\n        [-0.452809,  1.375716, -1.081556],\n        [-0.74861 ,  1.977257,  0.587138]],\n\n       [[ 2.348292,  0.276473,  0.059943],\n        [ 1.229581, -0.503276, -0.288078],\n        [ 0.063833, -0.160343,  0.402091],\n        [-1.17354 , -0.986921,  0.013647],\n        [-1.977462,  0.25624 ,  0.024314],\n        [-0.749497,  1.079412, -0.061617],\n        [ 2.202626,  1.350999, -0.168455],\n        [ 3.208333, -0.084576, -0.524714],\n        [ 2.596751,  0.189475,  1.137206],\n        [ 0.244067, -0.146971,  1.494853],\n        [-1.509346, -1.775538,  0.70922 ],\n        [-1.026636, -1.432211, -0.988427],\n        [-2.610322,  0.356821, -0.769333],\n        [-0.459838,  1.365085, -1.090961],\n        [-0.742858,  1.980014,  0.576747]],\n\n       [[ 2.350037,  0.277361,  0.061862],\n        [ 1.231614, -0.503969, -0.287624],\n        [ 0.064843, -0.160901,  0.399747],\n        [-1.172782, -0.98749 ,  0.011489],\n        [-1.975885,  0.256087,  0.028102],\n        [-0.748345,  1.079053, -0.06392 ],\n        [ 2.203401,  1.351044, -0.169721],\n        [ 3.210724, -0.086266, -0.520265],\n        [ 2.594393,  0.192294,  1.140197],\n        [ 0.24173 , -0.147166,  1.493248],\n        [-1.507784, -1.777308,  0.706208],\n        [-1.027887, -1.429012, -0.99278 ],\n        [-2.617987,  0.358838, -0.757822],\n        [-0.461843,  1.361343, -1.095293],\n        [-0.740242,  1.980775,  0.573009]],\n\n       [[ 2.350503,  0.27765 ,  0.062263],\n        [ 1.231887, -0.504588, -0.287472],\n        [ 0.065132, -0.161158,  0.399149],\n        [-1.172677, -0.987772,  0.010546],\n        [-1.975294,  0.255998,  0.028261],\n        [-0.748086,  1.079192, -0.064622],\n        [ 2.20349 ,  1.350978, -0.170806],\n        [ 3.21164 , -0.086837, -0.518749],\n        [ 2.593419,  0.193704,  1.141038],\n        [ 0.240927, -0.147553,  1.492967],\n        [-1.507059, -1.777658,  0.705697],\n        [-1.027819, -1.429083, -0.993982],\n        [-2.621375,  0.359747, -0.754231],\n        [-0.461409,  1.36119 , -1.09619 ],\n        [-0.739294,  1.98087 ,  0.572568]],\n\n       [[ 2.350452,  0.277647,  0.062296],\n        [ 1.231782, -0.504978, -0.287321],\n        [ 0.065167, -0.161271,  0.399143],\n        [-1.172771, -0.987786,  0.010164],\n        [-1.97506 ,  0.255959,  0.028043],\n        [-0.748166,  1.079278, -0.064805],\n        [ 2.203448,  1.350845, -0.171423],\n        [ 3.211966, -0.086887, -0.518163],\n        [ 2.593071,  0.194363,  1.141201],\n        [ 0.240644, -0.147739,  1.493047],\n        [-1.506603, -1.777936,  0.705385],\n        [-1.027565, -1.429307, -0.994285],\n        [-2.622787,  0.36015 , -0.752991],\n        [-0.46086 ,  1.361345, -1.096257],\n        [-0.738732,  1.981   ,  0.572403]]])"
     },
     "execution_count": 11,
     "metadata": {},
     "output_type": "execute_result"
    }
   ],
   "source": [
    "data.new_geometries"
   ],
   "metadata": {
    "collapsed": false,
    "ExecuteTime": {
     "end_time": "2023-11-21T18:46:42.782641800Z",
     "start_time": "2023-11-21T18:46:42.730641100Z"
    }
   }
  },
  {
   "cell_type": "code",
   "execution_count": 12,
   "outputs": [
    {
     "data": {
      "text/plain": "array([-6.02993408,  1.80555703])"
     },
     "execution_count": 12,
     "metadata": {},
     "output_type": "execute_result"
    }
   ],
   "source": [
    "# HOMO LUMO\n",
    "data.moenergies[0][data.homos[0]:data.homos[0]+2]"
   ],
   "metadata": {
    "collapsed": false,
    "ExecuteTime": {
     "end_time": "2023-11-21T18:46:42.782641800Z",
     "start_time": "2023-11-21T18:46:42.758642500Z"
    }
   }
  },
  {
   "cell_type": "code",
   "execution_count": 12,
   "outputs": [],
   "source": [],
   "metadata": {
    "collapsed": false,
    "ExecuteTime": {
     "end_time": "2023-11-21T18:46:42.783643100Z",
     "start_time": "2023-11-21T18:46:42.771640300Z"
    }
   }
  },
  {
   "cell_type": "code",
   "execution_count": 13,
   "outputs": [
    {
     "name": "stdout",
     "output_type": "stream",
     "text": [
      "0:01:02.219000\n"
     ]
    }
   ],
   "source": [
    "print(data.metadata['cpu_time'][0])"
   ],
   "metadata": {
    "collapsed": false,
    "ExecuteTime": {
     "end_time": "2023-11-21T18:46:42.795642700Z",
     "start_time": "2023-11-21T18:46:42.778642600Z"
    }
   }
  },
  {
   "cell_type": "code",
   "execution_count": 14,
   "outputs": [
    {
     "data": {
      "text/plain": "(15, 129)"
     },
     "execution_count": 14,
     "metadata": {},
     "output_type": "execute_result"
    }
   ],
   "source": [
    "data.natom, data.nmo"
   ],
   "metadata": {
    "collapsed": false,
    "ExecuteTime": {
     "end_time": "2023-11-21T18:46:42.852644100Z",
     "start_time": "2023-11-21T18:46:42.795642700Z"
    }
   }
  },
  {
   "cell_type": "code",
   "execution_count": 15,
   "outputs": [
    {
     "data": {
      "text/plain": "{'package': 'ORCA',\n 'methods': ['DFT',\n  'DFT',\n  'DFT',\n  'DFT',\n  'DFT',\n  'DFT',\n  'DFT',\n  'DFT',\n  'DFT',\n  'DFT'],\n 'success': True,\n 'legacy_package_version': '5.0.3',\n 'package_version': '5.0.3',\n 'basis_set': 'def2-SVP',\n 'warnings': ['Geometry OptimizationSwitching off AutoStartFor restart on a previous wavefunction, please use MOREAD'],\n 'info': ['the flag for use of the SHARK integral package has been found!'],\n 'input_file_name': 'input.inp',\n 'input_file_contents': '!B3LYP def2-SVP OPT\\n%cpcm\\n  smd true\\n  SMDsolvent \"THF\"\\n  end\\n%geom MaxIter 100 end\\n%pal nprocs 22 end\\n*xyz 0 1\\nC            2.33416950          0.28725986          0.03476549\\nO            1.21564089         -0.49477460         -0.30436198\\nC            0.06488140         -0.16348648          0.41940967\\nC           -1.16882544         -0.98546954          0.02625142\\nN           -1.94834967          0.25292588         -0.06365260\\nC           -0.73536909          1.07536838         -0.03876436\\nH            2.16241461          1.34861577         -0.17829044\\nH            3.16046679         -0.07612526         -0.57273056\\nH            2.58397142          0.17775524          1.09732023\\nH            0.26859209         -0.16320648          1.49814406\\nH           -1.55592664         -1.68095137          0.77177471\\nH           -1.00427617         -1.50967970         -0.91954727\\nH           -2.53069235          0.34928233         -0.88776656\\nH           -0.39783558          1.43626129         -1.01631386\\nH           -0.80487597          1.91090735          0.66019962\\n*\\n\\n',\n 'coord_type': 'xyz',\n 'keywords': ['B3LYP', 'def2-SVP', 'OPT'],\n 'coords': [['C', 2.3341695, 0.28725986, 0.03476549],\n  ['O', 1.21564089, -0.4947746, -0.30436198],\n  ['C', 0.0648814, -0.16348648, 0.41940967],\n  ['C', -1.16882544, -0.98546954, 0.02625142],\n  ['N', -1.94834967, 0.25292588, -0.0636526],\n  ['C', -0.73536909, 1.07536838, -0.03876436],\n  ['H', 2.16241461, 1.34861577, -0.17829044],\n  ['H', 3.16046679, -0.07612526, -0.57273056],\n  ['H', 2.58397142, 0.17775524, 1.09732023],\n  ['H', 0.26859209, -0.16320648, 1.49814406],\n  ['H', -1.55592664, -1.68095137, 0.77177471],\n  ['H', -1.00427617, -1.5096797, -0.91954727],\n  ['H', -2.53069235, 0.34928233, -0.88776656],\n  ['H', -0.39783558, 1.43626129, -1.01631386],\n  ['H', -0.80487597, 1.91090735, 0.66019962]],\n 'solvent_model': 'SMD-CPCM',\n 'solvent_params': {'epsilon': 7.4257, 'refractive_index': 1.405},\n 'solvent_name': 'thf',\n 'wall_time': [datetime.timedelta(seconds=62, microseconds=219000)],\n 'cpu_time': [datetime.timedelta(seconds=62, microseconds=219000)]}"
     },
     "execution_count": 15,
     "metadata": {},
     "output_type": "execute_result"
    }
   ],
   "source": [
    "data.metadata"
   ],
   "metadata": {
    "collapsed": false,
    "ExecuteTime": {
     "end_time": "2023-11-21T18:46:42.853642400Z",
     "start_time": "2023-11-21T18:46:42.809642700Z"
    }
   }
  },
  {
   "cell_type": "code",
   "execution_count": 16,
   "outputs": [
    {
     "data": {
      "text/plain": "array([-7819.87372653, -7819.91352808, -7819.91792136, -7819.92131816,\n       -7819.92270104, -7819.92371439, -7819.92423985, -7819.92445781,\n       -7819.92451822, -7819.92453454])"
     },
     "execution_count": 16,
     "metadata": {},
     "output_type": "execute_result"
    }
   ],
   "source": [
    "data.scfenergies"
   ],
   "metadata": {
    "collapsed": false,
    "ExecuteTime": {
     "end_time": "2023-11-21T18:46:42.913645Z",
     "start_time": "2023-11-21T18:46:42.832640800Z"
    }
   }
  }
 ],
 "metadata": {
  "kernelspec": {
   "name": "python3",
   "language": "python",
   "display_name": "Python 3 (ipykernel)"
  },
  "language_info": {
   "codemirror_mode": {
    "name": "ipython",
    "version": 2
   },
   "file_extension": ".py",
   "mimetype": "text/x-python",
   "name": "python",
   "nbconvert_exporter": "python",
   "pygments_lexer": "ipython2",
   "version": "2.7.6"
  }
 },
 "nbformat": 4,
 "nbformat_minor": 0
}
