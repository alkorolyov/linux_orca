{
 "cells": [
  {
   "cell_type": "code",
   "source": [
    "%load_ext autoreload\n",
    "%autoreload 2"
   ],
   "metadata": {
    "collapsed": false
   },
   "outputs": [],
   "execution_count": null
  },
  {
   "cell_type": "code",
   "metadata": {
    "collapsed": true,
    "ExecuteTime": {
     "end_time": "2024-06-26T11:54:40.760521Z",
     "start_time": "2024-06-26T11:54:40.568Z"
    }
   },
   "source": [
    "import os\n",
    "import shutil\n",
    "import logging\n",
    "import subprocess\n",
    "from copy import deepcopy\n",
    "from time import time\n",
    "from rdkit import Chem\n",
    "from rdkit.Chem import AllChem\n",
    "from rdkit.Chem.rdDistGeom import EmbedMultipleConfs\n",
    "from linux_qm.src.util import load_smiles3D, _create_tmp_dir, draw3Dconfs, set_atom_positions\n",
    "from linux_qm.qm.crest.crest import conformer_pipeline\n",
    "import pandas as pd"
   ],
   "outputs": [],
   "execution_count": 2
  },
  {
   "cell_type": "code",
   "source": [
    "smi = 'COC1CN(C)C1'\n",
    "# smi = 'CO'\n",
    "\n",
    "\n",
    "# mol = load_smiles3D(smi)\n",
    "# EmbedMultipleConfs(mol, numConfs=3)\n",
    "\n",
    "mol = conformer_pipeline(smi, screen=False)\n",
    "\n",
    "# Get the conformers\n",
    "\n",
    "conformers = mol.GetConformers()\n",
    "\n",
    "# Print the number of conformers generated\n",
    "print(f\"Number of conformers generated: {len(conformers)}\")\n",
    "print(\"Energies:\", [c.GetProp('energy') for c in conformers])"
   ],
   "metadata": {
    "collapsed": false,
    "ExecuteTime": {
     "end_time": "2024-06-26T12:13:47.768918Z",
     "start_time": "2024-06-26T12:13:44.638079Z"
    }
   },
   "outputs": [
    {
     "name": "stderr",
     "output_type": "stream",
     "text": [
      "[26-06-2024 02:13:44] [INFO] Conformer generation pipeline\n"
     ]
    },
    {
     "name": "stdout",
     "output_type": "stream",
     "text": [
      "Number of conformers generated: 4\n",
      "Energies: ['-2.6892239400000002', '-2.6879368600000002', '-2.68740596', '-2.68664653']\n"
     ]
    }
   ],
   "execution_count": 21
  },
  {
   "cell_type": "code",
   "source": [
    "query = Chem.MolFromSmarts('C1CCN1')\n",
    "atom_ids = mol.GetSubstructMatch(query)\n",
    "print(atom_ids)\n",
    "AllChem.AlignMolConformers(mol, atomIds=atom_ids)\n",
    "draw3Dconfs(mol, autoalign=False)"
   ],
   "metadata": {
    "collapsed": false,
    "ExecuteTime": {
     "end_time": "2024-06-26T12:14:00.964366Z",
     "start_time": "2024-06-26T12:14:00.958294Z"
    }
   },
   "outputs": [
    {
     "name": "stdout",
     "output_type": "stream",
     "text": [
      "(3, 2, 6, 4)\n",
      "num conformers 4\n"
     ]
    },
    {
     "data": {
      "application/3dmoljs_load.v0": "<div id=\"3dmolviewer_17194040409610271\"  style=\"position: relative; width: 600px; height: 400px;\">\n        <p id=\"3dmolwarning_17194040409610271\" style=\"background-color:#ffcccc;color:black\">You appear to be running in JupyterLab (or JavaScript failed to load for some other reason).  You need to install the 3dmol extension: <br>\n        <tt>jupyter labextension install jupyterlab_3dmol</tt></p>\n        </div>\n<script>\n\nvar loadScriptAsync = function(uri){\n  return new Promise((resolve, reject) => {\n    //this is to ignore the existence of requirejs amd\n    var savedexports, savedmodule;\n    if (typeof exports !== 'undefined') savedexports = exports;\n    else exports = {}\n    if (typeof module !== 'undefined') savedmodule = module;\n    else module = {}\n\n    var tag = document.createElement('script');\n    tag.src = uri;\n    tag.async = true;\n    tag.onload = () => {\n        exports = savedexports;\n        module = savedmodule;\n        resolve();\n    };\n  var firstScriptTag = document.getElementsByTagName('script')[0];\n  firstScriptTag.parentNode.insertBefore(tag, firstScriptTag);\n});\n};\n\nif(typeof $3Dmolpromise === 'undefined') {\n$3Dmolpromise = null;\n  $3Dmolpromise = loadScriptAsync('https://cdnjs.cloudflare.com/ajax/libs/3Dmol/2.0.4/3Dmol-min.js');\n}\n\nvar viewer_17194040409610271 = null;\nvar warn = document.getElementById(\"3dmolwarning_17194040409610271\");\nif(warn) {\n    warn.parentNode.removeChild(warn);\n}\n$3Dmolpromise.then(function() {\nviewer_17194040409610271 = $3Dmol.createViewer(document.getElementById(\"3dmolviewer_17194040409610271\"),{backgroundColor:\"white\"});\nviewer_17194040409610271.zoomTo();\n\tviewer_17194040409610271.addModel(\"\\n     RDKit          3D\\n\\n 18 18  0  0  0  0  0  0  0  0999 V2000\\n    2.4902    0.5211   -0.1072 C   0  0  0  0  0  0  0  0  0  0  0  0\\n    1.3400    0.1646    0.6195 O   0  0  0  0  0  0  0  0  0  0  0  0\\n    0.5054   -0.7451   -0.1014 C   0  0  0  0  0  0  0  0  0  0  0  0\\n   -0.8070   -1.0672    0.6337 C   0  0  0  0  0  0  0  0  0  0  0  0\\n   -1.5305   -0.1308   -0.2806 N   0  0  0  0  0  0  0  0  0  0  0  0\\n   -1.9143    1.1317    0.3584 C   0  0  0  0  0  0  0  0  0  0  0  0\\n   -0.3489   -0.0765   -1.1930 C   0  0  0  0  0  0  0  0  0  0  0  0\\n    3.0934   -0.3664   -0.3023 H   0  0  0  0  0  0  0  0  0  0  0  0\\n    3.0743    1.2273    0.4836 H   0  0  0  0  0  0  0  0  0  0  0  0\\n    2.2107    0.9898   -1.0509 H   0  0  0  0  0  0  0  0  0  0  0  0\\n    1.0698   -1.6330   -0.4301 H   0  0  0  0  0  0  0  0  0  0  0  0\\n   -0.8101   -0.7341    1.6779 H   0  0  0  0  0  0  0  0  0  0  0  0\\n   -1.1592   -2.1015    0.5279 H   0  0  0  0  0  0  0  0  0  0  0  0\\n   -1.0505    1.5908    0.8362 H   0  0  0  0  0  0  0  0  0  0  0  0\\n   -2.3114    1.8191   -0.3859 H   0  0  0  0  0  0  0  0  0  0  0  0\\n   -2.6800    0.9515    1.1104 H   0  0  0  0  0  0  0  0  0  0  0  0\\n   -0.5004   -0.6774   -2.0989 H   0  0  0  0  0  0  0  0  0  0  0  0\\n   -0.0501    0.9518   -1.4248 H   0  0  0  0  0  0  0  0  0  0  0  0\\n  1  2  1  0\\n  2  3  1  0\\n  3  4  1  0\\n  4  5  1  0\\n  5  6  1  0\\n  5  7  1  0\\n  7  3  1  0\\n  1  8  1  0\\n  1  9  1  0\\n  1 10  1  0\\n  3 11  1  0\\n  4 12  1  0\\n  4 13  1  0\\n  6 14  1  0\\n  6 15  1  0\\n  6 16  1  0\\n  7 17  1  0\\n  7 18  1  0\\nM  END\\n\",\"mol\");\n\tviewer_17194040409610271.addModel(\"\\n     RDKit          3D\\n\\n 18 18  0  0  0  0  0  0  0  0999 V2000\\n    2.1988   -1.0264    1.4273 C   0  0  0  0  0  0  0  0  0  0  0  0\\n    1.5986   -0.2196    0.4452 O   0  0  0  0  0  0  0  0  0  0  0  0\\n    0.4814   -0.8654   -0.1729 C   0  0  0  0  0  0  0  0  0  0  0  0\\n   -0.7774   -0.9453    0.7088 C   0  0  0  0  0  0  0  0  0  0  0  0\\n   -1.5678   -0.2556   -0.3563 N   0  0  0  0  0  0  0  0  0  0  0  0\\n   -2.5473   -1.0624   -1.0924 C   0  0  0  0  0  0  0  0  0  0  0  0\\n   -0.3172    0.0467   -1.1209 C   0  0  0  0  0  0  0  0  0  0  0  0\\n    1.4761   -1.2671    2.2074 H   0  0  0  0  0  0  0  0  0  0  0  0\\n    3.0338   -0.4808    1.8680 H   0  0  0  0  0  0  0  0  0  0  0  0\\n    2.5708   -1.9458    0.9736 H   0  0  0  0  0  0  0  0  0  0  0  0\\n    0.7747   -1.8246   -0.6280 H   0  0  0  0  0  0  0  0  0  0  0  0\\n   -0.7084   -0.3342    1.6155 H   0  0  0  0  0  0  0  0  0  0  0  0\\n   -1.1347   -1.9605    0.9234 H   0  0  0  0  0  0  0  0  0  0  0  0\\n   -3.3659   -1.3431   -0.4326 H   0  0  0  0  0  0  0  0  0  0  0  0\\n   -2.9520   -0.4883   -1.9236 H   0  0  0  0  0  0  0  0  0  0  0  0\\n   -2.0841   -1.9673   -1.4812 H   0  0  0  0  0  0  0  0  0  0  0  0\\n   -0.3536   -0.2835   -2.1670 H   0  0  0  0  0  0  0  0  0  0  0  0\\n   -0.0321    1.1010   -1.0344 H   0  0  0  0  0  0  0  0  0  0  0  0\\n  1  2  1  0\\n  2  3  1  0\\n  3  4  1  0\\n  4  5  1  0\\n  5  6  1  0\\n  5  7  1  0\\n  7  3  1  0\\n  1  8  1  0\\n  1  9  1  0\\n  1 10  1  0\\n  3 11  1  0\\n  4 12  1  0\\n  4 13  1  0\\n  6 14  1  0\\n  6 15  1  0\\n  6 16  1  0\\n  7 17  1  0\\n  7 18  1  0\\nM  END\\n\",\"mol\");\n\tviewer_17194040409610271.addModel(\"\\n     RDKit          3D\\n\\n 18 18  0  0  0  0  0  0  0  0999 V2000\\n    0.8385    1.2071    1.2329 C   0  0  0  0  0  0  0  0  0  0  0  0\\n    1.4257    0.1177    0.5629 O   0  0  0  0  0  0  0  0  0  0  0  0\\n    0.5049   -0.7506   -0.1052 C   0  0  0  0  0  0  0  0  0  0  0  0\\n   -0.8065   -1.0622    0.6388 C   0  0  0  0  0  0  0  0  0  0  0  0\\n   -1.5337   -0.1367   -0.2833 N   0  0  0  0  0  0  0  0  0  0  0  0\\n   -2.7589   -0.6380   -0.9181 C   0  0  0  0  0  0  0  0  0  0  0  0\\n   -0.3457   -0.0701   -1.1915 C   0  0  0  0  0  0  0  0  0  0  0  0\\n    0.0277    1.6386    0.6465 H   0  0  0  0  0  0  0  0  0  0  0  0\\n    1.6030    1.9678    1.3944 H   0  0  0  0  0  0  0  0  0  0  0  0\\n    0.4603    0.8845    2.2029 H   0  0  0  0  0  0  0  0  0  0  0  0\\n    1.0409   -1.6460   -0.4588 H   0  0  0  0  0  0  0  0  0  0  0  0\\n   -0.8342   -0.7232    1.6795 H   0  0  0  0  0  0  0  0  0  0  0  0\\n   -1.1512   -2.0995    0.5452 H   0  0  0  0  0  0  0  0  0  0  0  0\\n   -2.5799   -1.5990   -1.3966 H   0  0  0  0  0  0  0  0  0  0  0  0\\n   -3.5392   -0.7594   -0.1695 H   0  0  0  0  0  0  0  0  0  0  0  0\\n   -3.1039    0.0700   -1.6690 H   0  0  0  0  0  0  0  0  0  0  0  0\\n   -0.4798   -0.6604   -2.1066 H   0  0  0  0  0  0  0  0  0  0  0  0\\n   -0.0421    0.9585   -1.4161 H   0  0  0  0  0  0  0  0  0  0  0  0\\n  1  2  1  0\\n  2  3  1  0\\n  3  4  1  0\\n  4  5  1  0\\n  5  6  1  0\\n  5  7  1  0\\n  7  3  1  0\\n  1  8  1  0\\n  1  9  1  0\\n  1 10  1  0\\n  3 11  1  0\\n  4 12  1  0\\n  4 13  1  0\\n  6 14  1  0\\n  6 15  1  0\\n  6 16  1  0\\n  7 17  1  0\\n  7 18  1  0\\nM  END\\n\",\"mol\");\n\tviewer_17194040409610271.addModel(\"\\n     RDKit          3D\\n\\n 18 18  0  0  0  0  0  0  0  0999 V2000\\n    1.2388    1.1220    1.1114 C   0  0  0  0  0  0  0  0  0  0  0  0\\n    1.5704   -0.1045    0.5095 O   0  0  0  0  0  0  0  0  0  0  0  0\\n    0.4982   -0.8048   -0.1358 C   0  0  0  0  0  0  0  0  0  0  0  0\\n   -0.7939   -1.0116    0.6764 C   0  0  0  0  0  0  0  0  0  0  0  0\\n   -1.5532   -0.1895   -0.3183 N   0  0  0  0  0  0  0  0  0  0  0  0\\n   -2.2112    1.0058    0.2207 C   0  0  0  0  0  0  0  0  0  0  0  0\\n   -0.3322   -0.0137   -1.1635 C   0  0  0  0  0  0  0  0  0  0  0  0\\n    0.8478    1.8228    0.3758 H   0  0  0  0  0  0  0  0  0  0  0  0\\n    2.1479    1.5462    1.5390 H   0  0  0  0  0  0  0  0  0  0  0  0\\n    0.5193    0.9765    1.9154 H   0  0  0  0  0  0  0  0  0  0  0  0\\n    0.8984   -1.7454   -0.5458 H   0  0  0  0  0  0  0  0  0  0  0  0\\n   -0.7803   -0.5693    1.6769 H   0  0  0  0  0  0  0  0  0  0  0  0\\n   -1.1564   -2.0466    0.7068 H   0  0  0  0  0  0  0  0  0  0  0  0\\n   -2.6462    1.5845   -0.5916 H   0  0  0  0  0  0  0  0  0  0  0  0\\n   -3.0068    0.7137    0.9033 H   0  0  0  0  0  0  0  0  0  0  0  0\\n   -1.5036    1.6340    0.7564 H   0  0  0  0  0  0  0  0  0  0  0  0\\n   -0.4416   -0.5020   -2.1398 H   0  0  0  0  0  0  0  0  0  0  0  0\\n   -0.0400    1.0345   -1.2768 H   0  0  0  0  0  0  0  0  0  0  0  0\\n  1  2  1  0\\n  2  3  1  0\\n  3  4  1  0\\n  4  5  1  0\\n  5  6  1  0\\n  5  7  1  0\\n  7  3  1  0\\n  1  8  1  0\\n  1  9  1  0\\n  1 10  1  0\\n  3 11  1  0\\n  4 12  1  0\\n  4 13  1  0\\n  6 14  1  0\\n  6 15  1  0\\n  6 16  1  0\\n  7 17  1  0\\n  7 18  1  0\\nM  END\\n\",\"mol\");\n\tviewer_17194040409610271.setStyle({\"stick\": {}});\n\tviewer_17194040409610271.zoomTo();\nviewer_17194040409610271.render();\n});\n</script>",
      "text/html": [
       "<div id=\"3dmolviewer_17194040409610271\"  style=\"position: relative; width: 600px; height: 400px;\">\n",
       "        <p id=\"3dmolwarning_17194040409610271\" style=\"background-color:#ffcccc;color:black\">You appear to be running in JupyterLab (or JavaScript failed to load for some other reason).  You need to install the 3dmol extension: <br>\n",
       "        <tt>jupyter labextension install jupyterlab_3dmol</tt></p>\n",
       "        </div>\n",
       "<script>\n",
       "\n",
       "var loadScriptAsync = function(uri){\n",
       "  return new Promise((resolve, reject) => {\n",
       "    //this is to ignore the existence of requirejs amd\n",
       "    var savedexports, savedmodule;\n",
       "    if (typeof exports !== 'undefined') savedexports = exports;\n",
       "    else exports = {}\n",
       "    if (typeof module !== 'undefined') savedmodule = module;\n",
       "    else module = {}\n",
       "\n",
       "    var tag = document.createElement('script');\n",
       "    tag.src = uri;\n",
       "    tag.async = true;\n",
       "    tag.onload = () => {\n",
       "        exports = savedexports;\n",
       "        module = savedmodule;\n",
       "        resolve();\n",
       "    };\n",
       "  var firstScriptTag = document.getElementsByTagName('script')[0];\n",
       "  firstScriptTag.parentNode.insertBefore(tag, firstScriptTag);\n",
       "});\n",
       "};\n",
       "\n",
       "if(typeof $3Dmolpromise === 'undefined') {\n",
       "$3Dmolpromise = null;\n",
       "  $3Dmolpromise = loadScriptAsync('https://cdnjs.cloudflare.com/ajax/libs/3Dmol/2.0.4/3Dmol-min.js');\n",
       "}\n",
       "\n",
       "var viewer_17194040409610271 = null;\n",
       "var warn = document.getElementById(\"3dmolwarning_17194040409610271\");\n",
       "if(warn) {\n",
       "    warn.parentNode.removeChild(warn);\n",
       "}\n",
       "$3Dmolpromise.then(function() {\n",
       "viewer_17194040409610271 = $3Dmol.createViewer(document.getElementById(\"3dmolviewer_17194040409610271\"),{backgroundColor:\"white\"});\n",
       "viewer_17194040409610271.zoomTo();\n",
       "\tviewer_17194040409610271.addModel(\"\\n     RDKit          3D\\n\\n 18 18  0  0  0  0  0  0  0  0999 V2000\\n    2.4902    0.5211   -0.1072 C   0  0  0  0  0  0  0  0  0  0  0  0\\n    1.3400    0.1646    0.6195 O   0  0  0  0  0  0  0  0  0  0  0  0\\n    0.5054   -0.7451   -0.1014 C   0  0  0  0  0  0  0  0  0  0  0  0\\n   -0.8070   -1.0672    0.6337 C   0  0  0  0  0  0  0  0  0  0  0  0\\n   -1.5305   -0.1308   -0.2806 N   0  0  0  0  0  0  0  0  0  0  0  0\\n   -1.9143    1.1317    0.3584 C   0  0  0  0  0  0  0  0  0  0  0  0\\n   -0.3489   -0.0765   -1.1930 C   0  0  0  0  0  0  0  0  0  0  0  0\\n    3.0934   -0.3664   -0.3023 H   0  0  0  0  0  0  0  0  0  0  0  0\\n    3.0743    1.2273    0.4836 H   0  0  0  0  0  0  0  0  0  0  0  0\\n    2.2107    0.9898   -1.0509 H   0  0  0  0  0  0  0  0  0  0  0  0\\n    1.0698   -1.6330   -0.4301 H   0  0  0  0  0  0  0  0  0  0  0  0\\n   -0.8101   -0.7341    1.6779 H   0  0  0  0  0  0  0  0  0  0  0  0\\n   -1.1592   -2.1015    0.5279 H   0  0  0  0  0  0  0  0  0  0  0  0\\n   -1.0505    1.5908    0.8362 H   0  0  0  0  0  0  0  0  0  0  0  0\\n   -2.3114    1.8191   -0.3859 H   0  0  0  0  0  0  0  0  0  0  0  0\\n   -2.6800    0.9515    1.1104 H   0  0  0  0  0  0  0  0  0  0  0  0\\n   -0.5004   -0.6774   -2.0989 H   0  0  0  0  0  0  0  0  0  0  0  0\\n   -0.0501    0.9518   -1.4248 H   0  0  0  0  0  0  0  0  0  0  0  0\\n  1  2  1  0\\n  2  3  1  0\\n  3  4  1  0\\n  4  5  1  0\\n  5  6  1  0\\n  5  7  1  0\\n  7  3  1  0\\n  1  8  1  0\\n  1  9  1  0\\n  1 10  1  0\\n  3 11  1  0\\n  4 12  1  0\\n  4 13  1  0\\n  6 14  1  0\\n  6 15  1  0\\n  6 16  1  0\\n  7 17  1  0\\n  7 18  1  0\\nM  END\\n\",\"mol\");\n",
       "\tviewer_17194040409610271.addModel(\"\\n     RDKit          3D\\n\\n 18 18  0  0  0  0  0  0  0  0999 V2000\\n    2.1988   -1.0264    1.4273 C   0  0  0  0  0  0  0  0  0  0  0  0\\n    1.5986   -0.2196    0.4452 O   0  0  0  0  0  0  0  0  0  0  0  0\\n    0.4814   -0.8654   -0.1729 C   0  0  0  0  0  0  0  0  0  0  0  0\\n   -0.7774   -0.9453    0.7088 C   0  0  0  0  0  0  0  0  0  0  0  0\\n   -1.5678   -0.2556   -0.3563 N   0  0  0  0  0  0  0  0  0  0  0  0\\n   -2.5473   -1.0624   -1.0924 C   0  0  0  0  0  0  0  0  0  0  0  0\\n   -0.3172    0.0467   -1.1209 C   0  0  0  0  0  0  0  0  0  0  0  0\\n    1.4761   -1.2671    2.2074 H   0  0  0  0  0  0  0  0  0  0  0  0\\n    3.0338   -0.4808    1.8680 H   0  0  0  0  0  0  0  0  0  0  0  0\\n    2.5708   -1.9458    0.9736 H   0  0  0  0  0  0  0  0  0  0  0  0\\n    0.7747   -1.8246   -0.6280 H   0  0  0  0  0  0  0  0  0  0  0  0\\n   -0.7084   -0.3342    1.6155 H   0  0  0  0  0  0  0  0  0  0  0  0\\n   -1.1347   -1.9605    0.9234 H   0  0  0  0  0  0  0  0  0  0  0  0\\n   -3.3659   -1.3431   -0.4326 H   0  0  0  0  0  0  0  0  0  0  0  0\\n   -2.9520   -0.4883   -1.9236 H   0  0  0  0  0  0  0  0  0  0  0  0\\n   -2.0841   -1.9673   -1.4812 H   0  0  0  0  0  0  0  0  0  0  0  0\\n   -0.3536   -0.2835   -2.1670 H   0  0  0  0  0  0  0  0  0  0  0  0\\n   -0.0321    1.1010   -1.0344 H   0  0  0  0  0  0  0  0  0  0  0  0\\n  1  2  1  0\\n  2  3  1  0\\n  3  4  1  0\\n  4  5  1  0\\n  5  6  1  0\\n  5  7  1  0\\n  7  3  1  0\\n  1  8  1  0\\n  1  9  1  0\\n  1 10  1  0\\n  3 11  1  0\\n  4 12  1  0\\n  4 13  1  0\\n  6 14  1  0\\n  6 15  1  0\\n  6 16  1  0\\n  7 17  1  0\\n  7 18  1  0\\nM  END\\n\",\"mol\");\n",
       "\tviewer_17194040409610271.addModel(\"\\n     RDKit          3D\\n\\n 18 18  0  0  0  0  0  0  0  0999 V2000\\n    0.8385    1.2071    1.2329 C   0  0  0  0  0  0  0  0  0  0  0  0\\n    1.4257    0.1177    0.5629 O   0  0  0  0  0  0  0  0  0  0  0  0\\n    0.5049   -0.7506   -0.1052 C   0  0  0  0  0  0  0  0  0  0  0  0\\n   -0.8065   -1.0622    0.6388 C   0  0  0  0  0  0  0  0  0  0  0  0\\n   -1.5337   -0.1367   -0.2833 N   0  0  0  0  0  0  0  0  0  0  0  0\\n   -2.7589   -0.6380   -0.9181 C   0  0  0  0  0  0  0  0  0  0  0  0\\n   -0.3457   -0.0701   -1.1915 C   0  0  0  0  0  0  0  0  0  0  0  0\\n    0.0277    1.6386    0.6465 H   0  0  0  0  0  0  0  0  0  0  0  0\\n    1.6030    1.9678    1.3944 H   0  0  0  0  0  0  0  0  0  0  0  0\\n    0.4603    0.8845    2.2029 H   0  0  0  0  0  0  0  0  0  0  0  0\\n    1.0409   -1.6460   -0.4588 H   0  0  0  0  0  0  0  0  0  0  0  0\\n   -0.8342   -0.7232    1.6795 H   0  0  0  0  0  0  0  0  0  0  0  0\\n   -1.1512   -2.0995    0.5452 H   0  0  0  0  0  0  0  0  0  0  0  0\\n   -2.5799   -1.5990   -1.3966 H   0  0  0  0  0  0  0  0  0  0  0  0\\n   -3.5392   -0.7594   -0.1695 H   0  0  0  0  0  0  0  0  0  0  0  0\\n   -3.1039    0.0700   -1.6690 H   0  0  0  0  0  0  0  0  0  0  0  0\\n   -0.4798   -0.6604   -2.1066 H   0  0  0  0  0  0  0  0  0  0  0  0\\n   -0.0421    0.9585   -1.4161 H   0  0  0  0  0  0  0  0  0  0  0  0\\n  1  2  1  0\\n  2  3  1  0\\n  3  4  1  0\\n  4  5  1  0\\n  5  6  1  0\\n  5  7  1  0\\n  7  3  1  0\\n  1  8  1  0\\n  1  9  1  0\\n  1 10  1  0\\n  3 11  1  0\\n  4 12  1  0\\n  4 13  1  0\\n  6 14  1  0\\n  6 15  1  0\\n  6 16  1  0\\n  7 17  1  0\\n  7 18  1  0\\nM  END\\n\",\"mol\");\n",
       "\tviewer_17194040409610271.addModel(\"\\n     RDKit          3D\\n\\n 18 18  0  0  0  0  0  0  0  0999 V2000\\n    1.2388    1.1220    1.1114 C   0  0  0  0  0  0  0  0  0  0  0  0\\n    1.5704   -0.1045    0.5095 O   0  0  0  0  0  0  0  0  0  0  0  0\\n    0.4982   -0.8048   -0.1358 C   0  0  0  0  0  0  0  0  0  0  0  0\\n   -0.7939   -1.0116    0.6764 C   0  0  0  0  0  0  0  0  0  0  0  0\\n   -1.5532   -0.1895   -0.3183 N   0  0  0  0  0  0  0  0  0  0  0  0\\n   -2.2112    1.0058    0.2207 C   0  0  0  0  0  0  0  0  0  0  0  0\\n   -0.3322   -0.0137   -1.1635 C   0  0  0  0  0  0  0  0  0  0  0  0\\n    0.8478    1.8228    0.3758 H   0  0  0  0  0  0  0  0  0  0  0  0\\n    2.1479    1.5462    1.5390 H   0  0  0  0  0  0  0  0  0  0  0  0\\n    0.5193    0.9765    1.9154 H   0  0  0  0  0  0  0  0  0  0  0  0\\n    0.8984   -1.7454   -0.5458 H   0  0  0  0  0  0  0  0  0  0  0  0\\n   -0.7803   -0.5693    1.6769 H   0  0  0  0  0  0  0  0  0  0  0  0\\n   -1.1564   -2.0466    0.7068 H   0  0  0  0  0  0  0  0  0  0  0  0\\n   -2.6462    1.5845   -0.5916 H   0  0  0  0  0  0  0  0  0  0  0  0\\n   -3.0068    0.7137    0.9033 H   0  0  0  0  0  0  0  0  0  0  0  0\\n   -1.5036    1.6340    0.7564 H   0  0  0  0  0  0  0  0  0  0  0  0\\n   -0.4416   -0.5020   -2.1398 H   0  0  0  0  0  0  0  0  0  0  0  0\\n   -0.0400    1.0345   -1.2768 H   0  0  0  0  0  0  0  0  0  0  0  0\\n  1  2  1  0\\n  2  3  1  0\\n  3  4  1  0\\n  4  5  1  0\\n  5  6  1  0\\n  5  7  1  0\\n  7  3  1  0\\n  1  8  1  0\\n  1  9  1  0\\n  1 10  1  0\\n  3 11  1  0\\n  4 12  1  0\\n  4 13  1  0\\n  6 14  1  0\\n  6 15  1  0\\n  6 16  1  0\\n  7 17  1  0\\n  7 18  1  0\\nM  END\\n\",\"mol\");\n",
       "\tviewer_17194040409610271.setStyle({\"stick\": {}});\n",
       "\tviewer_17194040409610271.zoomTo();\n",
       "viewer_17194040409610271.render();\n",
       "});\n",
       "</script>"
      ]
     },
     "metadata": {},
     "output_type": "display_data"
    }
   ],
   "execution_count": 22
  },
  {
   "cell_type": "code",
   "source": [
    "import os\n",
    "os.getcwd()"
   ],
   "metadata": {
    "collapsed": false,
    "ExecuteTime": {
     "end_time": "2024-06-26T11:55:57.957605Z",
     "start_time": "2024-06-26T11:55:57.952895Z"
    }
   },
   "outputs": [
    {
     "data": {
      "text/plain": [
       "'/home/ergot/linux_qm/notebooks'"
      ]
     },
     "execution_count": 8,
     "metadata": {},
     "output_type": "execute_result"
    }
   ],
   "execution_count": 8
  },
  {
   "cell_type": "code",
   "source": [
    "logging.getLogger().setLevel(logging.DEBUG)"
   ],
   "metadata": {
    "collapsed": false,
    "ExecuteTime": {
     "end_time": "2024-06-26T11:55:59.034518Z",
     "start_time": "2024-06-26T11:55:59.031234Z"
    }
   },
   "outputs": [],
   "execution_count": 9
  },
  {
   "cell_type": "code",
   "source": [
    "from linux_qm.qm.orca.orca import OrcaDriver\n",
    "orca = OrcaDriver()\n",
    "\n",
    "conf = deepcopy(mol).GetConformer()\n",
    "\n",
    "orca.options['method'] = 'XTB2'\n",
    "orca.geometry_optimization(conf)\n",
    "\n",
    "orca.options['n_jobs'] = 1\n",
    "orca.options['method'] = 'HF-3c'\n",
    "# orca.options['method'] = ''\n",
    "data = orca.single_point(conf, calc_npa=True)"
   ],
   "metadata": {
    "collapsed": false,
    "ExecuteTime": {
     "end_time": "2024-06-26T11:56:08.903700Z",
     "start_time": "2024-06-26T11:56:06.790942Z"
    }
   },
   "outputs": [
    {
     "name": "stderr",
     "output_type": "stream",
     "text": [
      "[26-06-2024 01:56:07] [INFO] Method: XTB2\n",
      "[26-06-2024 01:56:07] [DEBUG] ORCA INPUT:\n",
      "!XTB2 OPT  \n",
      "%geom MaxIter 100 end\n",
      "%maxcore 2000\n",
      "*xyz 0 1\n",
      "C            2.49009597          0.52056894          0.10790894\n",
      "O            1.33946624          0.16581571         -0.61907911\n",
      "C            0.50519056         -0.74537539          0.10022886\n",
      "C           -0.34923328         -0.07900651          1.19307096\n",
      "N           -1.53057685         -0.13088972          0.28018288\n",
      "C           -1.91285336          1.13296735         -0.35686601\n",
      "C           -0.80729925         -1.06641919         -0.63533616\n",
      "H            3.07424903          1.22757048         -0.48197263\n",
      "H            3.09292696         -0.36745586          0.30117526\n",
      "H            2.21105321          0.98770570          1.05248281\n",
      "H            1.06978879         -1.63381109          0.42724156\n",
      "H           -0.05003605          0.94861624          1.42730621\n",
      "H           -0.50105862         -0.68185050          2.09762347\n",
      "H           -2.67947963          0.95492242         -1.10844004\n",
      "H           -2.30827271          1.82002988          0.38866501\n",
      "H           -1.04870862          1.59135015         -0.83477978\n",
      "H           -1.15968950         -2.10071388         -0.53064748\n",
      "H           -0.81012706         -0.73210747         -1.67914586\n",
      "*\n",
      "\n",
      "\n",
      "[26-06-2024 01:56:07] [DEBUG] ORCA OUTPUT:\n",
      "\n",
      "                                *** OPTIMIZATION RUN DONE ***\n",
      "\n",
      "Timings for individual modules:\n",
      "\n",
      "Sum of individual times         ...        0.589 sec (=   0.010 min)\n",
      "Geometry relaxation             ...        0.287 sec (=   0.005 min)  48.7 %\n",
      "XTB module                      ...        0.302 sec (=   0.005 min)  51.3 %\n",
      "                             ****ORCA TERMINATED NORMALLY****\n",
      "TOTAL RUN TIME: 0 days 0 hours 0 minutes 0 seconds 905 msec\n",
      "\n",
      "[26-06-2024 01:56:07] [INFO] Identified logfile to be in ORCA format\n",
      "[26-06-2024 01:56:08] [DEBUG] CALC_NPA: False\n",
      "[26-06-2024 01:56:08] [INFO] Success: True\n",
      "[26-06-2024 01:56:08] [INFO] Num Iter: 15\n",
      "[26-06-2024 01:56:08] [INFO] Elapsed Time: 1.0s\n",
      "[26-06-2024 01:56:08] [INFO] Method: HF-3c\n",
      "[26-06-2024 01:56:08] [DEBUG] ORCA INPUT:\n",
      "!HF-3c   \n",
      "%geom MaxIter 100 end\n",
      "%maxcore 2000\n",
      "*xyz 0 1\n",
      "C            2.81541200          0.13577100          0.26563500\n",
      "O            1.70521000         -0.03520500         -0.58017300\n",
      "C            0.59693100         -0.59627600          0.06464600\n",
      "C           -0.26543400          0.33350700          0.94221300\n",
      "N           -1.45572700         -0.13684500          0.22928700\n",
      "C           -2.43481100          0.84582700         -0.15439800\n",
      "C           -0.63767300         -0.73008500         -0.83192800\n",
      "H            3.60969500          0.55530400         -0.34836800\n",
      "H            3.14332600         -0.82367500          0.68455200\n",
      "H            2.59030000          0.82081800          1.09114400\n",
      "H            0.87265000         -1.52792600          0.57596400\n",
      "H           -0.02996700          1.38953300          0.76048400\n",
      "H           -0.29624400          0.13599000          2.01471300\n",
      "H           -3.20575700          0.35800700         -0.74951600\n",
      "H           -2.89170100          1.25580100          0.74566300\n",
      "H           -2.00443800          1.67256800         -0.74191000\n",
      "H           -0.94733000         -1.73672100         -1.11254700\n",
      "H           -0.53900600         -0.10447700         -1.72584200\n",
      "*\n",
      "\n",
      "\n",
      "[26-06-2024 01:56:08] [DEBUG] ORCA OUTPUT:\n",
      "\n",
      " \n",
      "\n",
      "Timings for individual modules:\n",
      "\n",
      "Sum of individual times         ...        0.325 sec (=   0.005 min)\n",
      "GTO integral calculation        ...        0.191 sec (=   0.003 min)  58.9 %\n",
      "SCF iterations                  ...        0.133 sec (=   0.002 min)  41.1 %\n",
      "                             ****ORCA TERMINATED NORMALLY****\n",
      "TOTAL RUN TIME: 0 days 0 hours 0 minutes 0 seconds 438 msec\n",
      "\n",
      "[26-06-2024 01:56:08] [INFO] Identified logfile to be in ORCA format\n",
      "[26-06-2024 01:56:08] [DEBUG] CALC_NPA: True\n",
      "[26-06-2024 01:56:08] [DEBUG] JANPA jobname:task\n",
      "[26-06-2024 01:56:08] [DEBUG] orca_2mkl task -molden\n",
      "[26-06-2024 01:56:08] [DEBUG] java -jar /home/ergot/linux_qm/install/janpa/molden2molden.jar -i task.molden.input -o joutput.PURE -fromorca3bf -orca3signs\n",
      "[26-06-2024 01:56:08] [DEBUG] java -jar /home/ergot/linux_qm/install/janpa/janpa.jar -i joutput.PURE\n",
      "[26-06-2024 01:56:08] [DEBUG] -0.0884302592\n",
      "[26-06-2024 01:56:08] [DEBUG] -0.4024475741\n",
      "[26-06-2024 01:56:08] [DEBUG]  0.1291983375\n",
      "[26-06-2024 01:56:08] [DEBUG] -0.1129274263\n",
      "[26-06-2024 01:56:08] [DEBUG] -0.2726103827\n",
      "[26-06-2024 01:56:08] [DEBUG] -0.2071173073\n",
      "[26-06-2024 01:56:08] [DEBUG] -0.1019249482\n",
      "[26-06-2024 01:56:08] [DEBUG]  0.1071366747\n",
      "[26-06-2024 01:56:08] [DEBUG]  0.0911200716\n",
      "[26-06-2024 01:56:08] [DEBUG]  0.0903894506\n",
      "[26-06-2024 01:56:08] [DEBUG]  0.0858528625\n",
      "[26-06-2024 01:56:08] [DEBUG]  0.0942406742\n",
      "[26-06-2024 01:56:08] [DEBUG]  0.0917675514\n",
      "[26-06-2024 01:56:08] [DEBUG]  0.1062633067\n",
      "[26-06-2024 01:56:08] [DEBUG]  0.1054924206\n",
      "[26-06-2024 01:56:08] [DEBUG]  0.0866929669\n",
      "[26-06-2024 01:56:08] [DEBUG]  0.0957203419\n",
      "[26-06-2024 01:56:08] [DEBUG]  0.1015832422\n",
      "[26-06-2024 01:56:08] [INFO] Success: True\n"
     ]
    }
   ],
   "execution_count": 10
  },
  {
   "cell_type": "code",
   "source": [
    "data.metadata['input_file_name']"
   ],
   "metadata": {
    "collapsed": false,
    "ExecuteTime": {
     "end_time": "2024-06-26T11:56:13.147705Z",
     "start_time": "2024-06-26T11:56:13.143132Z"
    }
   },
   "outputs": [
    {
     "data": {
      "text/plain": [
       "'task.inp'"
      ]
     },
     "execution_count": 11,
     "metadata": {},
     "output_type": "execute_result"
    }
   ],
   "execution_count": 11
  },
  {
   "cell_type": "code",
   "source": [
    "for k,v in data.atomcharges.items():\n",
    "    print(k)\n",
    "    print(v)"
   ],
   "metadata": {
    "collapsed": false,
    "ExecuteTime": {
     "end_time": "2024-06-26T11:56:14.939643Z",
     "start_time": "2024-06-26T11:56:14.935960Z"
    }
   },
   "outputs": [
    {
     "name": "stdout",
     "output_type": "stream",
     "text": [
      "mulliken\n",
      "[-0.170527 -0.437291  0.066179 -0.152182 -0.323463 -0.259003 -0.142218\n",
      "  0.14283   0.125367  0.124898  0.131906  0.126472  0.126085  0.132139\n",
      "  0.131237  0.11176   0.130735  0.135075]\n",
      "lowdin\n",
      "[-0.076192 -0.319472  0.08039  -0.089614 -0.215432 -0.155919 -0.076896\n",
      "  0.089709  0.074511  0.073951  0.074585  0.075753  0.074543  0.083157\n",
      "  0.082477  0.064276  0.07803   0.082144]\n",
      "npa\n",
      "[-0.08843  -0.402448  0.129198 -0.112927 -0.27261  -0.207117 -0.101925\n",
      "  0.107137  0.09112   0.090389  0.085853  0.094241  0.091768  0.106263\n",
      "  0.105492  0.086693  0.09572   0.101583]\n"
     ]
    }
   ],
   "execution_count": 12
  },
  {
   "cell_type": "code",
   "source": [
    "orca.geometry_optimization(conf)"
   ],
   "metadata": {
    "collapsed": false,
    "ExecuteTime": {
     "end_time": "2024-06-26T11:56:21.728412Z",
     "start_time": "2024-06-26T11:56:17.004823Z"
    }
   },
   "outputs": [
    {
     "name": "stderr",
     "output_type": "stream",
     "text": [
      "[26-06-2024 01:56:17] [INFO] Method: HF-3c\n",
      "[26-06-2024 01:56:17] [DEBUG] ORCA INPUT:\n",
      "!HF-3c OPT  \n",
      "%geom MaxIter 100 end\n",
      "%maxcore 2000\n",
      "*xyz 0 1\n",
      "C            2.81541200          0.13577100          0.26563500\n",
      "O            1.70521000         -0.03520500         -0.58017300\n",
      "C            0.59693100         -0.59627600          0.06464600\n",
      "C           -0.26543400          0.33350700          0.94221300\n",
      "N           -1.45572700         -0.13684500          0.22928700\n",
      "C           -2.43481100          0.84582700         -0.15439800\n",
      "C           -0.63767300         -0.73008500         -0.83192800\n",
      "H            3.60969500          0.55530400         -0.34836800\n",
      "H            3.14332600         -0.82367500          0.68455200\n",
      "H            2.59030000          0.82081800          1.09114400\n",
      "H            0.87265000         -1.52792600          0.57596400\n",
      "H           -0.02996700          1.38953300          0.76048400\n",
      "H           -0.29624400          0.13599000          2.01471300\n",
      "H           -3.20575700          0.35800700         -0.74951600\n",
      "H           -2.89170100          1.25580100          0.74566300\n",
      "H           -2.00443800          1.67256800         -0.74191000\n",
      "H           -0.94733000         -1.73672100         -1.11254700\n",
      "H           -0.53900600         -0.10447700         -1.72584200\n",
      "*\n",
      "\n",
      "\n",
      "[26-06-2024 01:56:21] [DEBUG] ORCA OUTPUT:\n",
      "\n",
      "Timings for individual modules:\n",
      "\n",
      "Sum of individual times         ...        4.448 sec (=   0.074 min)\n",
      "GTO integral calculation        ...        0.832 sec (=   0.014 min)  18.7 %\n",
      "SCF iterations                  ...        0.714 sec (=   0.012 min)  16.0 %\n",
      "SCF Gradient evaluation         ...        2.798 sec (=   0.047 min)  62.9 %\n",
      "Geometry relaxation             ...        0.104 sec (=   0.002 min)   2.3 %\n",
      "                             ****ORCA TERMINATED NORMALLY****\n",
      "TOTAL RUN TIME: 0 days 0 hours 0 minutes 4 seconds 686 msec\n",
      "\n",
      "[26-06-2024 01:56:21] [INFO] Identified logfile to be in ORCA format\n",
      "[26-06-2024 01:56:21] [DEBUG] CALC_NPA: False\n",
      "[26-06-2024 01:56:21] [INFO] Success: True\n",
      "[26-06-2024 01:56:21] [INFO] Num Iter: 7\n",
      "[26-06-2024 01:56:21] [INFO] Elapsed Time: 4.7s\n"
     ]
    },
    {
     "data": {
      "text/plain": [
       "<cclib.parser.data.ccData_optdone_bool at 0x7f4c17cea620>"
      ]
     },
     "execution_count": 13,
     "metadata": {},
     "output_type": "execute_result"
    }
   ],
   "execution_count": 13
  },
  {
   "metadata": {
    "ExecuteTime": {
     "end_time": "2024-06-26T12:03:14.077253Z",
     "start_time": "2024-06-26T12:01:06.029388Z"
    }
   },
   "cell_type": "code",
   "source": [
    "%%time\n",
    "\n",
    "logging.getLogger().setLevel(logging.INFO)\n",
    "orca.options['solvent'] = 'DMSO'\n",
    "orca.options['n_jobs'] = 8\n",
    "\n",
    "conf = deepcopy(mol).GetConformer()\n",
    "\n",
    "orca.options['method'] = 'M062X 6-31G'\n",
    "orca.geometry_optimization(conf)"
   ],
   "outputs": [
    {
     "name": "stderr",
     "output_type": "stream",
     "text": [
      "[26-06-2024 02:01:06] [INFO] Method: M062X 6-31G\n",
      "[26-06-2024 02:03:14] [INFO] Identified logfile to be in ORCA format\n",
      "[26-06-2024 02:03:14] [INFO] Success: True\n",
      "[26-06-2024 02:03:14] [INFO] Num Iter: 17\n",
      "[26-06-2024 02:03:14] [INFO] Elapsed Time: 128.0s\n"
     ]
    },
    {
     "name": "stdout",
     "output_type": "stream",
     "text": [
      "CPU times: user 130 ms, sys: 7.24 ms, total: 137 ms\n",
      "Wall time: 2min 8s\n"
     ]
    },
    {
     "data": {
      "text/plain": [
       "<cclib.parser.data.ccData_optdone_bool at 0x7f4be229e020>"
      ]
     },
     "execution_count": 19,
     "metadata": {},
     "output_type": "execute_result"
    }
   ],
   "execution_count": 19
  },
  {
   "cell_type": "code",
   "source": [
    "%%time\n",
    "\n",
    "logging.getLogger().setLevel(logging.INFO)\n",
    "orca.options['solvent'] = 'DMSO'\n",
    "\n",
    "conf = deepcopy(mol).GetConformer()\n",
    "\n",
    "orca.options['method'] = 'M062X 6-311++G(d,p) NMR'\n",
    "orca.geometry_optimization(conf)"
   ],
   "metadata": {
    "collapsed": false,
    "ExecuteTime": {
     "end_time": "2024-06-26T12:00:05.366064Z",
     "start_time": "2024-06-26T11:59:12.387596Z"
    }
   },
   "outputs": [
    {
     "name": "stderr",
     "output_type": "stream",
     "text": [
      "[26-06-2024 01:59:12] [INFO] Method: M062X 6-311++G(d,p) NMR\n"
     ]
    },
    {
     "ename": "KeyboardInterrupt",
     "evalue": "",
     "output_type": "error",
     "traceback": [
      "\u001B[0;31m---------------------------------------------------------------------------\u001B[0m",
      "\u001B[0;31mKeyboardInterrupt\u001B[0m                         Traceback (most recent call last)",
      "File \u001B[0;32m<timed exec>:8\u001B[0m\n",
      "File \u001B[0;32m~/linux_qm/linux_qm/qm/orca/orca.py:117\u001B[0m, in \u001B[0;36mOrcaDriver.geometry_optimization\u001B[0;34m(self, conf, calc_npa)\u001B[0m\n\u001B[1;32m    114\u001B[0m \u001B[38;5;28mself\u001B[39m\u001B[38;5;241m.\u001B[39moptions[\u001B[38;5;124m'\u001B[39m\u001B[38;5;124mopt_geom\u001B[39m\u001B[38;5;124m'\u001B[39m] \u001B[38;5;241m=\u001B[39m \u001B[38;5;28;01mTrue\u001B[39;00m\n\u001B[1;32m    115\u001B[0m \u001B[38;5;28mself\u001B[39m\u001B[38;5;241m.\u001B[39moptions[\u001B[38;5;124m'\u001B[39m\u001B[38;5;124mcalc_npa\u001B[39m\u001B[38;5;124m'\u001B[39m] \u001B[38;5;241m=\u001B[39m calc_npa\n\u001B[0;32m--> 117\u001B[0m data \u001B[38;5;241m=\u001B[39m \u001B[38;5;28;43mself\u001B[39;49m\u001B[38;5;241;43m.\u001B[39;49m\u001B[43mrun\u001B[49m\u001B[43m(\u001B[49m\u001B[43mconf\u001B[49m\u001B[43m)\u001B[49m\n\u001B[1;32m    119\u001B[0m success \u001B[38;5;241m=\u001B[39m data\u001B[38;5;241m.\u001B[39mmetadata[\u001B[38;5;124m'\u001B[39m\u001B[38;5;124msuccess\u001B[39m\u001B[38;5;124m'\u001B[39m]\n\u001B[1;32m    120\u001B[0m conf\u001B[38;5;241m.\u001B[39mSetBoolProp(\u001B[38;5;124m'\u001B[39m\u001B[38;5;124msuccess\u001B[39m\u001B[38;5;124m'\u001B[39m, success)\n",
      "File \u001B[0;32m~/linux_qm/linux_qm/qm/orca/orca.py:144\u001B[0m, in \u001B[0;36mOrcaDriver.run\u001B[0;34m(self, conf)\u001B[0m\n\u001B[1;32m    141\u001B[0m \u001B[38;5;28mself\u001B[39m\u001B[38;5;241m.\u001B[39m_start_routine()\n\u001B[1;32m    143\u001B[0m input_str \u001B[38;5;241m=\u001B[39m \u001B[38;5;28mself\u001B[39m\u001B[38;5;241m.\u001B[39mgen_input(conf)\n\u001B[0;32m--> 144\u001B[0m output \u001B[38;5;241m=\u001B[39m \u001B[38;5;28;43mself\u001B[39;49m\u001B[38;5;241;43m.\u001B[39;49m\u001B[43mrun_orca\u001B[49m\u001B[43m(\u001B[49m\u001B[43minput_str\u001B[49m\u001B[43m)\u001B[49m\n\u001B[1;32m    145\u001B[0m data \u001B[38;5;241m=\u001B[39m \u001B[38;5;28mself\u001B[39m\u001B[38;5;241m.\u001B[39mparse(output)\n\u001B[1;32m    147\u001B[0m \u001B[38;5;28mself\u001B[39m\u001B[38;5;241m.\u001B[39m_end_routine()\n",
      "File \u001B[0;32m~/linux_qm/linux_qm/qm/orca/orca.py:159\u001B[0m, in \u001B[0;36mOrcaDriver.run_orca\u001B[0;34m(self, input_str)\u001B[0m\n\u001B[1;32m    152\u001B[0m \u001B[38;5;250m\u001B[39m\u001B[38;5;124;03m\"\"\"\u001B[39;00m\n\u001B[1;32m    153\u001B[0m \u001B[38;5;124;03mRun orca command line\u001B[39;00m\n\u001B[1;32m    154\u001B[0m \u001B[38;5;124;03m:param input_str:\u001B[39;00m\n\u001B[1;32m    155\u001B[0m \u001B[38;5;124;03m:return:\u001B[39;00m\n\u001B[1;32m    156\u001B[0m \u001B[38;5;124;03m\"\"\"\u001B[39;00m\n\u001B[1;32m    157\u001B[0m \u001B[38;5;28mself\u001B[39m\u001B[38;5;241m.\u001B[39m_write_input(input_str)\n\u001B[0;32m--> 159\u001B[0m res \u001B[38;5;241m=\u001B[39m \u001B[43msubprocess\u001B[49m\u001B[38;5;241;43m.\u001B[39;49m\u001B[43mrun\u001B[49m\u001B[43m(\u001B[49m\n\u001B[1;32m    160\u001B[0m \u001B[43m    \u001B[49m\u001B[43m[\u001B[49m\u001B[38;5;28;43mself\u001B[39;49m\u001B[38;5;241;43m.\u001B[39;49m\u001B[43morca_path\u001B[49m\u001B[43m \u001B[49m\u001B[38;5;241;43m+\u001B[39;49m\u001B[43m \u001B[49m\u001B[38;5;124;43m'\u001B[39;49m\u001B[38;5;124;43m/orca\u001B[39;49m\u001B[38;5;124;43m'\u001B[39;49m\u001B[43m,\u001B[49m\u001B[43m \u001B[49m\u001B[38;5;28;43mself\u001B[39;49m\u001B[38;5;241;43m.\u001B[39;49m\u001B[43mjobname\u001B[49m\u001B[43m \u001B[49m\u001B[38;5;241;43m+\u001B[39;49m\u001B[43m \u001B[49m\u001B[38;5;124;43m'\u001B[39;49m\u001B[38;5;124;43m.inp\u001B[39;49m\u001B[38;5;124;43m'\u001B[39;49m\u001B[43m]\u001B[49m\u001B[43m,\u001B[49m\u001B[43m  \u001B[49m\u001B[38;5;66;43;03m#, '--use-hwthread-cpus --allow-run-as-root'], # '--use-hwthread-cpus --allow-run-as-root'\u001B[39;49;00m\n\u001B[1;32m    161\u001B[0m \u001B[43m    \u001B[49m\u001B[43mcapture_output\u001B[49m\u001B[38;5;241;43m=\u001B[39;49m\u001B[38;5;28;43;01mTrue\u001B[39;49;00m\u001B[43m,\u001B[49m\n\u001B[1;32m    162\u001B[0m \u001B[43m    \u001B[49m\u001B[43mtext\u001B[49m\u001B[38;5;241;43m=\u001B[39;49m\u001B[38;5;28;43;01mTrue\u001B[39;49;00m\n\u001B[1;32m    163\u001B[0m \u001B[43m\u001B[49m\u001B[43m)\u001B[49m\n\u001B[1;32m    164\u001B[0m output, error \u001B[38;5;241m=\u001B[39m res\u001B[38;5;241m.\u001B[39mstdout, res\u001B[38;5;241m.\u001B[39mstderr\n\u001B[1;32m    166\u001B[0m \u001B[38;5;28;01mif\u001B[39;00m res\u001B[38;5;241m.\u001B[39mreturncode \u001B[38;5;241m!=\u001B[39m \u001B[38;5;241m0\u001B[39m:\n",
      "File \u001B[0;32m~/miniforge3/envs/linux_qm/lib/python3.10/subprocess.py:505\u001B[0m, in \u001B[0;36mrun\u001B[0;34m(input, capture_output, timeout, check, *popenargs, **kwargs)\u001B[0m\n\u001B[1;32m    503\u001B[0m \u001B[38;5;28;01mwith\u001B[39;00m Popen(\u001B[38;5;241m*\u001B[39mpopenargs, \u001B[38;5;241m*\u001B[39m\u001B[38;5;241m*\u001B[39mkwargs) \u001B[38;5;28;01mas\u001B[39;00m process:\n\u001B[1;32m    504\u001B[0m     \u001B[38;5;28;01mtry\u001B[39;00m:\n\u001B[0;32m--> 505\u001B[0m         stdout, stderr \u001B[38;5;241m=\u001B[39m \u001B[43mprocess\u001B[49m\u001B[38;5;241;43m.\u001B[39;49m\u001B[43mcommunicate\u001B[49m\u001B[43m(\u001B[49m\u001B[38;5;28;43minput\u001B[39;49m\u001B[43m,\u001B[49m\u001B[43m \u001B[49m\u001B[43mtimeout\u001B[49m\u001B[38;5;241;43m=\u001B[39;49m\u001B[43mtimeout\u001B[49m\u001B[43m)\u001B[49m\n\u001B[1;32m    506\u001B[0m     \u001B[38;5;28;01mexcept\u001B[39;00m TimeoutExpired \u001B[38;5;28;01mas\u001B[39;00m exc:\n\u001B[1;32m    507\u001B[0m         process\u001B[38;5;241m.\u001B[39mkill()\n",
      "File \u001B[0;32m~/miniforge3/envs/linux_qm/lib/python3.10/subprocess.py:1154\u001B[0m, in \u001B[0;36mPopen.communicate\u001B[0;34m(self, input, timeout)\u001B[0m\n\u001B[1;32m   1151\u001B[0m     endtime \u001B[38;5;241m=\u001B[39m \u001B[38;5;28;01mNone\u001B[39;00m\n\u001B[1;32m   1153\u001B[0m \u001B[38;5;28;01mtry\u001B[39;00m:\n\u001B[0;32m-> 1154\u001B[0m     stdout, stderr \u001B[38;5;241m=\u001B[39m \u001B[38;5;28;43mself\u001B[39;49m\u001B[38;5;241;43m.\u001B[39;49m\u001B[43m_communicate\u001B[49m\u001B[43m(\u001B[49m\u001B[38;5;28;43minput\u001B[39;49m\u001B[43m,\u001B[49m\u001B[43m \u001B[49m\u001B[43mendtime\u001B[49m\u001B[43m,\u001B[49m\u001B[43m \u001B[49m\u001B[43mtimeout\u001B[49m\u001B[43m)\u001B[49m\n\u001B[1;32m   1155\u001B[0m \u001B[38;5;28;01mexcept\u001B[39;00m \u001B[38;5;167;01mKeyboardInterrupt\u001B[39;00m:\n\u001B[1;32m   1156\u001B[0m     \u001B[38;5;66;03m# https://bugs.python.org/issue25942\u001B[39;00m\n\u001B[1;32m   1157\u001B[0m     \u001B[38;5;66;03m# See the detailed comment in .wait().\u001B[39;00m\n\u001B[1;32m   1158\u001B[0m     \u001B[38;5;28;01mif\u001B[39;00m timeout \u001B[38;5;129;01mis\u001B[39;00m \u001B[38;5;129;01mnot\u001B[39;00m \u001B[38;5;28;01mNone\u001B[39;00m:\n",
      "File \u001B[0;32m~/miniforge3/envs/linux_qm/lib/python3.10/subprocess.py:2021\u001B[0m, in \u001B[0;36mPopen._communicate\u001B[0;34m(self, input, endtime, orig_timeout)\u001B[0m\n\u001B[1;32m   2014\u001B[0m     \u001B[38;5;28mself\u001B[39m\u001B[38;5;241m.\u001B[39m_check_timeout(endtime, orig_timeout,\n\u001B[1;32m   2015\u001B[0m                         stdout, stderr,\n\u001B[1;32m   2016\u001B[0m                         skip_check_and_raise\u001B[38;5;241m=\u001B[39m\u001B[38;5;28;01mTrue\u001B[39;00m)\n\u001B[1;32m   2017\u001B[0m     \u001B[38;5;28;01mraise\u001B[39;00m \u001B[38;5;167;01mRuntimeError\u001B[39;00m(  \u001B[38;5;66;03m# Impossible :)\u001B[39;00m\n\u001B[1;32m   2018\u001B[0m         \u001B[38;5;124m'\u001B[39m\u001B[38;5;124m_check_timeout(..., skip_check_and_raise=True) \u001B[39m\u001B[38;5;124m'\u001B[39m\n\u001B[1;32m   2019\u001B[0m         \u001B[38;5;124m'\u001B[39m\u001B[38;5;124mfailed to raise TimeoutExpired.\u001B[39m\u001B[38;5;124m'\u001B[39m)\n\u001B[0;32m-> 2021\u001B[0m ready \u001B[38;5;241m=\u001B[39m \u001B[43mselector\u001B[49m\u001B[38;5;241;43m.\u001B[39;49m\u001B[43mselect\u001B[49m\u001B[43m(\u001B[49m\u001B[43mtimeout\u001B[49m\u001B[43m)\u001B[49m\n\u001B[1;32m   2022\u001B[0m \u001B[38;5;28mself\u001B[39m\u001B[38;5;241m.\u001B[39m_check_timeout(endtime, orig_timeout, stdout, stderr)\n\u001B[1;32m   2024\u001B[0m \u001B[38;5;66;03m# XXX Rewrite these to use non-blocking I/O on the file\u001B[39;00m\n\u001B[1;32m   2025\u001B[0m \u001B[38;5;66;03m# objects; they are no longer using C stdio!\u001B[39;00m\n",
      "File \u001B[0;32m~/miniforge3/envs/linux_qm/lib/python3.10/selectors.py:416\u001B[0m, in \u001B[0;36m_PollLikeSelector.select\u001B[0;34m(self, timeout)\u001B[0m\n\u001B[1;32m    414\u001B[0m ready \u001B[38;5;241m=\u001B[39m []\n\u001B[1;32m    415\u001B[0m \u001B[38;5;28;01mtry\u001B[39;00m:\n\u001B[0;32m--> 416\u001B[0m     fd_event_list \u001B[38;5;241m=\u001B[39m \u001B[38;5;28;43mself\u001B[39;49m\u001B[38;5;241;43m.\u001B[39;49m\u001B[43m_selector\u001B[49m\u001B[38;5;241;43m.\u001B[39;49m\u001B[43mpoll\u001B[49m\u001B[43m(\u001B[49m\u001B[43mtimeout\u001B[49m\u001B[43m)\u001B[49m\n\u001B[1;32m    417\u001B[0m \u001B[38;5;28;01mexcept\u001B[39;00m \u001B[38;5;167;01mInterruptedError\u001B[39;00m:\n\u001B[1;32m    418\u001B[0m     \u001B[38;5;28;01mreturn\u001B[39;00m ready\n",
      "\u001B[0;31mKeyboardInterrupt\u001B[0m: "
     ]
    }
   ],
   "execution_count": 18
  },
  {
   "cell_type": "code",
   "source": [
    "%%time\n",
    "\n",
    "conf = deepcopy(mol).GetConformer()\n",
    "\n",
    "orca.options['method'] = 'M062X 6-31G'\n",
    "orca.geometry_optimization(conf)\n",
    "\n",
    "orca.options['method'] = 'M062X 6-311++G(d,p) NMR'\n",
    "orca.geometry_optimization(conf)"
   ],
   "metadata": {
    "collapsed": false,
    "ExecuteTime": {
     "end_time": "2024-06-26T11:58:59.755486Z",
     "start_time": "2024-06-26T11:58:59.632094Z"
    }
   },
   "outputs": [
    {
     "name": "stderr",
     "output_type": "stream",
     "text": [
      "[26-06-2024 01:58:59] [INFO] Method: M062X 6-31G\n",
      "[26-06-2024 01:58:59] [INFO] Identified logfile to be in ORCA format\n",
      "[26-06-2024 01:58:59] [INFO] Method: M062X 6-311++G(d,p) NMR\n",
      "[26-06-2024 01:58:59] [INFO] Identified logfile to be in ORCA format\n"
     ]
    },
    {
     "name": "stdout",
     "output_type": "stream",
     "text": [
      "CPU times: user 8.25 ms, sys: 9.36 ms, total: 17.6 ms\n",
      "Wall time: 119 ms\n"
     ]
    },
    {
     "data": {
      "text/plain": [
       "<cclib.parser.data.ccData_optdone_bool at 0x7f4be22245b0>"
      ]
     },
     "execution_count": 17,
     "metadata": {},
     "output_type": "execute_result"
    }
   ],
   "execution_count": 17
  },
  {
   "cell_type": "code",
   "source": [
    "%%time\n",
    "\n",
    "conf = deepcopy(mol).GetConformer()\n",
    "orca.options['method'] = 'M062X cc-pVDZ'\n",
    "orca.geometry_optimization(conf)"
   ],
   "metadata": {
    "collapsed": false,
    "ExecuteTime": {
     "end_time": "2024-06-26T12:09:21.610922Z",
     "start_time": "2024-06-26T12:04:17.658952Z"
    }
   },
   "outputs": [
    {
     "name": "stderr",
     "output_type": "stream",
     "text": [
      "[26-06-2024 02:04:17] [INFO] Method: M062X cc-pVDZ NMR\n",
      "[26-06-2024 02:09:21] [INFO] Identified logfile to be in ORCA format\n",
      "[26-06-2024 02:09:21] [INFO] Success: True\n",
      "[26-06-2024 02:09:21] [INFO] Num Iter: 22\n",
      "[26-06-2024 02:09:21] [INFO] Elapsed Time: 303.9s\n"
     ]
    },
    {
     "name": "stdout",
     "output_type": "stream",
     "text": [
      "CPU times: user 188 ms, sys: 32.9 ms, total: 221 ms\n",
      "Wall time: 5min 3s\n"
     ]
    },
    {
     "data": {
      "text/plain": [
       "<cclib.parser.data.ccData_optdone_bool at 0x7f4be229d0c0>"
      ]
     },
     "execution_count": 20,
     "metadata": {},
     "output_type": "execute_result"
    }
   ],
   "execution_count": 20
  },
  {
   "cell_type": "code",
   "execution_count": 12,
   "outputs": [
    {
     "name": "stderr",
     "output_type": "stream",
     "text": [
      "[24-11-2023 02:38:10] [INFO] Geometry optimization\n",
      "[24-11-2023 02:38:10] [INFO] Method: M062X cc-pVTZ NMR\n",
      "[24-11-2023 02:41:28] [INFO] Identified logfile to be in ORCA format\n",
      "[24-11-2023 02:41:28] [INFO] Success: True\n",
      "[24-11-2023 02:41:28] [INFO] Num Iter: 9\n",
      "[24-11-2023 02:41:28] [INFO] Elapsed Time: 198.2s\n"
     ]
    },
    {
     "name": "stdout",
     "output_type": "stream",
     "text": [
      "CPU times: user 175 ms, sys: 49.4 ms, total: 225 ms\n",
      "Wall time: 3min 18s\n"
     ]
    }
   ],
   "source": [
    "%%time\n",
    "conf = deepcopy(mol).GetConformer()\n",
    "orca.options['method'] = 'M062X cc-pVTZ'\n",
    "orca.geometry_optimization(conf)"
   ],
   "metadata": {
    "collapsed": false,
    "ExecuteTime": {
     "end_time": "2023-11-24T13:41:28.905404700Z",
     "start_time": "2023-11-24T13:38:10.652400200Z"
    }
   }
  },
  {
   "cell_type": "code",
   "execution_count": 13,
   "outputs": [
    {
     "name": "stderr",
     "output_type": "stream",
     "text": [
      "[24-11-2023 02:41:28] [INFO] Geometry optimization\n",
      "[24-11-2023 02:41:28] [INFO] Method: M062X aug-cc-pVTZ NMR\n",
      "[24-11-2023 02:50:45] [INFO] Identified logfile to be in ORCA format\n",
      "[24-11-2023 02:50:45] [INFO] Success: True\n",
      "[24-11-2023 02:50:45] [INFO] Num Iter: 9\n",
      "[24-11-2023 02:50:45] [INFO] Elapsed Time: 556.3s\n"
     ]
    },
    {
     "name": "stdout",
     "output_type": "stream",
     "text": [
      "CPU times: user 195 ms, sys: 80.9 ms, total: 276 ms\n",
      "Wall time: 9min 16s\n"
     ]
    }
   ],
   "source": [
    "%%time\n",
    "conf = deepcopy(mol).GetConformer()\n",
    "orca.options['method'] = 'M062X aug-cc-pVTZ NMR'\n",
    "orca.geometry_optimization(conf)"
   ],
   "metadata": {
    "collapsed": false,
    "ExecuteTime": {
     "end_time": "2023-11-24T13:50:45.210933100Z",
     "start_time": "2023-11-24T13:41:28.903406700Z"
    }
   }
  },
  {
   "cell_type": "code",
   "execution_count": 17,
   "outputs": [
    {
     "name": "stderr",
     "output_type": "stream",
     "text": [
      "[24-11-2023 03:03:21] [INFO] Geometry optimization\n",
      "[24-11-2023 03:03:21] [INFO] Method: M062X cc-pVDZ\n",
      "[24-11-2023 03:04:42] [INFO] Identified logfile to be in ORCA format\n",
      "[24-11-2023 03:04:42] [INFO] Success: True\n",
      "[24-11-2023 03:04:42] [INFO] Num Iter: 9\n",
      "[24-11-2023 03:04:42] [INFO] Elapsed Time: 80.5s\n",
      "[24-11-2023 03:04:42] [INFO] Geometry optimization\n",
      "[24-11-2023 03:04:42] [INFO] Method: M062X aug-cc-pVTZ NMR\n",
      "[24-11-2023 03:10:10] [INFO] Identified logfile to be in ORCA format\n",
      "[24-11-2023 03:10:10] [INFO] Success: True\n",
      "[24-11-2023 03:10:10] [INFO] Num Iter: 5\n",
      "[24-11-2023 03:10:10] [INFO] Elapsed Time: 328.7s\n"
     ]
    },
    {
     "name": "stdout",
     "output_type": "stream",
     "text": [
      "CPU times: user 234 ms, sys: 122 ms, total: 356 ms\n",
      "Wall time: 6min 49s\n"
     ]
    }
   ],
   "source": [
    "%%time\n",
    "\n",
    "conf = deepcopy(mol).GetConformer()\n",
    "orca.options['method'] = 'M062X cc-pVDZ'\n",
    "orca.geometry_optimization(conf)\n",
    "\n",
    "orca.options['method'] = 'M062X aug-cc-pVTZ NMR'\n",
    "orca.geometry_optimization(conf)"
   ],
   "metadata": {
    "collapsed": false,
    "ExecuteTime": {
     "end_time": "2023-11-24T14:10:10.794402100Z",
     "start_time": "2023-11-24T14:03:21.516032800Z"
    }
   }
  },
  {
   "cell_type": "code",
   "execution_count": 15,
   "outputs": [
    {
     "name": "stdout",
     "output_type": "stream",
     "text": [
      "(3, 2, 6, 4)\n",
      "num conformers 4\n"
     ]
    },
    {
     "data": {
      "application/3dmoljs_load.v0": "<div id=\"3dmolviewer_17008339242557867\"  style=\"position: relative; width: 600px; height: 400px;\">\n        <p id=\"3dmolwarning_17008339242557867\" style=\"background-color:#ffcccc;color:black\">You appear to be running in JupyterLab (or JavaScript failed to load for some other reason).  You need to install the 3dmol extension: <br>\n        <tt>jupyter labextension install jupyterlab_3dmol</tt></p>\n        </div>\n<script>\n\nvar loadScriptAsync = function(uri){\n  return new Promise((resolve, reject) => {\n    //this is to ignore the existence of requirejs amd\n    var savedexports, savedmodule;\n    if (typeof exports !== 'undefined') savedexports = exports;\n    else exports = {}\n    if (typeof module !== 'undefined') savedmodule = module;\n    else module = {}\n\n    var tag = document.createElement('script');\n    tag.src = uri;\n    tag.async = true;\n    tag.onload = () => {\n        exports = savedexports;\n        module = savedmodule;\n        resolve();\n    };\n  var firstScriptTag = document.getElementsByTagName('script')[0];\n  firstScriptTag.parentNode.insertBefore(tag, firstScriptTag);\n});\n};\n\nif(typeof $3Dmolpromise === 'undefined') {\n$3Dmolpromise = null;\n  $3Dmolpromise = loadScriptAsync('https://cdnjs.cloudflare.com/ajax/libs/3Dmol/2.0.4/3Dmol-min.js');\n}\n\nvar viewer_17008339242557867 = null;\nvar warn = document.getElementById(\"3dmolwarning_17008339242557867\");\nif(warn) {\n    warn.parentNode.removeChild(warn);\n}\n$3Dmolpromise.then(function() {\nviewer_17008339242557867 = $3Dmol.createViewer(document.getElementById(\"3dmolviewer_17008339242557867\"),{backgroundColor:\"white\"});\nviewer_17008339242557867.zoomTo();\n\tviewer_17008339242557867.addModel(\"\\n     RDKit          3D\\n\\n 18 18  0  0  0  0  0  0  0  0999 V2000\\n    2.7148    0.4288   -0.1540 C   0  0  0  0  0  0  0  0  0  0  0  0\\n    1.6147   -0.3969   -0.4458 O   0  0  0  0  0  0  0  0  0  0  0  0\\n    0.5678   -0.2729    0.4746 C   0  0  0  0  0  0  0  0  0  0  0  0\\n   -0.6612   -1.1199    0.1312 C   0  0  0  0  0  0  0  0  0  0  0  0\\n   -1.5150    0.0469    0.3698 N   0  0  0  0  0  0  0  0  0  0  0  0\\n   -2.5813    0.2950   -0.5644 C   0  0  0  0  0  0  0  0  0  0  0  0\\n   -0.3619    0.9500    0.3395 C   0  0  0  0  0  0  0  0  0  0  0  0\\n    3.1295    0.1982    0.8351 H   0  0  0  0  0  0  0  0  0  0  0  0\\n    2.4398    1.4895   -0.1810 H   0  0  0  0  0  0  0  0  0  0  0  0\\n    3.4630    0.2280   -0.9181 H   0  0  0  0  0  0  0  0  0  0  0  0\\n    0.9302   -0.4195    1.5007 H   0  0  0  0  0  0  0  0  0  0  0  0\\n   -0.8848   -1.9663    0.7805 H   0  0  0  0  0  0  0  0  0  0  0  0\\n   -0.6292   -1.4467   -0.9140 H   0  0  0  0  0  0  0  0  0  0  0  0\\n   -2.2323    0.3493   -1.6081 H   0  0  0  0  0  0  0  0  0  0  0  0\\n   -3.3131   -0.5075   -0.4815 H   0  0  0  0  0  0  0  0  0  0  0  0\\n   -3.0620    1.2379   -0.3059 H   0  0  0  0  0  0  0  0  0  0  0  0\\n   -0.2226    1.4566   -0.6236 H   0  0  0  0  0  0  0  0  0  0  0  0\\n   -0.3620    1.6804    1.1499 H   0  0  0  0  0  0  0  0  0  0  0  0\\n  1  2  1  0\\n  2  3  1  0\\n  3  4  1  0\\n  4  5  1  0\\n  5  6  1  0\\n  5  7  1  0\\n  7  3  1  0\\n  1  8  1  0\\n  1  9  1  0\\n  1 10  1  0\\n  3 11  1  0\\n  4 12  1  0\\n  4 13  1  0\\n  6 14  1  0\\n  6 15  1  0\\n  6 16  1  0\\n  7 17  1  0\\n  7 18  1  0\\nM  END\\n\",\"mol\");\n\tviewer_17008339242557867.setStyle({\"stick\": {}});\n\tviewer_17008339242557867.zoomTo();\nviewer_17008339242557867.render();\n});\n</script>",
      "text/html": "<div id=\"3dmolviewer_17008339242557867\"  style=\"position: relative; width: 600px; height: 400px;\">\n        <p id=\"3dmolwarning_17008339242557867\" style=\"background-color:#ffcccc;color:black\">You appear to be running in JupyterLab (or JavaScript failed to load for some other reason).  You need to install the 3dmol extension: <br>\n        <tt>jupyter labextension install jupyterlab_3dmol</tt></p>\n        </div>\n<script>\n\nvar loadScriptAsync = function(uri){\n  return new Promise((resolve, reject) => {\n    //this is to ignore the existence of requirejs amd\n    var savedexports, savedmodule;\n    if (typeof exports !== 'undefined') savedexports = exports;\n    else exports = {}\n    if (typeof module !== 'undefined') savedmodule = module;\n    else module = {}\n\n    var tag = document.createElement('script');\n    tag.src = uri;\n    tag.async = true;\n    tag.onload = () => {\n        exports = savedexports;\n        module = savedmodule;\n        resolve();\n    };\n  var firstScriptTag = document.getElementsByTagName('script')[0];\n  firstScriptTag.parentNode.insertBefore(tag, firstScriptTag);\n});\n};\n\nif(typeof $3Dmolpromise === 'undefined') {\n$3Dmolpromise = null;\n  $3Dmolpromise = loadScriptAsync('https://cdnjs.cloudflare.com/ajax/libs/3Dmol/2.0.4/3Dmol-min.js');\n}\n\nvar viewer_17008339242557867 = null;\nvar warn = document.getElementById(\"3dmolwarning_17008339242557867\");\nif(warn) {\n    warn.parentNode.removeChild(warn);\n}\n$3Dmolpromise.then(function() {\nviewer_17008339242557867 = $3Dmol.createViewer(document.getElementById(\"3dmolviewer_17008339242557867\"),{backgroundColor:\"white\"});\nviewer_17008339242557867.zoomTo();\n\tviewer_17008339242557867.addModel(\"\\n     RDKit          3D\\n\\n 18 18  0  0  0  0  0  0  0  0999 V2000\\n    2.7148    0.4288   -0.1540 C   0  0  0  0  0  0  0  0  0  0  0  0\\n    1.6147   -0.3969   -0.4458 O   0  0  0  0  0  0  0  0  0  0  0  0\\n    0.5678   -0.2729    0.4746 C   0  0  0  0  0  0  0  0  0  0  0  0\\n   -0.6612   -1.1199    0.1312 C   0  0  0  0  0  0  0  0  0  0  0  0\\n   -1.5150    0.0469    0.3698 N   0  0  0  0  0  0  0  0  0  0  0  0\\n   -2.5813    0.2950   -0.5644 C   0  0  0  0  0  0  0  0  0  0  0  0\\n   -0.3619    0.9500    0.3395 C   0  0  0  0  0  0  0  0  0  0  0  0\\n    3.1295    0.1982    0.8351 H   0  0  0  0  0  0  0  0  0  0  0  0\\n    2.4398    1.4895   -0.1810 H   0  0  0  0  0  0  0  0  0  0  0  0\\n    3.4630    0.2280   -0.9181 H   0  0  0  0  0  0  0  0  0  0  0  0\\n    0.9302   -0.4195    1.5007 H   0  0  0  0  0  0  0  0  0  0  0  0\\n   -0.8848   -1.9663    0.7805 H   0  0  0  0  0  0  0  0  0  0  0  0\\n   -0.6292   -1.4467   -0.9140 H   0  0  0  0  0  0  0  0  0  0  0  0\\n   -2.2323    0.3493   -1.6081 H   0  0  0  0  0  0  0  0  0  0  0  0\\n   -3.3131   -0.5075   -0.4815 H   0  0  0  0  0  0  0  0  0  0  0  0\\n   -3.0620    1.2379   -0.3059 H   0  0  0  0  0  0  0  0  0  0  0  0\\n   -0.2226    1.4566   -0.6236 H   0  0  0  0  0  0  0  0  0  0  0  0\\n   -0.3620    1.6804    1.1499 H   0  0  0  0  0  0  0  0  0  0  0  0\\n  1  2  1  0\\n  2  3  1  0\\n  3  4  1  0\\n  4  5  1  0\\n  5  6  1  0\\n  5  7  1  0\\n  7  3  1  0\\n  1  8  1  0\\n  1  9  1  0\\n  1 10  1  0\\n  3 11  1  0\\n  4 12  1  0\\n  4 13  1  0\\n  6 14  1  0\\n  6 15  1  0\\n  6 16  1  0\\n  7 17  1  0\\n  7 18  1  0\\nM  END\\n\",\"mol\");\n\tviewer_17008339242557867.setStyle({\"stick\": {}});\n\tviewer_17008339242557867.zoomTo();\nviewer_17008339242557867.render();\n});\n</script>"
     },
     "metadata": {},
     "output_type": "display_data"
    }
   ],
   "source": [
    "query = Chem.MolFromSmarts('C1CCN1')\n",
    "atom_ids = mol.GetSubstructMatch(query)\n",
    "print(atom_ids)\n",
    "AllChem.AlignMolConformers(mol, atomIds=atom_ids)\n",
    "draw3Dconfs(mol, confIds=[0], autoalign=False)"
   ],
   "metadata": {
    "collapsed": false,
    "ExecuteTime": {
     "end_time": "2023-11-24T13:52:04.263737900Z",
     "start_time": "2023-11-24T13:52:04.249736900Z"
    }
   }
  },
  {
   "cell_type": "code",
   "execution_count": 16,
   "outputs": [
    {
     "ename": "NameError",
     "evalue": "name 'data' is not defined",
     "output_type": "error",
     "traceback": [
      "\u001B[0;31m---------------------------------------------------------------------------\u001B[0m",
      "\u001B[0;31mNameError\u001B[0m                                 Traceback (most recent call last)",
      "Cell \u001B[0;32mIn[16], line 1\u001B[0m\n\u001B[0;32m----> 1\u001B[0m \u001B[43mdata\u001B[49m\u001B[38;5;241m.\u001B[39mscfvalues\n",
      "\u001B[0;31mNameError\u001B[0m: name 'data' is not defined"
     ]
    }
   ],
   "source": [
    "data.scfvalues"
   ],
   "metadata": {
    "collapsed": false,
    "ExecuteTime": {
     "end_time": "2023-11-24T13:52:04.445739500Z",
     "start_time": "2023-11-24T13:52:04.290739700Z"
    }
   }
  },
  {
   "cell_type": "code",
   "execution_count": null,
   "outputs": [],
   "source": [
    "data.scftargets"
   ],
   "metadata": {
    "collapsed": false,
    "ExecuteTime": {
     "start_time": "2023-11-24T13:52:04.295738Z"
    }
   }
  },
  {
   "cell_type": "code",
   "execution_count": null,
   "outputs": [],
   "source": [
    "# NMR shielding\n",
    "for k,v in data.nmrtensors.items():\n",
    "    print(mol.GetAtomWithIdx(k).GetSymbol(), k, v['isotropic'])"
   ],
   "metadata": {
    "collapsed": false,
    "ExecuteTime": {
     "start_time": "2023-11-24T13:52:04.302736500Z"
    }
   }
  },
  {
   "cell_type": "code",
   "execution_count": null,
   "outputs": [],
   "source": [
    "dir(data)"
   ],
   "metadata": {
    "collapsed": false,
    "ExecuteTime": {
     "start_time": "2023-11-24T13:52:04.304737800Z"
    }
   }
  },
  {
   "cell_type": "code",
   "execution_count": null,
   "outputs": [],
   "source": [
    "print(data.metadata['cpu_time'][0])"
   ],
   "metadata": {
    "collapsed": false,
    "ExecuteTime": {
     "start_time": "2023-11-24T13:52:04.305737Z"
    }
   }
  },
  {
   "cell_type": "code",
   "execution_count": null,
   "outputs": [],
   "source": [
    "len(data.converged_geometries)"
   ],
   "metadata": {
    "collapsed": false,
    "ExecuteTime": {
     "start_time": "2023-11-24T13:52:04.309740400Z"
    }
   }
  },
  {
   "cell_type": "code",
   "execution_count": null,
   "outputs": [],
   "source": [
    "dir(data)"
   ],
   "metadata": {
    "collapsed": false,
    "ExecuteTime": {
     "start_time": "2023-11-24T13:52:04.310737Z"
    }
   }
  },
  {
   "cell_type": "code",
   "execution_count": null,
   "outputs": [],
   "source": [
    "data.optdone"
   ],
   "metadata": {
    "collapsed": false,
    "ExecuteTime": {
     "start_time": "2023-11-24T13:52:04.312737300Z"
    }
   }
  },
  {
   "cell_type": "code",
   "execution_count": null,
   "outputs": [],
   "source": [
    "data.metadata"
   ],
   "metadata": {
    "collapsed": false,
    "ExecuteTime": {
     "start_time": "2023-11-24T13:52:04.318740800Z"
    }
   }
  },
  {
   "cell_type": "code",
   "execution_count": null,
   "outputs": [],
   "source": [
    "data.new_geometries"
   ],
   "metadata": {
    "collapsed": false,
    "ExecuteTime": {
     "start_time": "2023-11-24T13:52:04.318740800Z"
    }
   }
  },
  {
   "cell_type": "code",
   "execution_count": null,
   "outputs": [],
   "source": [
    "# HOMO LUMO\n",
    "homo = data.moenergies[0][data.homos[0]]\n",
    "lumo = data.moenergies[0][data.homos[0] + 1]\n",
    "homo, lumo"
   ],
   "metadata": {
    "collapsed": false,
    "ExecuteTime": {
     "start_time": "2023-11-24T13:52:04.320740800Z"
    }
   }
  },
  {
   "cell_type": "code",
   "execution_count": null,
   "outputs": [],
   "source": [
    "print(data.metadata['cpu_time'][0])"
   ],
   "metadata": {
    "collapsed": false,
    "ExecuteTime": {
     "start_time": "2023-11-24T13:52:04.322741300Z"
    }
   }
  },
  {
   "cell_type": "code",
   "execution_count": null,
   "outputs": [],
   "source": [
    "data.natom, data.nmo"
   ],
   "metadata": {
    "collapsed": false,
    "ExecuteTime": {
     "start_time": "2023-11-24T13:52:04.322741300Z"
    }
   }
  },
  {
   "cell_type": "code",
   "execution_count": null,
   "outputs": [],
   "source": [
    "data.metadata"
   ],
   "metadata": {
    "collapsed": false,
    "ExecuteTime": {
     "start_time": "2023-11-24T13:52:04.324736200Z"
    }
   }
  },
  {
   "cell_type": "code",
   "execution_count": null,
   "outputs": [],
   "source": [
    "data.scfenergies"
   ],
   "metadata": {
    "collapsed": false,
    "ExecuteTime": {
     "start_time": "2023-11-24T13:52:04.376740100Z"
    }
   }
  }
 ],
 "metadata": {
  "kernelspec": {
   "name": "linux_qm",
   "language": "python",
   "display_name": "linux_qm"
  },
  "language_info": {
   "codemirror_mode": {
    "name": "ipython",
    "version": 2
   },
   "file_extension": ".py",
   "mimetype": "text/x-python",
   "name": "python",
   "nbconvert_exporter": "python",
   "pygments_lexer": "ipython2",
   "version": "2.7.6"
  }
 },
 "nbformat": 4,
 "nbformat_minor": 0
}
