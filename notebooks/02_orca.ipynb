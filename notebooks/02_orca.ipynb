{
 "cells": [
  {
   "cell_type": "code",
   "execution_count": 1,
   "outputs": [],
   "source": [
    "%load_ext autoreload\n",
    "%autoreload 2"
   ],
   "metadata": {
    "collapsed": false,
    "ExecuteTime": {
     "end_time": "2023-11-30T11:59:39.275627300Z",
     "start_time": "2023-11-30T11:59:39.235375700Z"
    }
   }
  },
  {
   "cell_type": "code",
   "execution_count": 2,
   "metadata": {
    "collapsed": true,
    "ExecuteTime": {
     "end_time": "2023-11-30T11:59:39.699740800Z",
     "start_time": "2023-11-30T11:59:39.599074300Z"
    }
   },
   "outputs": [],
   "source": [
    "import os\n",
    "import shutil\n",
    "import logging\n",
    "import subprocess\n",
    "from copy import deepcopy\n",
    "from time import time\n",
    "from rdkit import Chem\n",
    "from rdkit.Chem import AllChem\n",
    "from rdkit.Chem.rdDistGeom import EmbedMultipleConfs\n",
    "from linux_qm.src.util import load_smiles3D, _create_tmp_dir, draw3Dconfs, SetPositions\n",
    "from linux_qm.qm.crest.crest import conformer_pipeline\n",
    "import pandas as pd"
   ]
  },
  {
   "cell_type": "code",
   "execution_count": 3,
   "outputs": [
    {
     "name": "stderr",
     "output_type": "stream",
     "text": [
      "[30-11-2023 02:14:24] [INFO] Conformer generation pipeline\n"
     ]
    },
    {
     "name": "stdout",
     "output_type": "stream",
     "text": [
      "Number of conformers generated: 4\n",
      "Energies: ['-23.275472740000001', '-23.273513579999999', '-23.273084740000002', '-23.27281279']\n"
     ]
    }
   ],
   "source": [
    "smi = 'COC1CN(C)C1'\n",
    "# smi = 'CO'\n",
    "\n",
    "\n",
    "# mol = load_smiles3D(smi)\n",
    "# EmbedMultipleConfs(mol, numConfs=3)\n",
    "\n",
    "mol = conformer_pipeline(smi)\n",
    "\n",
    "# Get the conformers\n",
    "\n",
    "conformers = mol.GetConformers()\n",
    "\n",
    "# Print the number of conformers generated\n",
    "print(f\"Number of conformers generated: {len(conformers)}\")\n",
    "print(\"Energies:\", [c.GetProp('energy') for c in conformers])"
   ],
   "metadata": {
    "collapsed": false,
    "ExecuteTime": {
     "end_time": "2023-11-30T11:59:44.241325700Z",
     "start_time": "2023-11-30T11:59:41.037370Z"
    }
   }
  },
  {
   "cell_type": "code",
   "execution_count": 4,
   "outputs": [
    {
     "name": "stdout",
     "output_type": "stream",
     "text": [
      "(3, 2, 6, 4)\n",
      "num conformers 4\n"
     ]
    },
    {
     "data": {
      "application/3dmoljs_load.v0": "<div id=\"3dmolviewer_1701306868320867\"  style=\"position: relative; width: 600px; height: 400px;\">\n        <p id=\"3dmolwarning_1701306868320867\" style=\"background-color:#ffcccc;color:black\">You appear to be running in JupyterLab (or JavaScript failed to load for some other reason).  You need to install the 3dmol extension: <br>\n        <tt>jupyter labextension install jupyterlab_3dmol</tt></p>\n        </div>\n<script>\n\nvar loadScriptAsync = function(uri){\n  return new Promise((resolve, reject) => {\n    //this is to ignore the existence of requirejs amd\n    var savedexports, savedmodule;\n    if (typeof exports !== 'undefined') savedexports = exports;\n    else exports = {}\n    if (typeof module !== 'undefined') savedmodule = module;\n    else module = {}\n\n    var tag = document.createElement('script');\n    tag.src = uri;\n    tag.async = true;\n    tag.onload = () => {\n        exports = savedexports;\n        module = savedmodule;\n        resolve();\n    };\n  var firstScriptTag = document.getElementsByTagName('script')[0];\n  firstScriptTag.parentNode.insertBefore(tag, firstScriptTag);\n});\n};\n\nif(typeof $3Dmolpromise === 'undefined') {\n$3Dmolpromise = null;\n  $3Dmolpromise = loadScriptAsync('https://cdnjs.cloudflare.com/ajax/libs/3Dmol/2.0.4/3Dmol-min.js');\n}\n\nvar viewer_1701306868320867 = null;\nvar warn = document.getElementById(\"3dmolwarning_1701306868320867\");\nif(warn) {\n    warn.parentNode.removeChild(warn);\n}\n$3Dmolpromise.then(function() {\nviewer_1701306868320867 = $3Dmol.createViewer(document.getElementById(\"3dmolviewer_1701306868320867\"),{backgroundColor:\"white\"});\nviewer_1701306868320867.zoomTo();\n\tviewer_1701306868320867.addModel(\"\\n     RDKit          3D\\n\\n 18 18  0  0  0  0  0  0  0  0999 V2000\\n    2.7148    0.4288   -0.1540 C   0  0  0  0  0  0  0  0  0  0  0  0\\n    1.6147   -0.3969   -0.4458 O   0  0  0  0  0  0  0  0  0  0  0  0\\n    0.5678   -0.2729    0.4746 C   0  0  0  0  0  0  0  0  0  0  0  0\\n   -0.6612   -1.1199    0.1312 C   0  0  0  0  0  0  0  0  0  0  0  0\\n   -1.5150    0.0469    0.3698 N   0  0  0  0  0  0  0  0  0  0  0  0\\n   -2.5813    0.2950   -0.5644 C   0  0  0  0  0  0  0  0  0  0  0  0\\n   -0.3619    0.9501    0.3395 C   0  0  0  0  0  0  0  0  0  0  0  0\\n    3.1295    0.1981    0.8351 H   0  0  0  0  0  0  0  0  0  0  0  0\\n    2.4398    1.4895   -0.1810 H   0  0  0  0  0  0  0  0  0  0  0  0\\n    3.4631    0.2280   -0.9181 H   0  0  0  0  0  0  0  0  0  0  0  0\\n    0.9302   -0.4195    1.5007 H   0  0  0  0  0  0  0  0  0  0  0  0\\n   -0.8848   -1.9663    0.7805 H   0  0  0  0  0  0  0  0  0  0  0  0\\n   -0.6292   -1.4467   -0.9140 H   0  0  0  0  0  0  0  0  0  0  0  0\\n   -3.3131   -0.5075   -0.4814 H   0  0  0  0  0  0  0  0  0  0  0  0\\n   -3.0620    1.2379   -0.3059 H   0  0  0  0  0  0  0  0  0  0  0  0\\n   -2.2324    0.3493   -1.6081 H   0  0  0  0  0  0  0  0  0  0  0  0\\n   -0.2226    1.4566   -0.6237 H   0  0  0  0  0  0  0  0  0  0  0  0\\n   -0.3620    1.6805    1.1499 H   0  0  0  0  0  0  0  0  0  0  0  0\\n  1  2  1  0\\n  2  3  1  0\\n  3  4  1  0\\n  4  5  1  0\\n  5  6  1  0\\n  5  7  1  0\\n  7  3  1  0\\n  1  8  1  0\\n  1  9  1  0\\n  1 10  1  0\\n  3 11  1  0\\n  4 12  1  0\\n  4 13  1  0\\n  6 14  1  0\\n  6 15  1  0\\n  6 16  1  0\\n  7 17  1  0\\n  7 18  1  0\\nM  END\\n\",\"mol\");\n\tviewer_1701306868320867.addModel(\"\\n     RDKit          3D\\n\\n 18 18  0  0  0  0  0  0  0  0999 V2000\\n    0.7428   -0.1906   -2.0815 C   0  0  0  0  0  0  0  0  0  0  0  0\\n    1.3998   -0.2378   -0.8302 O   0  0  0  0  0  0  0  0  0  0  0  0\\n    0.5870   -0.2556    0.3060 C   0  0  0  0  0  0  0  0  0  0  0  0\\n   -0.6778   -1.1388    0.3094 C   0  0  0  0  0  0  0  0  0  0  0  0\\n   -1.5051    0.0643    0.1821 N   0  0  0  0  0  0  0  0  0  0  0  0\\n   -2.6879    0.1553    0.9945 C   0  0  0  0  0  0  0  0  0  0  0  0\\n   -0.3745    0.9343    0.5176 C   0  0  0  0  0  0  0  0  0  0  0  0\\n    0.4709   -1.1956   -2.4210 H   0  0  0  0  0  0  0  0  0  0  0  0\\n    1.4577    0.2372   -2.7834 H   0  0  0  0  0  0  0  0  0  0  0  0\\n   -0.1560    0.4271   -2.0482 H   0  0  0  0  0  0  0  0  0  0  0  0\\n    1.2809   -0.4364    1.1296 H   0  0  0  0  0  0  0  0  0  0  0  0\\n   -0.8084   -1.6728    1.2584 H   0  0  0  0  0  0  0  0  0  0  0  0\\n   -0.8005   -1.8372   -0.5183 H   0  0  0  0  0  0  0  0  0  0  0  0\\n   -2.4810    0.0190    2.0686 H   0  0  0  0  0  0  0  0  0  0  0  0\\n   -3.1409    1.1351    0.8476 H   0  0  0  0  0  0  0  0  0  0  0  0\\n   -3.3940   -0.6101    0.6745 H   0  0  0  0  0  0  0  0  0  0  0  0\\n   -0.2611    1.7849   -0.1563 H   0  0  0  0  0  0  0  0  0  0  0  0\\n   -0.3756    1.2909    1.5543 H   0  0  0  0  0  0  0  0  0  0  0  0\\n  1  2  1  0\\n  2  3  1  0\\n  3  4  1  0\\n  4  5  1  0\\n  5  6  1  0\\n  5  7  1  0\\n  7  3  1  0\\n  1  8  1  0\\n  1  9  1  0\\n  1 10  1  0\\n  3 11  1  0\\n  4 12  1  0\\n  4 13  1  0\\n  6 14  1  0\\n  6 15  1  0\\n  6 16  1  0\\n  7 17  1  0\\n  7 18  1  0\\nM  END\\n\",\"mol\");\n\tviewer_1701306868320867.addModel(\"\\n     RDKit          3D\\n\\n 18 18  0  0  0  0  0  0  0  0999 V2000\\n    1.7250   -0.0921   -1.6179 C   0  0  0  0  0  0  0  0  0  0  0  0\\n    1.7589   -0.3852   -0.2404 O   0  0  0  0  0  0  0  0  0  0  0  0\\n    0.5672   -0.2694    0.4831 C   0  0  0  0  0  0  0  0  0  0  0  0\\n   -0.6656   -1.1228    0.1221 C   0  0  0  0  0  0  0  0  0  0  0  0\\n   -1.5111    0.0452    0.3781 N   0  0  0  0  0  0  0  0  0  0  0  0\\n   -2.5986    0.2975   -0.5291 C   0  0  0  0  0  0  0  0  0  0  0  0\\n   -0.3609    0.9512    0.3318 C   0  0  0  0  0  0  0  0  0  0  0  0\\n    2.6930   -0.4034   -2.0067 H   0  0  0  0  0  0  0  0  0  0  0  0\\n    1.5978    0.9804   -1.8027 H   0  0  0  0  0  0  0  0  0  0  0  0\\n    0.9382   -0.6433   -2.1422 H   0  0  0  0  0  0  0  0  0  0  0  0\\n    0.8694   -0.4222    1.5207 H   0  0  0  0  0  0  0  0  0  0  0  0\\n   -0.8849   -1.9731    0.7683 H   0  0  0  0  0  0  0  0  0  0  0  0\\n   -0.6706   -1.4525   -0.9239 H   0  0  0  0  0  0  0  0  0  0  0  0\\n   -3.0744    1.2380   -0.2539 H   0  0  0  0  0  0  0  0  0  0  0  0\\n   -2.2762    0.3601   -1.5821 H   0  0  0  0  0  0  0  0  0  0  0  0\\n   -3.3278   -0.5062   -0.4349 H   0  0  0  0  0  0  0  0  0  0  0  0\\n   -0.2472    1.4629   -0.6308 H   0  0  0  0  0  0  0  0  0  0  0  0\\n   -0.3490    1.6862    1.1373 H   0  0  0  0  0  0  0  0  0  0  0  0\\n  1  2  1  0\\n  2  3  1  0\\n  3  4  1  0\\n  4  5  1  0\\n  5  6  1  0\\n  5  7  1  0\\n  7  3  1  0\\n  1  8  1  0\\n  1  9  1  0\\n  1 10  1  0\\n  3 11  1  0\\n  4 12  1  0\\n  4 13  1  0\\n  6 14  1  0\\n  6 15  1  0\\n  6 16  1  0\\n  7 17  1  0\\n  7 18  1  0\\nM  END\\n\",\"mol\");\n\tviewer_1701306868320867.addModel(\"\\n     RDKit          3D\\n\\n 18 18  0  0  0  0  0  0  0  0999 V2000\\n    2.4701    0.5137   -0.8233 C   0  0  0  0  0  0  0  0  0  0  0  0\\n    1.3465   -0.3306   -0.8319 O   0  0  0  0  0  0  0  0  0  0  0  0\\n    0.5860   -0.2618    0.3404 C   0  0  0  0  0  0  0  0  0  0  0  0\\n   -0.6714   -1.1373    0.2728 C   0  0  0  0  0  0  0  0  0  0  0  0\\n   -1.5143    0.0618    0.2208 N   0  0  0  0  0  0  0  0  0  0  0  0\\n   -2.6272    0.1321    1.1276 C   0  0  0  0  0  0  0  0  0  0  0  0\\n   -0.3705    0.9415    0.4811 C   0  0  0  0  0  0  0  0  0  0  0  0\\n    2.9826    0.3537   -1.7695 H   0  0  0  0  0  0  0  0  0  0  0  0\\n    3.1453    0.2639    0.0057 H   0  0  0  0  0  0  0  0  0  0  0  0\\n    2.1853    1.5684   -0.7372 H   0  0  0  0  0  0  0  0  0  0  0  0\\n    1.2288   -0.4308    1.2177 H   0  0  0  0  0  0  0  0  0  0  0  0\\n   -0.8221   -1.7642    1.1580 H   0  0  0  0  0  0  0  0  0  0  0  0\\n   -0.7456   -1.7415   -0.6314 H   0  0  0  0  0  0  0  0  0  0  0  0\\n   -2.3372   -0.0157    2.1815 H   0  0  0  0  0  0  0  0  0  0  0  0\\n   -3.0990    1.1092    1.0296 H   0  0  0  0  0  0  0  0  0  0  0  0\\n   -3.3507   -0.6350    0.8543 H   0  0  0  0  0  0  0  0  0  0  0  0\\n   -0.2663    1.7164   -0.2804 H   0  0  0  0  0  0  0  0  0  0  0  0\\n   -0.3623    1.3960    1.4783 H   0  0  0  0  0  0  0  0  0  0  0  0\\n  1  2  1  0\\n  2  3  1  0\\n  3  4  1  0\\n  4  5  1  0\\n  5  6  1  0\\n  5  7  1  0\\n  7  3  1  0\\n  1  8  1  0\\n  1  9  1  0\\n  1 10  1  0\\n  3 11  1  0\\n  4 12  1  0\\n  4 13  1  0\\n  6 14  1  0\\n  6 15  1  0\\n  6 16  1  0\\n  7 17  1  0\\n  7 18  1  0\\nM  END\\n\",\"mol\");\n\tviewer_1701306868320867.setStyle({\"stick\": {}});\n\tviewer_1701306868320867.zoomTo();\nviewer_1701306868320867.render();\n});\n</script>",
      "text/html": "<div id=\"3dmolviewer_1701306868320867\"  style=\"position: relative; width: 600px; height: 400px;\">\n        <p id=\"3dmolwarning_1701306868320867\" style=\"background-color:#ffcccc;color:black\">You appear to be running in JupyterLab (or JavaScript failed to load for some other reason).  You need to install the 3dmol extension: <br>\n        <tt>jupyter labextension install jupyterlab_3dmol</tt></p>\n        </div>\n<script>\n\nvar loadScriptAsync = function(uri){\n  return new Promise((resolve, reject) => {\n    //this is to ignore the existence of requirejs amd\n    var savedexports, savedmodule;\n    if (typeof exports !== 'undefined') savedexports = exports;\n    else exports = {}\n    if (typeof module !== 'undefined') savedmodule = module;\n    else module = {}\n\n    var tag = document.createElement('script');\n    tag.src = uri;\n    tag.async = true;\n    tag.onload = () => {\n        exports = savedexports;\n        module = savedmodule;\n        resolve();\n    };\n  var firstScriptTag = document.getElementsByTagName('script')[0];\n  firstScriptTag.parentNode.insertBefore(tag, firstScriptTag);\n});\n};\n\nif(typeof $3Dmolpromise === 'undefined') {\n$3Dmolpromise = null;\n  $3Dmolpromise = loadScriptAsync('https://cdnjs.cloudflare.com/ajax/libs/3Dmol/2.0.4/3Dmol-min.js');\n}\n\nvar viewer_1701306868320867 = null;\nvar warn = document.getElementById(\"3dmolwarning_1701306868320867\");\nif(warn) {\n    warn.parentNode.removeChild(warn);\n}\n$3Dmolpromise.then(function() {\nviewer_1701306868320867 = $3Dmol.createViewer(document.getElementById(\"3dmolviewer_1701306868320867\"),{backgroundColor:\"white\"});\nviewer_1701306868320867.zoomTo();\n\tviewer_1701306868320867.addModel(\"\\n     RDKit          3D\\n\\n 18 18  0  0  0  0  0  0  0  0999 V2000\\n    2.7148    0.4288   -0.1540 C   0  0  0  0  0  0  0  0  0  0  0  0\\n    1.6147   -0.3969   -0.4458 O   0  0  0  0  0  0  0  0  0  0  0  0\\n    0.5678   -0.2729    0.4746 C   0  0  0  0  0  0  0  0  0  0  0  0\\n   -0.6612   -1.1199    0.1312 C   0  0  0  0  0  0  0  0  0  0  0  0\\n   -1.5150    0.0469    0.3698 N   0  0  0  0  0  0  0  0  0  0  0  0\\n   -2.5813    0.2950   -0.5644 C   0  0  0  0  0  0  0  0  0  0  0  0\\n   -0.3619    0.9501    0.3395 C   0  0  0  0  0  0  0  0  0  0  0  0\\n    3.1295    0.1981    0.8351 H   0  0  0  0  0  0  0  0  0  0  0  0\\n    2.4398    1.4895   -0.1810 H   0  0  0  0  0  0  0  0  0  0  0  0\\n    3.4631    0.2280   -0.9181 H   0  0  0  0  0  0  0  0  0  0  0  0\\n    0.9302   -0.4195    1.5007 H   0  0  0  0  0  0  0  0  0  0  0  0\\n   -0.8848   -1.9663    0.7805 H   0  0  0  0  0  0  0  0  0  0  0  0\\n   -0.6292   -1.4467   -0.9140 H   0  0  0  0  0  0  0  0  0  0  0  0\\n   -3.3131   -0.5075   -0.4814 H   0  0  0  0  0  0  0  0  0  0  0  0\\n   -3.0620    1.2379   -0.3059 H   0  0  0  0  0  0  0  0  0  0  0  0\\n   -2.2324    0.3493   -1.6081 H   0  0  0  0  0  0  0  0  0  0  0  0\\n   -0.2226    1.4566   -0.6237 H   0  0  0  0  0  0  0  0  0  0  0  0\\n   -0.3620    1.6805    1.1499 H   0  0  0  0  0  0  0  0  0  0  0  0\\n  1  2  1  0\\n  2  3  1  0\\n  3  4  1  0\\n  4  5  1  0\\n  5  6  1  0\\n  5  7  1  0\\n  7  3  1  0\\n  1  8  1  0\\n  1  9  1  0\\n  1 10  1  0\\n  3 11  1  0\\n  4 12  1  0\\n  4 13  1  0\\n  6 14  1  0\\n  6 15  1  0\\n  6 16  1  0\\n  7 17  1  0\\n  7 18  1  0\\nM  END\\n\",\"mol\");\n\tviewer_1701306868320867.addModel(\"\\n     RDKit          3D\\n\\n 18 18  0  0  0  0  0  0  0  0999 V2000\\n    0.7428   -0.1906   -2.0815 C   0  0  0  0  0  0  0  0  0  0  0  0\\n    1.3998   -0.2378   -0.8302 O   0  0  0  0  0  0  0  0  0  0  0  0\\n    0.5870   -0.2556    0.3060 C   0  0  0  0  0  0  0  0  0  0  0  0\\n   -0.6778   -1.1388    0.3094 C   0  0  0  0  0  0  0  0  0  0  0  0\\n   -1.5051    0.0643    0.1821 N   0  0  0  0  0  0  0  0  0  0  0  0\\n   -2.6879    0.1553    0.9945 C   0  0  0  0  0  0  0  0  0  0  0  0\\n   -0.3745    0.9343    0.5176 C   0  0  0  0  0  0  0  0  0  0  0  0\\n    0.4709   -1.1956   -2.4210 H   0  0  0  0  0  0  0  0  0  0  0  0\\n    1.4577    0.2372   -2.7834 H   0  0  0  0  0  0  0  0  0  0  0  0\\n   -0.1560    0.4271   -2.0482 H   0  0  0  0  0  0  0  0  0  0  0  0\\n    1.2809   -0.4364    1.1296 H   0  0  0  0  0  0  0  0  0  0  0  0\\n   -0.8084   -1.6728    1.2584 H   0  0  0  0  0  0  0  0  0  0  0  0\\n   -0.8005   -1.8372   -0.5183 H   0  0  0  0  0  0  0  0  0  0  0  0\\n   -2.4810    0.0190    2.0686 H   0  0  0  0  0  0  0  0  0  0  0  0\\n   -3.1409    1.1351    0.8476 H   0  0  0  0  0  0  0  0  0  0  0  0\\n   -3.3940   -0.6101    0.6745 H   0  0  0  0  0  0  0  0  0  0  0  0\\n   -0.2611    1.7849   -0.1563 H   0  0  0  0  0  0  0  0  0  0  0  0\\n   -0.3756    1.2909    1.5543 H   0  0  0  0  0  0  0  0  0  0  0  0\\n  1  2  1  0\\n  2  3  1  0\\n  3  4  1  0\\n  4  5  1  0\\n  5  6  1  0\\n  5  7  1  0\\n  7  3  1  0\\n  1  8  1  0\\n  1  9  1  0\\n  1 10  1  0\\n  3 11  1  0\\n  4 12  1  0\\n  4 13  1  0\\n  6 14  1  0\\n  6 15  1  0\\n  6 16  1  0\\n  7 17  1  0\\n  7 18  1  0\\nM  END\\n\",\"mol\");\n\tviewer_1701306868320867.addModel(\"\\n     RDKit          3D\\n\\n 18 18  0  0  0  0  0  0  0  0999 V2000\\n    1.7250   -0.0921   -1.6179 C   0  0  0  0  0  0  0  0  0  0  0  0\\n    1.7589   -0.3852   -0.2404 O   0  0  0  0  0  0  0  0  0  0  0  0\\n    0.5672   -0.2694    0.4831 C   0  0  0  0  0  0  0  0  0  0  0  0\\n   -0.6656   -1.1228    0.1221 C   0  0  0  0  0  0  0  0  0  0  0  0\\n   -1.5111    0.0452    0.3781 N   0  0  0  0  0  0  0  0  0  0  0  0\\n   -2.5986    0.2975   -0.5291 C   0  0  0  0  0  0  0  0  0  0  0  0\\n   -0.3609    0.9512    0.3318 C   0  0  0  0  0  0  0  0  0  0  0  0\\n    2.6930   -0.4034   -2.0067 H   0  0  0  0  0  0  0  0  0  0  0  0\\n    1.5978    0.9804   -1.8027 H   0  0  0  0  0  0  0  0  0  0  0  0\\n    0.9382   -0.6433   -2.1422 H   0  0  0  0  0  0  0  0  0  0  0  0\\n    0.8694   -0.4222    1.5207 H   0  0  0  0  0  0  0  0  0  0  0  0\\n   -0.8849   -1.9731    0.7683 H   0  0  0  0  0  0  0  0  0  0  0  0\\n   -0.6706   -1.4525   -0.9239 H   0  0  0  0  0  0  0  0  0  0  0  0\\n   -3.0744    1.2380   -0.2539 H   0  0  0  0  0  0  0  0  0  0  0  0\\n   -2.2762    0.3601   -1.5821 H   0  0  0  0  0  0  0  0  0  0  0  0\\n   -3.3278   -0.5062   -0.4349 H   0  0  0  0  0  0  0  0  0  0  0  0\\n   -0.2472    1.4629   -0.6308 H   0  0  0  0  0  0  0  0  0  0  0  0\\n   -0.3490    1.6862    1.1373 H   0  0  0  0  0  0  0  0  0  0  0  0\\n  1  2  1  0\\n  2  3  1  0\\n  3  4  1  0\\n  4  5  1  0\\n  5  6  1  0\\n  5  7  1  0\\n  7  3  1  0\\n  1  8  1  0\\n  1  9  1  0\\n  1 10  1  0\\n  3 11  1  0\\n  4 12  1  0\\n  4 13  1  0\\n  6 14  1  0\\n  6 15  1  0\\n  6 16  1  0\\n  7 17  1  0\\n  7 18  1  0\\nM  END\\n\",\"mol\");\n\tviewer_1701306868320867.addModel(\"\\n     RDKit          3D\\n\\n 18 18  0  0  0  0  0  0  0  0999 V2000\\n    2.4701    0.5137   -0.8233 C   0  0  0  0  0  0  0  0  0  0  0  0\\n    1.3465   -0.3306   -0.8319 O   0  0  0  0  0  0  0  0  0  0  0  0\\n    0.5860   -0.2618    0.3404 C   0  0  0  0  0  0  0  0  0  0  0  0\\n   -0.6714   -1.1373    0.2728 C   0  0  0  0  0  0  0  0  0  0  0  0\\n   -1.5143    0.0618    0.2208 N   0  0  0  0  0  0  0  0  0  0  0  0\\n   -2.6272    0.1321    1.1276 C   0  0  0  0  0  0  0  0  0  0  0  0\\n   -0.3705    0.9415    0.4811 C   0  0  0  0  0  0  0  0  0  0  0  0\\n    2.9826    0.3537   -1.7695 H   0  0  0  0  0  0  0  0  0  0  0  0\\n    3.1453    0.2639    0.0057 H   0  0  0  0  0  0  0  0  0  0  0  0\\n    2.1853    1.5684   -0.7372 H   0  0  0  0  0  0  0  0  0  0  0  0\\n    1.2288   -0.4308    1.2177 H   0  0  0  0  0  0  0  0  0  0  0  0\\n   -0.8221   -1.7642    1.1580 H   0  0  0  0  0  0  0  0  0  0  0  0\\n   -0.7456   -1.7415   -0.6314 H   0  0  0  0  0  0  0  0  0  0  0  0\\n   -2.3372   -0.0157    2.1815 H   0  0  0  0  0  0  0  0  0  0  0  0\\n   -3.0990    1.1092    1.0296 H   0  0  0  0  0  0  0  0  0  0  0  0\\n   -3.3507   -0.6350    0.8543 H   0  0  0  0  0  0  0  0  0  0  0  0\\n   -0.2663    1.7164   -0.2804 H   0  0  0  0  0  0  0  0  0  0  0  0\\n   -0.3623    1.3960    1.4783 H   0  0  0  0  0  0  0  0  0  0  0  0\\n  1  2  1  0\\n  2  3  1  0\\n  3  4  1  0\\n  4  5  1  0\\n  5  6  1  0\\n  5  7  1  0\\n  7  3  1  0\\n  1  8  1  0\\n  1  9  1  0\\n  1 10  1  0\\n  3 11  1  0\\n  4 12  1  0\\n  4 13  1  0\\n  6 14  1  0\\n  6 15  1  0\\n  6 16  1  0\\n  7 17  1  0\\n  7 18  1  0\\nM  END\\n\",\"mol\");\n\tviewer_1701306868320867.setStyle({\"stick\": {}});\n\tviewer_1701306868320867.zoomTo();\nviewer_1701306868320867.render();\n});\n</script>"
     },
     "metadata": {},
     "output_type": "display_data"
    }
   ],
   "source": [
    "query = Chem.MolFromSmarts('C1CCN1')\n",
    "atom_ids = mol.GetSubstructMatch(query)\n",
    "print(atom_ids)\n",
    "AllChem.AlignMolConformers(mol, atomIds=atom_ids)\n",
    "draw3Dconfs(mol, autoalign=False)"
   ],
   "metadata": {
    "collapsed": false,
    "ExecuteTime": {
     "end_time": "2023-11-30T11:59:44.257209500Z",
     "start_time": "2023-11-30T11:59:44.241835100Z"
    }
   }
  },
  {
   "cell_type": "code",
   "execution_count": 5,
   "outputs": [
    {
     "data": {
      "text/plain": "'/home/ergot/linux_qm/notebooks'"
     },
     "execution_count": 5,
     "metadata": {},
     "output_type": "execute_result"
    }
   ],
   "source": [
    "import os\n",
    "os.getcwd()"
   ],
   "metadata": {
    "collapsed": false,
    "ExecuteTime": {
     "end_time": "2023-11-30T11:59:44.402261200Z",
     "start_time": "2023-11-30T11:59:44.388243Z"
    }
   }
  },
  {
   "cell_type": "code",
   "execution_count": 6,
   "outputs": [],
   "source": [
    "logging.getLogger().setLevel(logging.DEBUG)"
   ],
   "metadata": {
    "collapsed": false,
    "ExecuteTime": {
     "end_time": "2023-11-30T11:59:46.550629900Z",
     "start_time": "2023-11-30T11:59:46.532798400Z"
    }
   }
  },
  {
   "cell_type": "code",
   "execution_count": 7,
   "outputs": [
    {
     "name": "stderr",
     "output_type": "stream",
     "text": [
      "[30-11-2023 02:14:39] [INFO] Method: XTB2\n",
      "[30-11-2023 02:14:39] [DEBUG] ORCA INPUT:\n",
      "!XTB2 OPT  \n",
      "%geom MaxIter 100 end\n",
      "%maxcore 2000\n",
      "*xyz 0 1\n",
      "C            2.71484785          0.42880002         -0.15402688\n",
      "O            1.61469509         -0.39692753         -0.44575527\n",
      "C            0.56782242         -0.27291115          0.47464054\n",
      "C           -0.66124411         -1.11990244          0.13118774\n",
      "N           -1.51499908          0.04690021          0.36976656\n",
      "C           -2.58128705          0.29500301         -0.56443383\n",
      "C           -0.36189456          0.95005799          0.33948174\n",
      "H            3.12947886          0.19812896          0.83511982\n",
      "H            2.43980366          1.48947819         -0.18100250\n",
      "H            3.46306590          0.22800678         -0.91805067\n",
      "H            0.93021308         -0.41945683          1.50068874\n",
      "H           -0.88479859         -1.96629005          0.78047707\n",
      "H           -0.62918538         -1.44665820         -0.91402267\n",
      "H           -3.31308480         -0.50752455         -0.48144364\n",
      "H           -3.06201324          1.23785413         -0.30586406\n",
      "H           -2.23238798          0.34926086         -1.60813362\n",
      "H           -0.22259440          1.45660401         -0.62368073\n",
      "H           -0.36203357          1.68045239          1.14988442\n",
      "*\n",
      "\n",
      "\n",
      "[30-11-2023 02:14:39] [DEBUG] ORCA OUTPUT:\n",
      "\n",
      "                                *** OPTIMIZATION RUN DONE ***\n",
      "\n",
      "Timings for individual modules:\n",
      "\n",
      "Sum of individual times         ...        0.055 sec (=   0.001 min)\n",
      "Geometry relaxation             ...        0.027 sec (=   0.000 min)  49.0 %\n",
      "XTB module                      ...        0.028 sec (=   0.000 min)  51.0 %\n",
      "                             ****ORCA TERMINATED NORMALLY****\n",
      "TOTAL RUN TIME: 0 days 0 hours 0 minutes 0 seconds 131 msec\n",
      "\n",
      "[30-11-2023 02:14:39] [INFO] Identified logfile to be in ORCA format\n",
      "[30-11-2023 02:14:39] [DEBUG] CALC_NPA: False\n",
      "[30-11-2023 02:14:39] [INFO] Success: True\n",
      "[30-11-2023 02:14:39] [INFO] Num Iter: 2\n",
      "[30-11-2023 02:14:39] [INFO] Elapsed Time: 0.2s\n",
      "[30-11-2023 02:14:39] [INFO] Method: HF-3c\n",
      "[30-11-2023 02:14:39] [DEBUG] ORCA INPUT:\n",
      "!HF-3c   \n",
      "%geom MaxIter 100 end\n",
      "%maxcore 2000\n",
      "*xyz 0 1\n",
      "C            2.71502900          0.42869300         -0.15385700\n",
      "O            1.61470800         -0.39671700         -0.44588200\n",
      "C            0.56783300         -0.27274500          0.47451900\n",
      "C           -0.66120500         -1.11980600          0.13113800\n",
      "N           -1.51501700          0.04694300          0.36972100\n",
      "C           -2.58145000          0.29490100         -0.56436400\n",
      "C           -0.36197300          0.95015900          0.33927700\n",
      "H            3.12981200          0.19734700          0.83507300\n",
      "H            2.44012100          1.48942800         -0.18011100\n",
      "H            3.46308500          0.22827400         -0.91814500\n",
      "H            0.93025000         -0.41923100          1.50057100\n",
      "H           -0.88468400         -1.96618900          0.78045500\n",
      "H           -0.62915700         -1.44659000         -0.91406400\n",
      "H           -3.31326300         -0.50759300         -0.48109900\n",
      "H           -3.06211500          1.23782400         -0.30591100\n",
      "H           -2.23270700          0.34893500         -1.60813500\n",
      "H           -0.22274700          1.45660300         -0.62394600\n",
      "H           -0.36211600          1.68064100          1.14959000\n",
      "*\n",
      "\n",
      "\n",
      "[30-11-2023 02:14:39] [DEBUG] ORCA OUTPUT:\n",
      "\n",
      " \n",
      "\n",
      "Timings for individual modules:\n",
      "\n",
      "Sum of individual times         ...        0.524 sec (=   0.009 min)\n",
      "GTO integral calculation        ...        0.156 sec (=   0.003 min)  29.8 %\n",
      "SCF iterations                  ...        0.367 sec (=   0.006 min)  70.2 %\n",
      "                             ****ORCA TERMINATED NORMALLY****\n",
      "TOTAL RUN TIME: 0 days 0 hours 0 minutes 0 seconds 599 msec\n",
      "\n",
      "[30-11-2023 02:14:39] [INFO] Identified logfile to be in ORCA format\n",
      "[30-11-2023 02:14:39] [DEBUG] CALC_NPA: True\n",
      "[30-11-2023 02:14:39] [DEBUG] JANPA jobname:task\n",
      "[30-11-2023 02:14:39] [DEBUG] orca_2mkl task -molden\n",
      "[30-11-2023 02:14:39] [DEBUG] java -jar /home/ergot/linux_qm/install/janpa/molden2molden.jar -i task.molden.input -o joutput.PURE -fromorca3bf -orca3signs\n",
      "[30-11-2023 02:14:40] [DEBUG] java -jar /home/ergot/linux_qm/install/janpa/janpa.jar -i joutput.PURE\n",
      "[30-11-2023 02:14:40] [DEBUG] -0.0884156769\n",
      "[30-11-2023 02:14:40] [DEBUG] -0.4024269498\n",
      "[30-11-2023 02:14:40] [DEBUG]  0.1292012727\n",
      "[30-11-2023 02:14:40] [DEBUG] -0.1019060695\n",
      "[30-11-2023 02:14:40] [DEBUG] -0.2726497837\n",
      "[30-11-2023 02:14:40] [DEBUG] -0.2071067913\n",
      "[30-11-2023 02:14:40] [DEBUG] -0.1129205248\n",
      "[30-11-2023 02:14:40] [DEBUG]  0.0911236546\n",
      "[30-11-2023 02:14:40] [DEBUG]  0.0903996338\n",
      "[30-11-2023 02:14:40] [DEBUG]  0.1071361353\n",
      "[30-11-2023 02:14:40] [DEBUG]  0.0858545792\n",
      "[30-11-2023 02:14:40] [DEBUG]  0.0957074856\n",
      "[30-11-2023 02:14:40] [DEBUG]  0.1015684902\n",
      "[30-11-2023 02:14:40] [DEBUG]  0.1062717974\n",
      "[30-11-2023 02:14:40] [DEBUG]  0.1054878260\n",
      "[30-11-2023 02:14:40] [DEBUG]  0.0866903979\n",
      "[30-11-2023 02:14:40] [DEBUG]  0.0942221269\n",
      "[30-11-2023 02:14:40] [DEBUG]  0.0917623993\n",
      "[30-11-2023 02:14:40] [INFO] Success: True\n"
     ]
    }
   ],
   "source": [
    "from linux_qm.qm.orca.orca import OrcaDriver\n",
    "orca = OrcaDriver()\n",
    "\n",
    "conf = deepcopy(mol).GetConformer()\n",
    "\n",
    "orca.options['method'] = 'XTB2'\n",
    "orca.geometry_optimization(conf)\n",
    "\n",
    "orca.options['n_jobs'] = 1\n",
    "orca.options['method'] = 'HF-3c'\n",
    "# orca.options['method'] = ''\n",
    "data = orca.single_point(conf, calc_npa=True)"
   ],
   "metadata": {
    "collapsed": false,
    "ExecuteTime": {
     "end_time": "2023-11-30T11:59:55.449218200Z",
     "start_time": "2023-11-30T11:59:54.110613300Z"
    }
   }
  },
  {
   "cell_type": "code",
   "execution_count": 8,
   "outputs": [
    {
     "data": {
      "text/plain": "'task.inp'"
     },
     "execution_count": 8,
     "metadata": {},
     "output_type": "execute_result"
    }
   ],
   "source": [
    "data.metadata['input_file_name']"
   ],
   "metadata": {
    "collapsed": false,
    "ExecuteTime": {
     "end_time": "2023-11-29T08:48:04.294836300Z",
     "start_time": "2023-11-29T08:48:04.281329400Z"
    }
   }
  },
  {
   "cell_type": "code",
   "execution_count": 65,
   "outputs": [
    {
     "name": "stdout",
     "output_type": "stream",
     "text": [
      "mulliken\n",
      "[-0.170523 -0.437285  0.066211 -0.152177 -0.323495 -0.258984 -0.142196\n",
      "  0.12537   0.142833  0.124913  0.131895  0.126081  0.12645   0.132145\n",
      "  0.111749  0.131234  0.135055  0.130726]\n",
      "lowdin\n",
      "[-0.076184 -0.319441  0.080399 -0.08962  -0.215448 -0.155909 -0.076887\n",
      "  0.074517  0.089711  0.073961  0.074574  0.074539  0.075737  0.083163\n",
      "  0.064268  0.082471  0.082129  0.07802 ]\n",
      "npa\n",
      "[-0.088416 -0.402427  0.1292   -0.112921 -0.272649 -0.207107 -0.101906\n",
      "  0.091123  0.107136  0.090399  0.085854  0.091763  0.094222  0.106272\n",
      "  0.08669   0.105488  0.101569  0.095708]\n"
     ]
    }
   ],
   "source": [
    "for k,v in data.atomcharges.items():\n",
    "    print(k)\n",
    "    print(v)"
   ],
   "metadata": {
    "collapsed": false,
    "ExecuteTime": {
     "end_time": "2023-11-29T09:44:29.024118300Z",
     "start_time": "2023-11-29T09:44:28.968871500Z"
    }
   }
  },
  {
   "cell_type": "code",
   "execution_count": 12,
   "outputs": [
    {
     "name": "stderr",
     "output_type": "stream",
     "text": [
      "[29-11-2023 04:35:13] [INFO] Method: HF-3c\n",
      "[29-11-2023 04:35:13] [DEBUG] ORCA INPUT:\n",
      "!HF-3c OPT  \n",
      "%geom MaxIter 100 end\n",
      "%maxcore 2000\n",
      "*xyz 0 1\n",
      "C            2.71480274          0.42884082          0.15406060\n",
      "O            1.61467957         -0.39693722          0.44575767\n",
      "C            0.56782226         -0.27295524         -0.47466078\n",
      "C           -0.36187849          0.95003183         -0.33956833\n",
      "N           -1.51499942          0.04689095         -0.36976641\n",
      "C           -2.58123322          0.29505378          0.56448005\n",
      "C           -0.66125414         -1.11991726         -0.13117159\n",
      "H            3.12947891          0.19818606         -0.83507233\n",
      "H            3.46300549          0.22808620          0.91811094\n",
      "H            2.43970687          1.48950658          0.18102358\n",
      "H            0.93022660         -0.41955453         -1.50069652\n",
      "H           -0.36202347          1.68036633         -1.15002437\n",
      "H           -0.22255383          1.45664687          0.62355310\n",
      "H           -3.31304459         -0.50746937          0.48157260\n",
      "H           -2.23227487          0.34936196          1.60815699\n",
      "H           -3.06196242          1.23789698          0.30588830\n",
      "H           -0.62918799         -1.44665225          0.91404440\n",
      "H           -0.88482992         -1.96631435         -0.78044099\n",
      "*\n",
      "\n",
      "\n",
      "[29-11-2023 04:35:18] [DEBUG] ORCA OUTPUT:\n",
      "\n",
      "Timings for individual modules:\n",
      "\n",
      "Sum of individual times         ...        5.124 sec (=   0.085 min)\n",
      "GTO integral calculation        ...        0.967 sec (=   0.016 min)  18.9 %\n",
      "SCF iterations                  ...        0.844 sec (=   0.014 min)  16.5 %\n",
      "SCF Gradient evaluation         ...        3.195 sec (=   0.053 min)  62.4 %\n",
      "Geometry relaxation             ...        0.118 sec (=   0.002 min)   2.3 %\n",
      "                             ****ORCA TERMINATED NORMALLY****\n",
      "TOTAL RUN TIME: 0 days 0 hours 0 minutes 5 seconds 405 msec\n",
      "\n",
      "[29-11-2023 04:35:18] [INFO] Identified logfile to be in ORCA format\n",
      "[29-11-2023 04:35:18] [DEBUG] JANPA jobname:task\n",
      "[29-11-2023 04:35:18] [DEBUG] orca_2mkl task -molden\n",
      "[29-11-2023 04:35:18] [DEBUG] java -jar /home/ergot/linux_qm/install/janpa/molden2molden.jar -i task.molden.input -o joutput.PURE -fromorca3bf -orca3signs\n",
      "[29-11-2023 04:35:19] [DEBUG] ['task.molden.input', 'task.engrad', 'task.inp', 'task.opt', 'task.densities', 'joutput.PURE', 'task.xyz', 'task.gbw', 'task_property.txt', 'task_trj.xyz']\n",
      "[29-11-2023 04:35:19] [DEBUG] Janpa molden:  * * * * * * * * * * * * * * * * * * * * * * * * * * * * * * * * * * * *\n",
      " * molden2molden: a conversion tool for MOLDEN-(semi)compatible files  * \n",
      " *        A part of JANPA package,   http://janpa.sourceforge.net      * \n",
      " *                      VERSION:   13-01-2019                          * \n",
      " * * * * * * * * * * * * * * * * * * * * * * * * * * * * * * * * * * * *\n",
      "\n",
      " Copyright (c) Tymofii Nikolaienko, 2014\n",
      "\n",
      " If any results obtained with this program are used in a publication or \n",
      " are used in any other way, please cite this software as following: \n",
      "   molden2molden (a part of JANPA package, http://janpa.sourceforge.net ),\n",
      "   version 13-01-2019, T.Yu.Nikolaienko\n",
      " and cite the following paper:\n",
      "  T.Y.Nikolaienko, L.A.Bulavin, D.M.Hovorun; Comput.Theor.Chem.(2014),\n",
      "  V.1050, P.15-22, DOI: 10.1016/j.comptc.2014.10.002\n",
      "\n",
      "Total number of jobs to be done: 2\n",
      " Loading input molden from task.molden.input ...\n",
      "WARNING: section \"[7F]\" is not supported!\n",
      "Basis functions are spherical: true\n",
      "Total number of basis functions: 46\n",
      "Total number of different contractions (radial parts): 32\n",
      "Highest angular momentum: p (Lmax = 1)\n",
      "Total number of MO: 46\n",
      "Data loaded successfully.\n",
      "\n",
      "Converting the basis set from the ORCA 3-style to a conventional MOLDEN style...\n",
      "Converting MO coefficients signs to make them compatible with a conventional MOLDEN spherical harmonics...\n",
      "Saving result as joutput.PURE  (ascii encoded)...OK.\n",
      "\n",
      "\n",
      "1 warning(s)\n",
      "All done!\n",
      "\n",
      "[29-11-2023 04:35:19] [DEBUG] Janpa molden error: \n",
      "[29-11-2023 04:35:19] [DEBUG] java -jar /home/ergot/linux_qm/install/janpa/janpa.jar -i joutput.PURE\n",
      "[29-11-2023 04:35:19] [DEBUG] Center\tNuclear\t Electron  \t  NMB       \tNPA\n",
      "[29-11-2023 04:35:19] [DEBUG] charge\t population\t  population\tcharge\n",
      "[29-11-2023 04:35:19] [DEBUG] -0.0882261505\n",
      "[29-11-2023 04:35:19] [DEBUG] -0.4018200473\n",
      "[29-11-2023 04:35:19] [DEBUG]  0.1392873197\n",
      "[29-11-2023 04:35:19] [DEBUG] -0.1074031508\n",
      "[29-11-2023 04:35:19] [DEBUG] -0.2746422001\n",
      "[29-11-2023 04:35:19] [DEBUG] -0.2062626574\n",
      "[29-11-2023 04:35:19] [DEBUG] -0.0952175311\n",
      "[29-11-2023 04:35:19] [DEBUG]  0.0905689983\n",
      "[29-11-2023 04:35:19] [DEBUG]  0.1071445411\n",
      "[29-11-2023 04:35:19] [DEBUG]  0.0901455703\n",
      "[29-11-2023 04:35:19] [DEBUG]  0.0814683413\n",
      "[29-11-2023 04:35:19] [DEBUG]  0.0882615092\n",
      "[29-11-2023 04:35:19] [DEBUG]  0.0891546283\n",
      "[29-11-2023 04:35:19] [DEBUG]  0.1062640436\n",
      "[29-11-2023 04:35:19] [DEBUG]  0.0860064618\n",
      "[29-11-2023 04:35:19] [DEBUG]  0.1055047542\n",
      "[29-11-2023 04:35:19] [DEBUG]  0.0971734390\n",
      "[29-11-2023 04:35:19] [DEBUG]  0.0925921333\n",
      "[29-11-2023 04:35:19] [INFO] Success: True\n",
      "[29-11-2023 04:35:19] [INFO] Num Iter: 7\n",
      "[29-11-2023 04:35:19] [INFO] Elapsed Time: 5.8s\n"
     ]
    },
    {
     "data": {
      "text/plain": "<cclib.parser.data.ccData_optdone_bool at 0x7f8ee81c5ea0>"
     },
     "execution_count": 12,
     "metadata": {},
     "output_type": "execute_result"
    }
   ],
   "source": [
    "orca.geometry_optimization(conf)"
   ],
   "metadata": {
    "collapsed": false,
    "ExecuteTime": {
     "end_time": "2023-11-29T08:48:28.250615200Z",
     "start_time": "2023-11-29T08:48:22.860237700Z"
    }
   }
  },
  {
   "cell_type": "code",
   "execution_count": 9,
   "outputs": [
    {
     "name": "stderr",
     "output_type": "stream",
     "text": [
      "[24-11-2023 02:32:03] [INFO] Geometry optimization\n",
      "[24-11-2023 02:32:03] [INFO] Method: M062X 6-311++G(d,p) NMR\n",
      "[24-11-2023 02:34:15] [INFO] Identified logfile to be in ORCA format\n",
      "[24-11-2023 02:34:15] [INFO] Success: True\n",
      "[24-11-2023 02:34:15] [INFO] Num Iter: 9\n",
      "[24-11-2023 02:34:15] [INFO] Elapsed Time: 131.8s\n"
     ]
    },
    {
     "name": "stdout",
     "output_type": "stream",
     "text": [
      "CPU times: user 126 ms, sys: 61.7 ms, total: 187 ms\n",
      "Wall time: 2min 11s\n"
     ]
    }
   ],
   "source": [
    "%%time\n",
    "\n",
    "logging.getLogger().setLevel(logging.INFO)\n",
    "orca.options['solvent'] = 'THF'\n",
    "\n",
    "conf = deepcopy(mol).GetConformer()\n",
    "\n",
    "orca.options['method'] = 'M062X 6-311++G(d,p) NMR'\n",
    "orca.geometry_optimization(conf)"
   ],
   "metadata": {
    "collapsed": false,
    "ExecuteTime": {
     "end_time": "2023-11-24T13:34:15.253756700Z",
     "start_time": "2023-11-24T13:32:03.465089300Z"
    }
   }
  },
  {
   "cell_type": "code",
   "execution_count": 10,
   "outputs": [
    {
     "name": "stderr",
     "output_type": "stream",
     "text": [
      "[24-11-2023 02:34:15] [INFO] Geometry optimization\n",
      "[24-11-2023 02:34:15] [INFO] Method: M062X 6-31G\n",
      "[24-11-2023 02:35:07] [INFO] Identified logfile to be in ORCA format\n",
      "[24-11-2023 02:35:07] [INFO] Success: True\n",
      "[24-11-2023 02:35:07] [INFO] Num Iter: 9\n",
      "[24-11-2023 02:35:07] [INFO] Elapsed Time: 52.0s\n",
      "[24-11-2023 02:35:07] [INFO] Geometry optimization\n",
      "[24-11-2023 02:35:07] [INFO] Method: M062X 6-311++G(d,p) NMR\n",
      "[24-11-2023 02:36:48] [INFO] Identified logfile to be in ORCA format\n",
      "[24-11-2023 02:36:48] [INFO] Success: True\n",
      "[24-11-2023 02:36:48] [INFO] Num Iter: 7\n",
      "[24-11-2023 02:36:48] [INFO] Elapsed Time: 101.1s\n"
     ]
    },
    {
     "name": "stdout",
     "output_type": "stream",
     "text": [
      "CPU times: user 243 ms, sys: 48.6 ms, total: 291 ms\n",
      "Wall time: 2min 33s\n"
     ]
    }
   ],
   "source": [
    "%%time\n",
    "\n",
    "conf = deepcopy(mol).GetConformer()\n",
    "\n",
    "orca.options['method'] = 'M062X 6-31G'\n",
    "orca.geometry_optimization(conf)\n",
    "\n",
    "orca.options['method'] = 'M062X 6-311++G(d,p) NMR'\n",
    "orca.geometry_optimization(conf)"
   ],
   "metadata": {
    "collapsed": false,
    "ExecuteTime": {
     "end_time": "2023-11-24T13:36:48.343448500Z",
     "start_time": "2023-11-24T13:34:15.257756800Z"
    }
   }
  },
  {
   "cell_type": "code",
   "execution_count": 11,
   "outputs": [
    {
     "name": "stderr",
     "output_type": "stream",
     "text": [
      "[24-11-2023 02:36:48] [INFO] Geometry optimization\n",
      "[24-11-2023 02:36:48] [INFO] Method: M062X cc-pVDZ NMR\n",
      "[24-11-2023 02:38:10] [INFO] Identified logfile to be in ORCA format\n",
      "[24-11-2023 02:38:10] [INFO] Success: True\n",
      "[24-11-2023 02:38:10] [INFO] Num Iter: 9\n",
      "[24-11-2023 02:38:10] [INFO] Elapsed Time: 82.3s\n"
     ]
    },
    {
     "name": "stdout",
     "output_type": "stream",
     "text": [
      "CPU times: user 127 ms, sys: 48.6 ms, total: 175 ms\n",
      "Wall time: 1min 22s\n"
     ]
    }
   ],
   "source": [
    "%%time\n",
    "\n",
    "conf = deepcopy(mol).GetConformer()\n",
    "orca.options['method'] = 'M062X cc-pVDZ NMR'\n",
    "orca.geometry_optimization(conf)"
   ],
   "metadata": {
    "collapsed": false,
    "ExecuteTime": {
     "end_time": "2023-11-24T13:38:10.655400200Z",
     "start_time": "2023-11-24T13:36:48.344450Z"
    }
   }
  },
  {
   "cell_type": "code",
   "execution_count": 12,
   "outputs": [
    {
     "name": "stderr",
     "output_type": "stream",
     "text": [
      "[24-11-2023 02:38:10] [INFO] Geometry optimization\n",
      "[24-11-2023 02:38:10] [INFO] Method: M062X cc-pVTZ NMR\n",
      "[24-11-2023 02:41:28] [INFO] Identified logfile to be in ORCA format\n",
      "[24-11-2023 02:41:28] [INFO] Success: True\n",
      "[24-11-2023 02:41:28] [INFO] Num Iter: 9\n",
      "[24-11-2023 02:41:28] [INFO] Elapsed Time: 198.2s\n"
     ]
    },
    {
     "name": "stdout",
     "output_type": "stream",
     "text": [
      "CPU times: user 175 ms, sys: 49.4 ms, total: 225 ms\n",
      "Wall time: 3min 18s\n"
     ]
    }
   ],
   "source": [
    "%%time\n",
    "conf = deepcopy(mol).GetConformer()\n",
    "orca.options['method'] = 'M062X cc-pVTZ NMR'\n",
    "orca.geometry_optimization(conf)"
   ],
   "metadata": {
    "collapsed": false,
    "ExecuteTime": {
     "end_time": "2023-11-24T13:41:28.905404700Z",
     "start_time": "2023-11-24T13:38:10.652400200Z"
    }
   }
  },
  {
   "cell_type": "code",
   "execution_count": 13,
   "outputs": [
    {
     "name": "stderr",
     "output_type": "stream",
     "text": [
      "[24-11-2023 02:41:28] [INFO] Geometry optimization\n",
      "[24-11-2023 02:41:28] [INFO] Method: M062X aug-cc-pVTZ NMR\n",
      "[24-11-2023 02:50:45] [INFO] Identified logfile to be in ORCA format\n",
      "[24-11-2023 02:50:45] [INFO] Success: True\n",
      "[24-11-2023 02:50:45] [INFO] Num Iter: 9\n",
      "[24-11-2023 02:50:45] [INFO] Elapsed Time: 556.3s\n"
     ]
    },
    {
     "name": "stdout",
     "output_type": "stream",
     "text": [
      "CPU times: user 195 ms, sys: 80.9 ms, total: 276 ms\n",
      "Wall time: 9min 16s\n"
     ]
    }
   ],
   "source": [
    "%%time\n",
    "conf = deepcopy(mol).GetConformer()\n",
    "orca.options['method'] = 'M062X aug-cc-pVTZ NMR'\n",
    "orca.geometry_optimization(conf)"
   ],
   "metadata": {
    "collapsed": false,
    "ExecuteTime": {
     "end_time": "2023-11-24T13:50:45.210933100Z",
     "start_time": "2023-11-24T13:41:28.903406700Z"
    }
   }
  },
  {
   "cell_type": "code",
   "execution_count": 17,
   "outputs": [
    {
     "name": "stderr",
     "output_type": "stream",
     "text": [
      "[24-11-2023 03:03:21] [INFO] Geometry optimization\n",
      "[24-11-2023 03:03:21] [INFO] Method: M062X cc-pVDZ\n",
      "[24-11-2023 03:04:42] [INFO] Identified logfile to be in ORCA format\n",
      "[24-11-2023 03:04:42] [INFO] Success: True\n",
      "[24-11-2023 03:04:42] [INFO] Num Iter: 9\n",
      "[24-11-2023 03:04:42] [INFO] Elapsed Time: 80.5s\n",
      "[24-11-2023 03:04:42] [INFO] Geometry optimization\n",
      "[24-11-2023 03:04:42] [INFO] Method: M062X aug-cc-pVTZ NMR\n",
      "[24-11-2023 03:10:10] [INFO] Identified logfile to be in ORCA format\n",
      "[24-11-2023 03:10:10] [INFO] Success: True\n",
      "[24-11-2023 03:10:10] [INFO] Num Iter: 5\n",
      "[24-11-2023 03:10:10] [INFO] Elapsed Time: 328.7s\n"
     ]
    },
    {
     "name": "stdout",
     "output_type": "stream",
     "text": [
      "CPU times: user 234 ms, sys: 122 ms, total: 356 ms\n",
      "Wall time: 6min 49s\n"
     ]
    }
   ],
   "source": [
    "%%time\n",
    "\n",
    "conf = deepcopy(mol).GetConformer()\n",
    "orca.options['method'] = 'M062X cc-pVDZ'\n",
    "orca.geometry_optimization(conf)\n",
    "\n",
    "orca.options['method'] = 'M062X aug-cc-pVTZ NMR'\n",
    "orca.geometry_optimization(conf)"
   ],
   "metadata": {
    "collapsed": false,
    "ExecuteTime": {
     "end_time": "2023-11-24T14:10:10.794402100Z",
     "start_time": "2023-11-24T14:03:21.516032800Z"
    }
   }
  },
  {
   "cell_type": "code",
   "execution_count": 15,
   "outputs": [
    {
     "name": "stdout",
     "output_type": "stream",
     "text": [
      "(3, 2, 6, 4)\n",
      "num conformers 4\n"
     ]
    },
    {
     "data": {
      "application/3dmoljs_load.v0": "<div id=\"3dmolviewer_17008339242557867\"  style=\"position: relative; width: 600px; height: 400px;\">\n        <p id=\"3dmolwarning_17008339242557867\" style=\"background-color:#ffcccc;color:black\">You appear to be running in JupyterLab (or JavaScript failed to load for some other reason).  You need to install the 3dmol extension: <br>\n        <tt>jupyter labextension install jupyterlab_3dmol</tt></p>\n        </div>\n<script>\n\nvar loadScriptAsync = function(uri){\n  return new Promise((resolve, reject) => {\n    //this is to ignore the existence of requirejs amd\n    var savedexports, savedmodule;\n    if (typeof exports !== 'undefined') savedexports = exports;\n    else exports = {}\n    if (typeof module !== 'undefined') savedmodule = module;\n    else module = {}\n\n    var tag = document.createElement('script');\n    tag.src = uri;\n    tag.async = true;\n    tag.onload = () => {\n        exports = savedexports;\n        module = savedmodule;\n        resolve();\n    };\n  var firstScriptTag = document.getElementsByTagName('script')[0];\n  firstScriptTag.parentNode.insertBefore(tag, firstScriptTag);\n});\n};\n\nif(typeof $3Dmolpromise === 'undefined') {\n$3Dmolpromise = null;\n  $3Dmolpromise = loadScriptAsync('https://cdnjs.cloudflare.com/ajax/libs/3Dmol/2.0.4/3Dmol-min.js');\n}\n\nvar viewer_17008339242557867 = null;\nvar warn = document.getElementById(\"3dmolwarning_17008339242557867\");\nif(warn) {\n    warn.parentNode.removeChild(warn);\n}\n$3Dmolpromise.then(function() {\nviewer_17008339242557867 = $3Dmol.createViewer(document.getElementById(\"3dmolviewer_17008339242557867\"),{backgroundColor:\"white\"});\nviewer_17008339242557867.zoomTo();\n\tviewer_17008339242557867.addModel(\"\\n     RDKit          3D\\n\\n 18 18  0  0  0  0  0  0  0  0999 V2000\\n    2.7148    0.4288   -0.1540 C   0  0  0  0  0  0  0  0  0  0  0  0\\n    1.6147   -0.3969   -0.4458 O   0  0  0  0  0  0  0  0  0  0  0  0\\n    0.5678   -0.2729    0.4746 C   0  0  0  0  0  0  0  0  0  0  0  0\\n   -0.6612   -1.1199    0.1312 C   0  0  0  0  0  0  0  0  0  0  0  0\\n   -1.5150    0.0469    0.3698 N   0  0  0  0  0  0  0  0  0  0  0  0\\n   -2.5813    0.2950   -0.5644 C   0  0  0  0  0  0  0  0  0  0  0  0\\n   -0.3619    0.9500    0.3395 C   0  0  0  0  0  0  0  0  0  0  0  0\\n    3.1295    0.1982    0.8351 H   0  0  0  0  0  0  0  0  0  0  0  0\\n    2.4398    1.4895   -0.1810 H   0  0  0  0  0  0  0  0  0  0  0  0\\n    3.4630    0.2280   -0.9181 H   0  0  0  0  0  0  0  0  0  0  0  0\\n    0.9302   -0.4195    1.5007 H   0  0  0  0  0  0  0  0  0  0  0  0\\n   -0.8848   -1.9663    0.7805 H   0  0  0  0  0  0  0  0  0  0  0  0\\n   -0.6292   -1.4467   -0.9140 H   0  0  0  0  0  0  0  0  0  0  0  0\\n   -2.2323    0.3493   -1.6081 H   0  0  0  0  0  0  0  0  0  0  0  0\\n   -3.3131   -0.5075   -0.4815 H   0  0  0  0  0  0  0  0  0  0  0  0\\n   -3.0620    1.2379   -0.3059 H   0  0  0  0  0  0  0  0  0  0  0  0\\n   -0.2226    1.4566   -0.6236 H   0  0  0  0  0  0  0  0  0  0  0  0\\n   -0.3620    1.6804    1.1499 H   0  0  0  0  0  0  0  0  0  0  0  0\\n  1  2  1  0\\n  2  3  1  0\\n  3  4  1  0\\n  4  5  1  0\\n  5  6  1  0\\n  5  7  1  0\\n  7  3  1  0\\n  1  8  1  0\\n  1  9  1  0\\n  1 10  1  0\\n  3 11  1  0\\n  4 12  1  0\\n  4 13  1  0\\n  6 14  1  0\\n  6 15  1  0\\n  6 16  1  0\\n  7 17  1  0\\n  7 18  1  0\\nM  END\\n\",\"mol\");\n\tviewer_17008339242557867.setStyle({\"stick\": {}});\n\tviewer_17008339242557867.zoomTo();\nviewer_17008339242557867.render();\n});\n</script>",
      "text/html": "<div id=\"3dmolviewer_17008339242557867\"  style=\"position: relative; width: 600px; height: 400px;\">\n        <p id=\"3dmolwarning_17008339242557867\" style=\"background-color:#ffcccc;color:black\">You appear to be running in JupyterLab (or JavaScript failed to load for some other reason).  You need to install the 3dmol extension: <br>\n        <tt>jupyter labextension install jupyterlab_3dmol</tt></p>\n        </div>\n<script>\n\nvar loadScriptAsync = function(uri){\n  return new Promise((resolve, reject) => {\n    //this is to ignore the existence of requirejs amd\n    var savedexports, savedmodule;\n    if (typeof exports !== 'undefined') savedexports = exports;\n    else exports = {}\n    if (typeof module !== 'undefined') savedmodule = module;\n    else module = {}\n\n    var tag = document.createElement('script');\n    tag.src = uri;\n    tag.async = true;\n    tag.onload = () => {\n        exports = savedexports;\n        module = savedmodule;\n        resolve();\n    };\n  var firstScriptTag = document.getElementsByTagName('script')[0];\n  firstScriptTag.parentNode.insertBefore(tag, firstScriptTag);\n});\n};\n\nif(typeof $3Dmolpromise === 'undefined') {\n$3Dmolpromise = null;\n  $3Dmolpromise = loadScriptAsync('https://cdnjs.cloudflare.com/ajax/libs/3Dmol/2.0.4/3Dmol-min.js');\n}\n\nvar viewer_17008339242557867 = null;\nvar warn = document.getElementById(\"3dmolwarning_17008339242557867\");\nif(warn) {\n    warn.parentNode.removeChild(warn);\n}\n$3Dmolpromise.then(function() {\nviewer_17008339242557867 = $3Dmol.createViewer(document.getElementById(\"3dmolviewer_17008339242557867\"),{backgroundColor:\"white\"});\nviewer_17008339242557867.zoomTo();\n\tviewer_17008339242557867.addModel(\"\\n     RDKit          3D\\n\\n 18 18  0  0  0  0  0  0  0  0999 V2000\\n    2.7148    0.4288   -0.1540 C   0  0  0  0  0  0  0  0  0  0  0  0\\n    1.6147   -0.3969   -0.4458 O   0  0  0  0  0  0  0  0  0  0  0  0\\n    0.5678   -0.2729    0.4746 C   0  0  0  0  0  0  0  0  0  0  0  0\\n   -0.6612   -1.1199    0.1312 C   0  0  0  0  0  0  0  0  0  0  0  0\\n   -1.5150    0.0469    0.3698 N   0  0  0  0  0  0  0  0  0  0  0  0\\n   -2.5813    0.2950   -0.5644 C   0  0  0  0  0  0  0  0  0  0  0  0\\n   -0.3619    0.9500    0.3395 C   0  0  0  0  0  0  0  0  0  0  0  0\\n    3.1295    0.1982    0.8351 H   0  0  0  0  0  0  0  0  0  0  0  0\\n    2.4398    1.4895   -0.1810 H   0  0  0  0  0  0  0  0  0  0  0  0\\n    3.4630    0.2280   -0.9181 H   0  0  0  0  0  0  0  0  0  0  0  0\\n    0.9302   -0.4195    1.5007 H   0  0  0  0  0  0  0  0  0  0  0  0\\n   -0.8848   -1.9663    0.7805 H   0  0  0  0  0  0  0  0  0  0  0  0\\n   -0.6292   -1.4467   -0.9140 H   0  0  0  0  0  0  0  0  0  0  0  0\\n   -2.2323    0.3493   -1.6081 H   0  0  0  0  0  0  0  0  0  0  0  0\\n   -3.3131   -0.5075   -0.4815 H   0  0  0  0  0  0  0  0  0  0  0  0\\n   -3.0620    1.2379   -0.3059 H   0  0  0  0  0  0  0  0  0  0  0  0\\n   -0.2226    1.4566   -0.6236 H   0  0  0  0  0  0  0  0  0  0  0  0\\n   -0.3620    1.6804    1.1499 H   0  0  0  0  0  0  0  0  0  0  0  0\\n  1  2  1  0\\n  2  3  1  0\\n  3  4  1  0\\n  4  5  1  0\\n  5  6  1  0\\n  5  7  1  0\\n  7  3  1  0\\n  1  8  1  0\\n  1  9  1  0\\n  1 10  1  0\\n  3 11  1  0\\n  4 12  1  0\\n  4 13  1  0\\n  6 14  1  0\\n  6 15  1  0\\n  6 16  1  0\\n  7 17  1  0\\n  7 18  1  0\\nM  END\\n\",\"mol\");\n\tviewer_17008339242557867.setStyle({\"stick\": {}});\n\tviewer_17008339242557867.zoomTo();\nviewer_17008339242557867.render();\n});\n</script>"
     },
     "metadata": {},
     "output_type": "display_data"
    }
   ],
   "source": [
    "query = Chem.MolFromSmarts('C1CCN1')\n",
    "atom_ids = mol.GetSubstructMatch(query)\n",
    "print(atom_ids)\n",
    "AllChem.AlignMolConformers(mol, atomIds=atom_ids)\n",
    "draw3Dconfs(mol, confIds=[0], autoalign=False)"
   ],
   "metadata": {
    "collapsed": false,
    "ExecuteTime": {
     "end_time": "2023-11-24T13:52:04.263737900Z",
     "start_time": "2023-11-24T13:52:04.249736900Z"
    }
   }
  },
  {
   "cell_type": "code",
   "execution_count": 16,
   "outputs": [
    {
     "ename": "NameError",
     "evalue": "name 'data' is not defined",
     "output_type": "error",
     "traceback": [
      "\u001B[0;31m---------------------------------------------------------------------------\u001B[0m",
      "\u001B[0;31mNameError\u001B[0m                                 Traceback (most recent call last)",
      "Cell \u001B[0;32mIn[16], line 1\u001B[0m\n\u001B[0;32m----> 1\u001B[0m \u001B[43mdata\u001B[49m\u001B[38;5;241m.\u001B[39mscfvalues\n",
      "\u001B[0;31mNameError\u001B[0m: name 'data' is not defined"
     ]
    }
   ],
   "source": [
    "data.scfvalues"
   ],
   "metadata": {
    "collapsed": false,
    "ExecuteTime": {
     "end_time": "2023-11-24T13:52:04.445739500Z",
     "start_time": "2023-11-24T13:52:04.290739700Z"
    }
   }
  },
  {
   "cell_type": "code",
   "execution_count": null,
   "outputs": [],
   "source": [
    "data.scftargets"
   ],
   "metadata": {
    "collapsed": false,
    "ExecuteTime": {
     "start_time": "2023-11-24T13:52:04.295738Z"
    }
   }
  },
  {
   "cell_type": "code",
   "execution_count": null,
   "outputs": [],
   "source": [
    "# NMR shielding\n",
    "for k,v in data.nmrtensors.items():\n",
    "    print(mol.GetAtomWithIdx(k).GetSymbol(), k, v['isotropic'])"
   ],
   "metadata": {
    "collapsed": false,
    "ExecuteTime": {
     "start_time": "2023-11-24T13:52:04.302736500Z"
    }
   }
  },
  {
   "cell_type": "code",
   "execution_count": null,
   "outputs": [],
   "source": [
    "dir(data)"
   ],
   "metadata": {
    "collapsed": false,
    "ExecuteTime": {
     "start_time": "2023-11-24T13:52:04.304737800Z"
    }
   }
  },
  {
   "cell_type": "code",
   "execution_count": null,
   "outputs": [],
   "source": [
    "print(data.metadata['cpu_time'][0])"
   ],
   "metadata": {
    "collapsed": false,
    "ExecuteTime": {
     "start_time": "2023-11-24T13:52:04.305737Z"
    }
   }
  },
  {
   "cell_type": "code",
   "execution_count": null,
   "outputs": [],
   "source": [
    "len(data.converged_geometries)"
   ],
   "metadata": {
    "collapsed": false,
    "ExecuteTime": {
     "start_time": "2023-11-24T13:52:04.309740400Z"
    }
   }
  },
  {
   "cell_type": "code",
   "execution_count": null,
   "outputs": [],
   "source": [
    "dir(data)"
   ],
   "metadata": {
    "collapsed": false,
    "ExecuteTime": {
     "start_time": "2023-11-24T13:52:04.310737Z"
    }
   }
  },
  {
   "cell_type": "code",
   "execution_count": null,
   "outputs": [],
   "source": [
    "data.optdone"
   ],
   "metadata": {
    "collapsed": false,
    "ExecuteTime": {
     "start_time": "2023-11-24T13:52:04.312737300Z"
    }
   }
  },
  {
   "cell_type": "code",
   "execution_count": null,
   "outputs": [],
   "source": [
    "data.metadata"
   ],
   "metadata": {
    "collapsed": false,
    "ExecuteTime": {
     "start_time": "2023-11-24T13:52:04.318740800Z"
    }
   }
  },
  {
   "cell_type": "code",
   "execution_count": null,
   "outputs": [],
   "source": [
    "data.new_geometries"
   ],
   "metadata": {
    "collapsed": false,
    "ExecuteTime": {
     "start_time": "2023-11-24T13:52:04.318740800Z"
    }
   }
  },
  {
   "cell_type": "code",
   "execution_count": null,
   "outputs": [],
   "source": [
    "# HOMO LUMO\n",
    "homo = data.moenergies[0][data.homos[0]]\n",
    "lumo = data.moenergies[0][data.homos[0] + 1]\n",
    "homo, lumo"
   ],
   "metadata": {
    "collapsed": false,
    "ExecuteTime": {
     "start_time": "2023-11-24T13:52:04.320740800Z"
    }
   }
  },
  {
   "cell_type": "code",
   "execution_count": null,
   "outputs": [],
   "source": [
    "print(data.metadata['cpu_time'][0])"
   ],
   "metadata": {
    "collapsed": false,
    "ExecuteTime": {
     "start_time": "2023-11-24T13:52:04.322741300Z"
    }
   }
  },
  {
   "cell_type": "code",
   "execution_count": null,
   "outputs": [],
   "source": [
    "data.natom, data.nmo"
   ],
   "metadata": {
    "collapsed": false,
    "ExecuteTime": {
     "start_time": "2023-11-24T13:52:04.322741300Z"
    }
   }
  },
  {
   "cell_type": "code",
   "execution_count": null,
   "outputs": [],
   "source": [
    "data.metadata"
   ],
   "metadata": {
    "collapsed": false,
    "ExecuteTime": {
     "start_time": "2023-11-24T13:52:04.324736200Z"
    }
   }
  },
  {
   "cell_type": "code",
   "execution_count": null,
   "outputs": [],
   "source": [
    "data.scfenergies"
   ],
   "metadata": {
    "collapsed": false,
    "ExecuteTime": {
     "start_time": "2023-11-24T13:52:04.376740100Z"
    }
   }
  }
 ],
 "metadata": {
  "kernelspec": {
   "name": "linux_qm",
   "language": "python",
   "display_name": "linux_qm"
  },
  "language_info": {
   "codemirror_mode": {
    "name": "ipython",
    "version": 2
   },
   "file_extension": ".py",
   "mimetype": "text/x-python",
   "name": "python",
   "nbconvert_exporter": "python",
   "pygments_lexer": "ipython2",
   "version": "2.7.6"
  }
 },
 "nbformat": 4,
 "nbformat_minor": 0
}
