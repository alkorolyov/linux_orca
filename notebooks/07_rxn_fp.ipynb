{
 "cells": [
  {
   "cell_type": "code",
   "execution_count": 9,
   "outputs": [
    {
     "name": "stdout",
     "output_type": "stream",
     "text": [
      "The autoreload extension is already loaded. To reload it, use:\n",
      "  %reload_ext autoreload\n"
     ]
    }
   ],
   "source": [
    "%load_ext autoreload\n",
    "%autoreload 2"
   ],
   "metadata": {
    "collapsed": false,
    "ExecuteTime": {
     "end_time": "2023-12-06T11:52:24.357694200Z",
     "start_time": "2023-12-06T11:52:24.347825200Z"
    }
   }
  },
  {
   "cell_type": "code",
   "execution_count": 10,
   "metadata": {
    "collapsed": true,
    "ExecuteTime": {
     "end_time": "2023-12-06T11:52:25.332791700Z",
     "start_time": "2023-12-06T11:52:25.297754600Z"
    }
   },
   "outputs": [
    {
     "data": {
      "text/plain": "     Reaction                                  acid_smi  \\\n0         #17                       Cc1c(Cl)cnn1CC(=O)O   \n1         #18                        O=C(O)C(O)c1ccccc1   \n4         #23                         CC1(C(=O)O)CCCCC1   \n5         #25                O=C(O)c1c[nH]c2cccc(Cl)c12   \n6         #26                         O=C(O)Cc1ccccc1Cl   \n7         #34                        O=C(O)C(O)c1ccccc1   \n8   Trans-#35                 O=C(O)[C@H]1CC[C@H](O)CC1   \n9         #40                O=C(O)c1c[nH]c2ccc(Br)cc12   \n10        #50                            O=C(O)C1CCOCC1   \n11        #52                         CC1(C(=O)O)CCCCC1   \n12        #62                       Cc1c(Cl)cnn1CC(=O)O   \n13        #63                       O=C(O)C1CC2CC1CCC2O   \n14        #68               O=C(O)c1ccc2c(=O)[nH]cnc2c1   \n15        #70                       Cc1c(Cl)cnn1CC(=O)O   \n16        #72                          O=C(O)c1ccccc1Cl   \n17        #78                       Cc1c(Br)cnn1CC(=O)O   \n18        #81                 Cc1cc(C)n(C)c(=O)c1C(=O)O   \n19        #87                     O=C(O)c1cc2occc2[nH]1   \n20        #90         O=C(O)c1ccc(-c2ccc3[nH]ccc3c2)cc1   \n21        #98                    Cn1ccc2c(C(=O)O)cccc21   \n22       #100                     O=C(O)Cc1c(Cl)cccc1Cl   \n23       #101               O=C(O)c1ccc2c(=O)[nH]cnc2c1   \n24       #109               CN1CCN(c2cccc(C(=O)O)c2)CC1   \n25       #111                   Cc1[nH]c2ccccc2c1C(=O)O   \n26       #112                          O=C(O)c1ccccc1Cl   \n27       #114                 O=C(O)c1cccc(-c2ccccc2)n1   \n28       #118                 Cc1cc(C)n(C)c(=O)c1C(=O)O   \n29       #120               CN1CCN(c2cccc(C(=O)O)c2)CC1   \n30       #121                    O=C(O)c1cc2ccccc2nc1Cl   \n31       #124                Cc1cc(C(=O)O)c(C(F)(F)F)o1   \n32       #128                        O=C(O)c1c(O)cccc1F   \n33       #129                           O=C(O)C1CC1(F)F   \n34       #131                    O=C(O)c1cccc2[nH]ncc12   \n35       #140                      Cn1nc2ccccc2c1C(=O)O   \n36       #143                       O=C(O)c1cc(Cl)ccc1I   \n37       #145                         O=C(O)Cc1ccc[nH]1   \n38       #153                O=C(O)c1c[nH]c2ccc(Br)cc12   \n39       #157                  Cc1nc2ccccc2c(C(=O)O)c1O   \n40       #160               Cc1nc(-c2ccccc2)c(C(=O)O)s1   \n41       #163                        O=C(O)C(O)c1ccccc1   \n42       #179                        O=C(O)C(F)c1ccccc1   \n43       #185                        O=C(O)C(O)C1CCCCC1   \n44       #197                       O=C(O)C1CC2CC1CCC2O   \n45       #201                            Cn1ccnc1C(=O)O   \n46       #204                      Cn1nc2ccccc2c1C(=O)O   \n47     #206-1  CC(C)(C)OC(=O)N1CCC(c2cccc(C(=O)O)c2)CC1   \n\n                      amine_smi  \\\n0           Nc1ccnc2cc(Br)ccc12   \n1            Cc1cc2[nH]ncc2cc1N   \n4       Cc1c(-c2ccccc2)n[nH]c1N   \n5        Nc1cc(-c2ccccc2)n[nH]1   \n6         Nc1n[nH]c2cc(Br)ccc12   \n7            Cc1cc2[nH]ncc2cc1N   \n8                Cc1cc(N)n[nH]1   \n9         CC(C)(C)c1cc(N)n[nH]1   \n10        Nc1n[nH]c2cc(Br)ccc12   \n11           Cc1cc2[nH]ncc2cc1N   \n12    Nc1nc2cc(Cl)c(Cl)cc2[nH]1   \n13        Nc1cc(-c2cccs2)[nH]n1   \n14                 NCc1ccccc1Cl   \n15           Cc1cc2[nH]ncc2cc1N   \n16        Nc1n[nH]c2cc(Br)ccc12   \n17              Nc1cc2ccccc2cn1   \n18               Cc1cc(N)n[nH]1   \n19         Nc1nc2c(F)cc(F)cc2s1   \n20               Cc1cc(N)[nH]n1   \n21      Cc1c(-c2ccccc2)n[nH]c1N   \n22         Cc1ccc2[nH]c(N)nc2c1   \n23         Cc1ccc2[nH]c(C)nc2c1   \n24    Nc1nc2cc(Cl)c(Cl)cc2[nH]1   \n25    Cc1ccc(-c2cc(N)[nH]n2)cc1   \n26       Nc1cc(-c2ccccc2)n[nH]1   \n27                Nc1ccnc(Cl)c1   \n28                Nc1ccnc(Cl)c1   \n29        Nc1nc2cc(Br)ccc2[nH]1   \n30                Nc1ccnc(Cl)c1   \n31               Cc1cc(N)[nH]n1   \n32          Nc1ccnc2cc(Br)ccc12   \n33    Nc1ccnc2c(C(F)(F)F)cccc12   \n34            Nc1cc(F)c(Br)cc1F   \n35       Nc1cc(-c2ccccc2)n[nH]1   \n36             Cc1cc(C#N)c(N)s1   \n37       Nc1nc2c(Cl)cc(Cl)cc2s1   \n38            Nc1ccc2cn[nH]c2c1   \n39                    Nc1ccncc1   \n40                  Nc1ncccc1Cl   \n41        Nc1nc2cc(Br)ccc2[nH]1   \n42          Cc1cc(=O)[nH]c(N)n1   \n43        Nc1n[nH]c2cc(Br)ccc12   \n44  Nc1nc2cc(C(F)(F)F)ccc2[nH]1   \n45               Cc1cc(N)[nH]n1   \n46             Cc1cc(C#N)c(N)s1   \n47        Nc1n[nH]c2cc(Br)ccc12   \n\n                                          product_smi Unnamed: 4  \\\n0               Cc1c(Cl)cnn1CC(=O)Nc1ccnc2cc(Br)ccc12              \n1                 Cc1cc2[nH]ncc2cc1NC(=O)C(O)c1ccccc1              \n4             Cc1c(-c2ccccc2)n[nH]c1NC(=O)C1(C)CCCCC1              \n5     O=C(Nc1cc(-c2ccccc2)n[nH]1)c1c[nH]c2cccc(Cl)c12              \n6               O=C(Cc1ccccc1Cl)Nc1n[nH]c2cc(Br)ccc12              \n7                 Cc1cc2[nH]ncc2cc1NC(=O)C(O)c1ccccc1              \n8              Cc1cc(NC(=O)[C@H]2CC[C@H](O)CC2)n[nH]1              \n9      CC(C)(C)c1cc(NC(=O)c2c[nH]c3ccc(Br)cc23)n[nH]1              \n10                 O=C(Nc1n[nH]c2cc(Br)ccc12)C1CCOCC1              \n11                 Cc1cc2[nH]ncc2cc1NC(=O)C1(C)CCCCC1              \n12        Cc1c(Cl)cnn1CC(=O)Nc1nc2cc(Cl)c(Cl)cc2[nH]1              \n13            O=C(Nc1cc(-c2cccs2)[nH]n1)C1CC2CC1CCC2O              \n14             O=C(NCc1ccccc1Cl)c1ccc2c(=O)[nH]cnc2c1              \n15               Cc1cc2[nH]ncc2cc1NC(=O)Cn1ncc(Cl)c1C              \n16               O=C(Nc1n[nH]c2cc(Br)ccc12)c1ccccc1Cl              \n17                  Cc1c(Br)cnn1CC(=O)Nc1cc2ccccc2cn1              \n18             Cc1cc(NC(=O)c2c(C)cc(C)n(C)c2=O)n[nH]1              \n19           O=C(Nc1nc2c(F)cc(F)cc2s1)c1cc2occc2[nH]1              \n20     Cc1cc(NC(=O)c2ccc(-c3ccc4[nH]ccc4c3)cc2)[nH]n1              \n21         Cc1c(-c2ccccc2)n[nH]c1NC(=O)c1cccc2c1ccn2C              \n22           Cc1ccc2[nH]c(NC(=O)Cc3c(Cl)cccc3Cl)nc2c1              \n23      Cc1ccc2c(c1)nc(C)n2C(=O)c1ccc2c(=O)[nH]cnc2c1              \n24  CN1CCN(c2cccc(C(=O)Nc3nc4cc(Cl)c(Cl)cc4[nH]3)c...              \n25  Cc1ccc(-c2cc(NC(=O)c3c(C)[nH]c4ccccc34)[nH]n2)cc1              \n26              O=C(Nc1cc(-c2ccccc2)n[nH]1)c1ccccc1Cl              \n27              O=C(Nc1ccnc(Cl)c1)c1cccc(-c2ccccc2)n1              \n28              Cc1cc(C)n(C)c(=O)c1C(=O)Nc1ccnc(Cl)c1              \n29    CN1CCN(c2cccc(C(=O)Nc3nc4cc(Br)ccc4[nH]3)c2)CC1              \n30                 O=C(Nc1ccnc(Cl)c1)c1cc2ccccc2nc1Cl              \n31              Cc1cc(NC(=O)c2cc(C)oc2C(F)(F)F)n[nH]1              \n32               O=C(Nc1ccnc2cc(Br)ccc12)c1c(O)cccc1F              \n33            O=C(Nc1ccnc2c(C(F)(F)F)cccc12)C1CC1(F)F              \n34             O=C(Nc1cc(F)c(Br)cc1F)c1cccc2[nH]ncc12              \n35          Cn1nc2ccccc2c1C(=O)Nc1cc(-c2ccccc2)n[nH]1              \n36                 Cc1cc(C#N)c(NC(=O)c2cc(Cl)ccc2I)s1              \n37             O=C(Cc1ccc[nH]1)Nc1nc2c(Cl)cc(Cl)cc2s1              \n38         O=C(Nc1ccc2cn[nH]c2c1)c1c[nH]c2ccc(Br)cc12              \n39                   Cc1nc2ccccc2c(C(=O)Nc2ccncc2)c1O              \n40              Cc1nc(-c2ccccc2)c(C(=O)Nc2ncccc2Cl)s1              \n41             O=C(Nc1nc2cc(Br)ccc2[nH]1)C(O)c1ccccc1              \n42               Cc1cc(=O)[nH]c(NC(=O)C(F)c2ccccc2)n1              \n43             O=C(Nc1n[nH]c2cc(Br)ccc12)C(O)C1CCCCC1              \n44      O=C(Nc1nc2cc(C(F)(F)F)ccc2[nH]1)C1CC2CC1CCC2O              \n45                        Cc1cc(NC(=O)c2nccn2C)n[nH]1              \n46                Cc1cc(C#N)c(NC(=O)c2c3ccccc3nn2C)s1              \n47  CC(C)(C)OC(=O)N1CCC(c2cccc(C(=O)Nc3n[nH]c4cc(B...              \n\n                                              rxn_smi  \\\n0   [NH2:1][c:2]1[c:12]2[c:6]([cH:7][c:8]([cH:10][...   \n1   [CH3:1][c:2]1[c:10]([NH2:11])[cH:9][c:8]2[c:4]...   \n4   [CH3:1][c:2]1[c:12]([NH2:13])[nH:11][n:10][c:3...   \n5   [NH2:1][c:2]1[nH:12][n:11][c:4](-[c:5]2[cH:10]...   \n6   [NH2:1][c:2]1[c:11]2[c:5]([cH:6][c:7]([cH:9][c...   \n7   [CH3:1][c:2]1[c:10]([NH2:11])[cH:9][c:8]2[c:4]...   \n8   [CH3:1][c:2]1[nH:7][n:6][c:4]([NH2:5])[cH:3]1....   \n9   [CH3:1][C:2]([c:5]1[nH:10][n:9][c:7]([NH2:8])[...   \n10  [NH2:1][c:2]1[c:11]2[c:5]([cH:6][c:7]([cH:9][c...   \n11  [CH3:1][c:2]1[c:10]([NH2:11])[cH:9][c:8]2[c:4]...   \n12  [NH2:1][c:2]1[nH:12][c:11]2[c:4]([cH:5][c:6]([...   \n13  [NH2:1][c:2]1[n:11][nH:10][c:4](-[c:5]2[s:9][c...   \n14  [NH2:1][CH2:2][c:3]1[c:8]([Cl:9])[cH:7][cH:6][...   \n15  [CH3:1][c:2]1[c:10]([NH2:11])[cH:9][c:8]2[c:4]...   \n16  [NH2:1][c:2]1[c:11]2[c:5]([cH:6][c:7]([cH:9][c...   \n17  [NH2:1][c:2]1[n:11][cH:10][c:9]2[c:4]([cH:5][c...   \n18  [CH3:1][c:2]1[nH:7][n:6][c:4]([NH2:5])[cH:3]1....   \n19  [NH2:1][c:2]1[s:12][c:11]2[c:4]([c:5]([cH:7][c...   \n20  [CH3:1][c:2]1[n:7][nH:6][c:4]([NH2:5])[cH:3]1....   \n21  [CH3:1][c:2]1[c:12]([NH2:13])[nH:11][n:10][c:3...   \n22  [CH3:1][c:2]1[cH:11][c:10]2[c:5]([nH:6][c:7]([...   \n23  [CH3:1][c:2]1[cH:11][c:10]2[c:5]([nH:6][c:7]([...   \n24  [NH2:1][c:2]1[nH:12][c:11]2[c:4]([cH:5][c:6]([...   \n25  [CH3:1][c:2]1[cH:13][cH:12][c:5](-[c:6]2[n:11]...   \n26  [NH2:1][c:2]1[nH:12][n:11][c:4](-[c:5]2[cH:10]...   \n27  [NH2:1][c:2]1[cH:8][c:6]([Cl:7])[n:5][cH:4][cH...   \n28  [NH2:1][c:2]1[cH:8][c:6]([Cl:7])[n:5][cH:4][cH...   \n29  [NH2:1][c:2]1[nH:11][c:10]2[c:4]([cH:5][c:6]([...   \n30  [NH2:1][c:2]1[cH:8][c:6]([Cl:7])[n:5][cH:4][cH...   \n31  [CH3:1][c:2]1[n:7][nH:6][c:4]([NH2:5])[cH:3]1....   \n32  [NH2:1][c:2]1[c:12]2[c:6]([cH:7][c:8]([cH:10][...   \n33  [NH2:1][c:2]1[c:15]2[c:6]([c:7]([cH:12][cH:13]...   \n34  [NH2:1][c:2]1[c:9]([F:10])[cH:8][c:6]([Br:7])[...   \n35  [NH2:1][c:2]1[nH:12][n:11][c:4](-[c:5]2[cH:10]...   \n36  [CH3:1][c:2]1[s:9][c:7]([NH2:8])[c:4]([C:5]#[N...   \n37  [NH2:1][c:2]1[s:12][c:11]2[c:4]([c:5]([cH:7][c...   \n38  [NH2:1][c:2]1[cH:10][c:9]2[c:5]([cH:6][n:7][nH...   \n39  [NH2:1][c:2]1[cH:7][cH:6][n:5][cH:4][cH:3]1.[C...   \n40  [NH2:1][c:2]1[c:7]([Cl:8])[cH:6][cH:5][cH:4][n...   \n41  [NH2:1][c:2]1[nH:11][c:10]2[c:4]([cH:5][c:6]([...   \n42  [CH3:1][c:2]1[n:9][c:7]([NH2:8])[nH:6][c:4](=[...   \n43  [NH2:1][c:2]1[c:11]2[c:5]([cH:6][c:7]([cH:9][c...   \n44  [NH2:1][c:2]1[nH:14][c:13]2[c:4]([cH:5][c:6]([...   \n45  [CH3:1][c:2]1[n:7][nH:6][c:4]([NH2:5])[cH:3]1....   \n46  [CH3:1][c:2]1[s:9][c:7]([NH2:8])[c:4]([C:5]#[N...   \n47  [NH2:1][c:2]1[c:11]2[c:5]([cH:6][c:7]([cH:9][c...   \n\n                                             amine_fp  \\\n0   [1, 1, 0, 0, 0, 0, 0, 0, 0, 0, 1, 0, 0, 0, 0, ...   \n1   [1, 1, 0, 0, 0, 0, 0, 0, 0, 0, 1, 0, 0, 0, 0, ...   \n4   [1, 1, 0, 0, 0, 0, 0, 0, 0, 1, 0, 0, 0, 0, 0, ...   \n5   [1, 1, 0, 0, 0, 0, 0, 0, 0, 0, 1, 0, 0, 0, 0, ...   \n6   [1, 1, 0, 0, 0, 0, 0, 0, 0, 1, 0, 0, 0, 0, 0, ...   \n7   [1, 1, 0, 0, 0, 0, 0, 0, 0, 1, 0, 0, 0, 0, 0, ...   \n8   [1, 1, 0, 0, 0, 0, 0, 0, 0, 1, 0, 0, 0, 0, 0, ...   \n9   [1, 1, 0, 0, 0, 0, 0, 0, 0, 0, 1, 0, 0, 0, 0, ...   \n10  [1, 1, 0, 0, 0, 0, 0, 0, 0, 1, 0, 0, 0, 0, 0, ...   \n11  [1, 1, 0, 0, 0, 0, 0, 0, 0, 1, 0, 0, 0, 0, 0, ...   \n12  [1, 0, 1, 0, 0, 0, 0, 0, 0, 0, 0, 0, 0, 0, 0, ...   \n13  [1, 1, 0, 0, 0, 0, 0, 0, 0, 0, 1, 0, 0, 0, 0, ...   \n14  [1, 1, 0, 0, 0, 0, 0, 0, 0, 1, 0, 0, 0, 0, 0, ...   \n15  [1, 1, 0, 0, 0, 0, 0, 0, 0, 0, 1, 0, 0, 0, 0, ...   \n16  [1, 1, 0, 0, 0, 0, 0, 0, 0, 1, 0, 0, 0, 0, 0, ...   \n17  [1, 1, 0, 0, 0, 0, 0, 0, 0, 1, 0, 0, 0, 0, 0, ...   \n18  [1, 1, 0, 0, 0, 0, 0, 0, 0, 1, 0, 0, 0, 0, 0, ...   \n19  [1, 1, 0, 0, 0, 0, 0, 0, 0, 1, 0, 0, 0, 0, 0, ...   \n20  [1, 1, 0, 0, 0, 0, 0, 0, 0, 1, 0, 0, 0, 0, 0, ...   \n21  [0, 0, 0, 0, 0, 0, 0, 0, 0, 0, 0, 0, 0, 0, 0, ...   \n22  [1, 1, 0, 0, 0, 0, 0, 0, 0, 1, 0, 0, 0, 0, 0, ...   \n23  [1, 1, 0, 0, 0, 0, 0, 0, 0, 1, 0, 0, 0, 0, 0, ...   \n24  [1, 1, 0, 0, 0, 0, 0, 0, 0, 1, 0, 0, 0, 0, 0, ...   \n25  [1, 1, 0, 0, 0, 0, 0, 0, 0, 0, 1, 0, 0, 0, 0, ...   \n26  [1, 1, 0, 0, 0, 0, 0, 0, 0, 0, 1, 0, 0, 0, 0, ...   \n27  [1, 1, 0, 0, 0, 0, 0, 0, 0, 1, 0, 0, 0, 0, 0, ...   \n28  [1, 1, 0, 0, 0, 0, 0, 0, 0, 0, 1, 0, 0, 0, 0, ...   \n29  [1, 1, 0, 0, 0, 0, 0, 0, 0, 1, 0, 0, 0, 0, 0, ...   \n30  [1, 1, 0, 0, 0, 0, 0, 0, 0, 0, 1, 0, 0, 0, 0, ...   \n31  [1, 1, 0, 0, 0, 0, 0, 0, 0, 0, 1, 0, 0, 0, 0, ...   \n32  [1, 1, 0, 0, 0, 0, 0, 0, 0, 0, 1, 0, 0, 0, 0, ...   \n33  [1, 1, 0, 0, 0, 0, 0, 0, 0, 1, 0, 0, 0, 0, 0, ...   \n34  [1, 1, 0, 0, 0, 0, 0, 0, 0, 1, 0, 0, 0, 0, 0, ...   \n35  [1, 1, 0, 0, 0, 0, 0, 0, 0, 1, 0, 0, 0, 0, 0, ...   \n36  [1, 1, 0, 0, 0, 0, 0, 0, 0, 0, 1, 0, 0, 0, 0, ...   \n37  [1, 1, 0, 0, 0, 0, 0, 0, 0, 0, 1, 0, 0, 0, 0, ...   \n38  [1, 1, 0, 0, 0, 0, 0, 0, 0, 0, 1, 0, 0, 0, 0, ...   \n39  [1, 1, 0, 0, 0, 0, 0, 0, 0, 1, 0, 0, 0, 0, 0, ...   \n40  [1, 1, 0, 0, 0, 0, 0, 0, 0, 0, 1, 0, 0, 0, 0, ...   \n41  [1, 1, 0, 0, 0, 0, 0, 0, 0, 1, 0, 0, 0, 0, 0, ...   \n42  [1, 1, 0, 0, 0, 0, 0, 0, 0, 1, 0, 0, 0, 0, 0, ...   \n43  [1, 1, 0, 0, 0, 0, 0, 0, 0, 1, 0, 0, 0, 0, 0, ...   \n44  [1, 1, 0, 0, 0, 0, 0, 0, 0, 1, 0, 0, 0, 0, 0, ...   \n45  [1, 1, 0, 0, 0, 0, 0, 0, 0, 1, 0, 0, 0, 0, 0, ...   \n46                                                NaN   \n47                                                NaN   \n\n                                              acid_fp  \n0   [0, 0, 0, 0, 0, 0, 0, 0, 0, 0, 0, 0, 0, 0, 0, ...  \n1   [0, 0, 0, 0, 0, 0, 0, 0, 0, 0, 0, 0, 0, 0, 0, ...  \n4   [0, 0, 0, 0, 0, 0, 0, 0, 0, 0, 0, 0, 0, 0, 0, ...  \n5   [0, 0, 0, 0, 0, 0, 0, 0, 0, 0, 0, 0, 0, 0, 0, ...  \n6   [0, 0, 0, 0, 0, 0, 0, 0, 0, 0, 0, 0, 0, 0, 0, ...  \n7   [0, 0, 0, 0, 0, 0, 0, 0, 0, 0, 0, 0, 0, 0, 0, ...  \n8   [0, 0, 0, 0, 0, 0, 0, 0, 0, 0, 0, 0, 0, 0, 0, ...  \n9   [0, 0, 0, 0, 0, 0, 0, 0, 0, 0, 0, 0, 0, 0, 0, ...  \n10  [0, 0, 0, 0, 0, 0, 0, 0, 0, 0, 0, 0, 0, 0, 0, ...  \n11  [0, 0, 0, 0, 0, 0, 0, 0, 0, 0, 0, 0, 0, 0, 0, ...  \n12  [0, 0, 0, 0, 0, 0, 0, 0, 0, 0, 0, 0, 0, 0, 0, ...  \n13  [0, 0, 0, 0, 0, 0, 0, 0, 0, 0, 0, 0, 0, 0, 0, ...  \n14  [0, 0, 0, 0, 0, 0, 0, 0, 0, 0, 0, 0, 0, 0, 0, ...  \n15  [0, 0, 0, 0, 0, 0, 0, 0, 0, 0, 0, 0, 0, 0, 0, ...  \n16  [0, 0, 0, 0, 0, 0, 0, 0, 0, 0, 0, 0, 0, 0, 0, ...  \n17  [0, 0, 0, 0, 0, 0, 0, 0, 0, 0, 0, 0, 0, 0, 0, ...  \n18  [0, 0, 0, 0, 0, 0, 0, 0, 0, 0, 0, 0, 0, 0, 0, ...  \n19  [0, 0, 0, 0, 0, 0, 0, 0, 0, 0, 0, 0, 0, 0, 0, ...  \n20  [0, 0, 0, 0, 0, 0, 0, 0, 0, 0, 0, 0, 0, 0, 0, ...  \n21  [0, 0, 0, 0, 0, 0, 0, 0, 0, 0, 0, 0, 0, 0, 0, ...  \n22  [0, 0, 0, 0, 0, 0, 0, 0, 0, 0, 0, 0, 0, 0, 0, ...  \n23  [0, 0, 0, 0, 0, 0, 0, 0, 0, 0, 0, 0, 0, 0, 0, ...  \n24  [0, 0, 0, 0, 0, 0, 0, 0, 0, 0, 0, 0, 0, 0, 0, ...  \n25  [0, 0, 0, 0, 0, 0, 0, 0, 0, 0, 0, 0, 0, 0, 0, ...  \n26  [0, 0, 0, 0, 0, 0, 0, 0, 0, 0, 0, 0, 0, 0, 0, ...  \n27  [0, 0, 0, 0, 0, 0, 0, 0, 0, 0, 0, 0, 0, 0, 0, ...  \n28  [0, 0, 0, 0, 0, 0, 0, 0, 0, 0, 0, 0, 0, 0, 0, ...  \n29  [0, 0, 0, 0, 0, 0, 0, 0, 0, 0, 0, 0, 0, 0, 0, ...  \n30  [0, 0, 0, 0, 0, 0, 0, 0, 0, 0, 0, 0, 0, 0, 0, ...  \n31  [0, 0, 0, 0, 0, 0, 0, 0, 0, 0, 0, 0, 0, 0, 0, ...  \n32  [0, 0, 0, 0, 0, 0, 0, 0, 0, 0, 0, 0, 0, 0, 0, ...  \n33  [0, 0, 0, 0, 0, 0, 0, 0, 0, 0, 0, 0, 0, 0, 0, ...  \n34  [0, 0, 0, 0, 0, 0, 0, 0, 0, 0, 0, 0, 0, 0, 0, ...  \n35  [0, 0, 0, 0, 0, 0, 0, 0, 0, 0, 0, 0, 0, 0, 0, ...  \n36  [0, 0, 0, 0, 0, 0, 0, 0, 0, 0, 0, 0, 0, 0, 0, ...  \n37  [0, 0, 0, 0, 0, 0, 0, 0, 0, 0, 0, 0, 0, 0, 0, ...  \n38  [0, 0, 0, 0, 0, 0, 0, 0, 0, 0, 0, 0, 0, 0, 0, ...  \n39  [0, 0, 0, 0, 0, 0, 0, 0, 0, 0, 0, 0, 0, 0, 0, ...  \n40  [0, 0, 0, 0, 0, 0, 0, 0, 0, 0, 0, 0, 0, 0, 0, ...  \n41  [0, 0, 0, 0, 0, 0, 0, 0, 0, 0, 0, 0, 0, 0, 0, ...  \n42  [0, 0, 0, 0, 0, 0, 0, 0, 0, 0, 0, 0, 0, 0, 0, ...  \n43  [0, 0, 0, 0, 0, 0, 0, 0, 0, 0, 0, 0, 0, 0, 0, ...  \n44  [0, 0, 0, 0, 0, 0, 0, 0, 0, 0, 0, 0, 0, 0, 0, ...  \n45  [0, 0, 0, 0, 0, 0, 0, 0, 0, 0, 0, 0, 0, 0, 0, ...  \n46                                                NaN  \n47                                                NaN  ",
      "text/html": "<div>\n<style scoped>\n    .dataframe tbody tr th:only-of-type {\n        vertical-align: middle;\n    }\n\n    .dataframe tbody tr th {\n        vertical-align: top;\n    }\n\n    .dataframe thead th {\n        text-align: right;\n    }\n</style>\n<table border=\"1\" class=\"dataframe\">\n  <thead>\n    <tr style=\"text-align: right;\">\n      <th></th>\n      <th>Reaction</th>\n      <th>acid_smi</th>\n      <th>amine_smi</th>\n      <th>product_smi</th>\n      <th>Unnamed: 4</th>\n      <th>rxn_smi</th>\n      <th>amine_fp</th>\n      <th>acid_fp</th>\n    </tr>\n  </thead>\n  <tbody>\n    <tr>\n      <th>0</th>\n      <td>#17</td>\n      <td>Cc1c(Cl)cnn1CC(=O)O</td>\n      <td>Nc1ccnc2cc(Br)ccc12</td>\n      <td>Cc1c(Cl)cnn1CC(=O)Nc1ccnc2cc(Br)ccc12</td>\n      <td></td>\n      <td>[NH2:1][c:2]1[c:12]2[c:6]([cH:7][c:8]([cH:10][...</td>\n      <td>[1, 1, 0, 0, 0, 0, 0, 0, 0, 0, 1, 0, 0, 0, 0, ...</td>\n      <td>[0, 0, 0, 0, 0, 0, 0, 0, 0, 0, 0, 0, 0, 0, 0, ...</td>\n    </tr>\n    <tr>\n      <th>1</th>\n      <td>#18</td>\n      <td>O=C(O)C(O)c1ccccc1</td>\n      <td>Cc1cc2[nH]ncc2cc1N</td>\n      <td>Cc1cc2[nH]ncc2cc1NC(=O)C(O)c1ccccc1</td>\n      <td></td>\n      <td>[CH3:1][c:2]1[c:10]([NH2:11])[cH:9][c:8]2[c:4]...</td>\n      <td>[1, 1, 0, 0, 0, 0, 0, 0, 0, 0, 1, 0, 0, 0, 0, ...</td>\n      <td>[0, 0, 0, 0, 0, 0, 0, 0, 0, 0, 0, 0, 0, 0, 0, ...</td>\n    </tr>\n    <tr>\n      <th>4</th>\n      <td>#23</td>\n      <td>CC1(C(=O)O)CCCCC1</td>\n      <td>Cc1c(-c2ccccc2)n[nH]c1N</td>\n      <td>Cc1c(-c2ccccc2)n[nH]c1NC(=O)C1(C)CCCCC1</td>\n      <td></td>\n      <td>[CH3:1][c:2]1[c:12]([NH2:13])[nH:11][n:10][c:3...</td>\n      <td>[1, 1, 0, 0, 0, 0, 0, 0, 0, 1, 0, 0, 0, 0, 0, ...</td>\n      <td>[0, 0, 0, 0, 0, 0, 0, 0, 0, 0, 0, 0, 0, 0, 0, ...</td>\n    </tr>\n    <tr>\n      <th>5</th>\n      <td>#25</td>\n      <td>O=C(O)c1c[nH]c2cccc(Cl)c12</td>\n      <td>Nc1cc(-c2ccccc2)n[nH]1</td>\n      <td>O=C(Nc1cc(-c2ccccc2)n[nH]1)c1c[nH]c2cccc(Cl)c12</td>\n      <td></td>\n      <td>[NH2:1][c:2]1[nH:12][n:11][c:4](-[c:5]2[cH:10]...</td>\n      <td>[1, 1, 0, 0, 0, 0, 0, 0, 0, 0, 1, 0, 0, 0, 0, ...</td>\n      <td>[0, 0, 0, 0, 0, 0, 0, 0, 0, 0, 0, 0, 0, 0, 0, ...</td>\n    </tr>\n    <tr>\n      <th>6</th>\n      <td>#26</td>\n      <td>O=C(O)Cc1ccccc1Cl</td>\n      <td>Nc1n[nH]c2cc(Br)ccc12</td>\n      <td>O=C(Cc1ccccc1Cl)Nc1n[nH]c2cc(Br)ccc12</td>\n      <td></td>\n      <td>[NH2:1][c:2]1[c:11]2[c:5]([cH:6][c:7]([cH:9][c...</td>\n      <td>[1, 1, 0, 0, 0, 0, 0, 0, 0, 1, 0, 0, 0, 0, 0, ...</td>\n      <td>[0, 0, 0, 0, 0, 0, 0, 0, 0, 0, 0, 0, 0, 0, 0, ...</td>\n    </tr>\n    <tr>\n      <th>7</th>\n      <td>#34</td>\n      <td>O=C(O)C(O)c1ccccc1</td>\n      <td>Cc1cc2[nH]ncc2cc1N</td>\n      <td>Cc1cc2[nH]ncc2cc1NC(=O)C(O)c1ccccc1</td>\n      <td></td>\n      <td>[CH3:1][c:2]1[c:10]([NH2:11])[cH:9][c:8]2[c:4]...</td>\n      <td>[1, 1, 0, 0, 0, 0, 0, 0, 0, 1, 0, 0, 0, 0, 0, ...</td>\n      <td>[0, 0, 0, 0, 0, 0, 0, 0, 0, 0, 0, 0, 0, 0, 0, ...</td>\n    </tr>\n    <tr>\n      <th>8</th>\n      <td>Trans-#35</td>\n      <td>O=C(O)[C@H]1CC[C@H](O)CC1</td>\n      <td>Cc1cc(N)n[nH]1</td>\n      <td>Cc1cc(NC(=O)[C@H]2CC[C@H](O)CC2)n[nH]1</td>\n      <td></td>\n      <td>[CH3:1][c:2]1[nH:7][n:6][c:4]([NH2:5])[cH:3]1....</td>\n      <td>[1, 1, 0, 0, 0, 0, 0, 0, 0, 1, 0, 0, 0, 0, 0, ...</td>\n      <td>[0, 0, 0, 0, 0, 0, 0, 0, 0, 0, 0, 0, 0, 0, 0, ...</td>\n    </tr>\n    <tr>\n      <th>9</th>\n      <td>#40</td>\n      <td>O=C(O)c1c[nH]c2ccc(Br)cc12</td>\n      <td>CC(C)(C)c1cc(N)n[nH]1</td>\n      <td>CC(C)(C)c1cc(NC(=O)c2c[nH]c3ccc(Br)cc23)n[nH]1</td>\n      <td></td>\n      <td>[CH3:1][C:2]([c:5]1[nH:10][n:9][c:7]([NH2:8])[...</td>\n      <td>[1, 1, 0, 0, 0, 0, 0, 0, 0, 0, 1, 0, 0, 0, 0, ...</td>\n      <td>[0, 0, 0, 0, 0, 0, 0, 0, 0, 0, 0, 0, 0, 0, 0, ...</td>\n    </tr>\n    <tr>\n      <th>10</th>\n      <td>#50</td>\n      <td>O=C(O)C1CCOCC1</td>\n      <td>Nc1n[nH]c2cc(Br)ccc12</td>\n      <td>O=C(Nc1n[nH]c2cc(Br)ccc12)C1CCOCC1</td>\n      <td></td>\n      <td>[NH2:1][c:2]1[c:11]2[c:5]([cH:6][c:7]([cH:9][c...</td>\n      <td>[1, 1, 0, 0, 0, 0, 0, 0, 0, 1, 0, 0, 0, 0, 0, ...</td>\n      <td>[0, 0, 0, 0, 0, 0, 0, 0, 0, 0, 0, 0, 0, 0, 0, ...</td>\n    </tr>\n    <tr>\n      <th>11</th>\n      <td>#52</td>\n      <td>CC1(C(=O)O)CCCCC1</td>\n      <td>Cc1cc2[nH]ncc2cc1N</td>\n      <td>Cc1cc2[nH]ncc2cc1NC(=O)C1(C)CCCCC1</td>\n      <td></td>\n      <td>[CH3:1][c:2]1[c:10]([NH2:11])[cH:9][c:8]2[c:4]...</td>\n      <td>[1, 1, 0, 0, 0, 0, 0, 0, 0, 1, 0, 0, 0, 0, 0, ...</td>\n      <td>[0, 0, 0, 0, 0, 0, 0, 0, 0, 0, 0, 0, 0, 0, 0, ...</td>\n    </tr>\n    <tr>\n      <th>12</th>\n      <td>#62</td>\n      <td>Cc1c(Cl)cnn1CC(=O)O</td>\n      <td>Nc1nc2cc(Cl)c(Cl)cc2[nH]1</td>\n      <td>Cc1c(Cl)cnn1CC(=O)Nc1nc2cc(Cl)c(Cl)cc2[nH]1</td>\n      <td></td>\n      <td>[NH2:1][c:2]1[nH:12][c:11]2[c:4]([cH:5][c:6]([...</td>\n      <td>[1, 0, 1, 0, 0, 0, 0, 0, 0, 0, 0, 0, 0, 0, 0, ...</td>\n      <td>[0, 0, 0, 0, 0, 0, 0, 0, 0, 0, 0, 0, 0, 0, 0, ...</td>\n    </tr>\n    <tr>\n      <th>13</th>\n      <td>#63</td>\n      <td>O=C(O)C1CC2CC1CCC2O</td>\n      <td>Nc1cc(-c2cccs2)[nH]n1</td>\n      <td>O=C(Nc1cc(-c2cccs2)[nH]n1)C1CC2CC1CCC2O</td>\n      <td></td>\n      <td>[NH2:1][c:2]1[n:11][nH:10][c:4](-[c:5]2[s:9][c...</td>\n      <td>[1, 1, 0, 0, 0, 0, 0, 0, 0, 0, 1, 0, 0, 0, 0, ...</td>\n      <td>[0, 0, 0, 0, 0, 0, 0, 0, 0, 0, 0, 0, 0, 0, 0, ...</td>\n    </tr>\n    <tr>\n      <th>14</th>\n      <td>#68</td>\n      <td>O=C(O)c1ccc2c(=O)[nH]cnc2c1</td>\n      <td>NCc1ccccc1Cl</td>\n      <td>O=C(NCc1ccccc1Cl)c1ccc2c(=O)[nH]cnc2c1</td>\n      <td></td>\n      <td>[NH2:1][CH2:2][c:3]1[c:8]([Cl:9])[cH:7][cH:6][...</td>\n      <td>[1, 1, 0, 0, 0, 0, 0, 0, 0, 1, 0, 0, 0, 0, 0, ...</td>\n      <td>[0, 0, 0, 0, 0, 0, 0, 0, 0, 0, 0, 0, 0, 0, 0, ...</td>\n    </tr>\n    <tr>\n      <th>15</th>\n      <td>#70</td>\n      <td>Cc1c(Cl)cnn1CC(=O)O</td>\n      <td>Cc1cc2[nH]ncc2cc1N</td>\n      <td>Cc1cc2[nH]ncc2cc1NC(=O)Cn1ncc(Cl)c1C</td>\n      <td></td>\n      <td>[CH3:1][c:2]1[c:10]([NH2:11])[cH:9][c:8]2[c:4]...</td>\n      <td>[1, 1, 0, 0, 0, 0, 0, 0, 0, 0, 1, 0, 0, 0, 0, ...</td>\n      <td>[0, 0, 0, 0, 0, 0, 0, 0, 0, 0, 0, 0, 0, 0, 0, ...</td>\n    </tr>\n    <tr>\n      <th>16</th>\n      <td>#72</td>\n      <td>O=C(O)c1ccccc1Cl</td>\n      <td>Nc1n[nH]c2cc(Br)ccc12</td>\n      <td>O=C(Nc1n[nH]c2cc(Br)ccc12)c1ccccc1Cl</td>\n      <td></td>\n      <td>[NH2:1][c:2]1[c:11]2[c:5]([cH:6][c:7]([cH:9][c...</td>\n      <td>[1, 1, 0, 0, 0, 0, 0, 0, 0, 1, 0, 0, 0, 0, 0, ...</td>\n      <td>[0, 0, 0, 0, 0, 0, 0, 0, 0, 0, 0, 0, 0, 0, 0, ...</td>\n    </tr>\n    <tr>\n      <th>17</th>\n      <td>#78</td>\n      <td>Cc1c(Br)cnn1CC(=O)O</td>\n      <td>Nc1cc2ccccc2cn1</td>\n      <td>Cc1c(Br)cnn1CC(=O)Nc1cc2ccccc2cn1</td>\n      <td></td>\n      <td>[NH2:1][c:2]1[n:11][cH:10][c:9]2[c:4]([cH:5][c...</td>\n      <td>[1, 1, 0, 0, 0, 0, 0, 0, 0, 1, 0, 0, 0, 0, 0, ...</td>\n      <td>[0, 0, 0, 0, 0, 0, 0, 0, 0, 0, 0, 0, 0, 0, 0, ...</td>\n    </tr>\n    <tr>\n      <th>18</th>\n      <td>#81</td>\n      <td>Cc1cc(C)n(C)c(=O)c1C(=O)O</td>\n      <td>Cc1cc(N)n[nH]1</td>\n      <td>Cc1cc(NC(=O)c2c(C)cc(C)n(C)c2=O)n[nH]1</td>\n      <td></td>\n      <td>[CH3:1][c:2]1[nH:7][n:6][c:4]([NH2:5])[cH:3]1....</td>\n      <td>[1, 1, 0, 0, 0, 0, 0, 0, 0, 1, 0, 0, 0, 0, 0, ...</td>\n      <td>[0, 0, 0, 0, 0, 0, 0, 0, 0, 0, 0, 0, 0, 0, 0, ...</td>\n    </tr>\n    <tr>\n      <th>19</th>\n      <td>#87</td>\n      <td>O=C(O)c1cc2occc2[nH]1</td>\n      <td>Nc1nc2c(F)cc(F)cc2s1</td>\n      <td>O=C(Nc1nc2c(F)cc(F)cc2s1)c1cc2occc2[nH]1</td>\n      <td></td>\n      <td>[NH2:1][c:2]1[s:12][c:11]2[c:4]([c:5]([cH:7][c...</td>\n      <td>[1, 1, 0, 0, 0, 0, 0, 0, 0, 1, 0, 0, 0, 0, 0, ...</td>\n      <td>[0, 0, 0, 0, 0, 0, 0, 0, 0, 0, 0, 0, 0, 0, 0, ...</td>\n    </tr>\n    <tr>\n      <th>20</th>\n      <td>#90</td>\n      <td>O=C(O)c1ccc(-c2ccc3[nH]ccc3c2)cc1</td>\n      <td>Cc1cc(N)[nH]n1</td>\n      <td>Cc1cc(NC(=O)c2ccc(-c3ccc4[nH]ccc4c3)cc2)[nH]n1</td>\n      <td></td>\n      <td>[CH3:1][c:2]1[n:7][nH:6][c:4]([NH2:5])[cH:3]1....</td>\n      <td>[1, 1, 0, 0, 0, 0, 0, 0, 0, 1, 0, 0, 0, 0, 0, ...</td>\n      <td>[0, 0, 0, 0, 0, 0, 0, 0, 0, 0, 0, 0, 0, 0, 0, ...</td>\n    </tr>\n    <tr>\n      <th>21</th>\n      <td>#98</td>\n      <td>Cn1ccc2c(C(=O)O)cccc21</td>\n      <td>Cc1c(-c2ccccc2)n[nH]c1N</td>\n      <td>Cc1c(-c2ccccc2)n[nH]c1NC(=O)c1cccc2c1ccn2C</td>\n      <td></td>\n      <td>[CH3:1][c:2]1[c:12]([NH2:13])[nH:11][n:10][c:3...</td>\n      <td>[0, 0, 0, 0, 0, 0, 0, 0, 0, 0, 0, 0, 0, 0, 0, ...</td>\n      <td>[0, 0, 0, 0, 0, 0, 0, 0, 0, 0, 0, 0, 0, 0, 0, ...</td>\n    </tr>\n    <tr>\n      <th>22</th>\n      <td>#100</td>\n      <td>O=C(O)Cc1c(Cl)cccc1Cl</td>\n      <td>Cc1ccc2[nH]c(N)nc2c1</td>\n      <td>Cc1ccc2[nH]c(NC(=O)Cc3c(Cl)cccc3Cl)nc2c1</td>\n      <td></td>\n      <td>[CH3:1][c:2]1[cH:11][c:10]2[c:5]([nH:6][c:7]([...</td>\n      <td>[1, 1, 0, 0, 0, 0, 0, 0, 0, 1, 0, 0, 0, 0, 0, ...</td>\n      <td>[0, 0, 0, 0, 0, 0, 0, 0, 0, 0, 0, 0, 0, 0, 0, ...</td>\n    </tr>\n    <tr>\n      <th>23</th>\n      <td>#101</td>\n      <td>O=C(O)c1ccc2c(=O)[nH]cnc2c1</td>\n      <td>Cc1ccc2[nH]c(C)nc2c1</td>\n      <td>Cc1ccc2c(c1)nc(C)n2C(=O)c1ccc2c(=O)[nH]cnc2c1</td>\n      <td></td>\n      <td>[CH3:1][c:2]1[cH:11][c:10]2[c:5]([nH:6][c:7]([...</td>\n      <td>[1, 1, 0, 0, 0, 0, 0, 0, 0, 1, 0, 0, 0, 0, 0, ...</td>\n      <td>[0, 0, 0, 0, 0, 0, 0, 0, 0, 0, 0, 0, 0, 0, 0, ...</td>\n    </tr>\n    <tr>\n      <th>24</th>\n      <td>#109</td>\n      <td>CN1CCN(c2cccc(C(=O)O)c2)CC1</td>\n      <td>Nc1nc2cc(Cl)c(Cl)cc2[nH]1</td>\n      <td>CN1CCN(c2cccc(C(=O)Nc3nc4cc(Cl)c(Cl)cc4[nH]3)c...</td>\n      <td></td>\n      <td>[NH2:1][c:2]1[nH:12][c:11]2[c:4]([cH:5][c:6]([...</td>\n      <td>[1, 1, 0, 0, 0, 0, 0, 0, 0, 1, 0, 0, 0, 0, 0, ...</td>\n      <td>[0, 0, 0, 0, 0, 0, 0, 0, 0, 0, 0, 0, 0, 0, 0, ...</td>\n    </tr>\n    <tr>\n      <th>25</th>\n      <td>#111</td>\n      <td>Cc1[nH]c2ccccc2c1C(=O)O</td>\n      <td>Cc1ccc(-c2cc(N)[nH]n2)cc1</td>\n      <td>Cc1ccc(-c2cc(NC(=O)c3c(C)[nH]c4ccccc34)[nH]n2)cc1</td>\n      <td></td>\n      <td>[CH3:1][c:2]1[cH:13][cH:12][c:5](-[c:6]2[n:11]...</td>\n      <td>[1, 1, 0, 0, 0, 0, 0, 0, 0, 0, 1, 0, 0, 0, 0, ...</td>\n      <td>[0, 0, 0, 0, 0, 0, 0, 0, 0, 0, 0, 0, 0, 0, 0, ...</td>\n    </tr>\n    <tr>\n      <th>26</th>\n      <td>#112</td>\n      <td>O=C(O)c1ccccc1Cl</td>\n      <td>Nc1cc(-c2ccccc2)n[nH]1</td>\n      <td>O=C(Nc1cc(-c2ccccc2)n[nH]1)c1ccccc1Cl</td>\n      <td></td>\n      <td>[NH2:1][c:2]1[nH:12][n:11][c:4](-[c:5]2[cH:10]...</td>\n      <td>[1, 1, 0, 0, 0, 0, 0, 0, 0, 0, 1, 0, 0, 0, 0, ...</td>\n      <td>[0, 0, 0, 0, 0, 0, 0, 0, 0, 0, 0, 0, 0, 0, 0, ...</td>\n    </tr>\n    <tr>\n      <th>27</th>\n      <td>#114</td>\n      <td>O=C(O)c1cccc(-c2ccccc2)n1</td>\n      <td>Nc1ccnc(Cl)c1</td>\n      <td>O=C(Nc1ccnc(Cl)c1)c1cccc(-c2ccccc2)n1</td>\n      <td></td>\n      <td>[NH2:1][c:2]1[cH:8][c:6]([Cl:7])[n:5][cH:4][cH...</td>\n      <td>[1, 1, 0, 0, 0, 0, 0, 0, 0, 1, 0, 0, 0, 0, 0, ...</td>\n      <td>[0, 0, 0, 0, 0, 0, 0, 0, 0, 0, 0, 0, 0, 0, 0, ...</td>\n    </tr>\n    <tr>\n      <th>28</th>\n      <td>#118</td>\n      <td>Cc1cc(C)n(C)c(=O)c1C(=O)O</td>\n      <td>Nc1ccnc(Cl)c1</td>\n      <td>Cc1cc(C)n(C)c(=O)c1C(=O)Nc1ccnc(Cl)c1</td>\n      <td></td>\n      <td>[NH2:1][c:2]1[cH:8][c:6]([Cl:7])[n:5][cH:4][cH...</td>\n      <td>[1, 1, 0, 0, 0, 0, 0, 0, 0, 0, 1, 0, 0, 0, 0, ...</td>\n      <td>[0, 0, 0, 0, 0, 0, 0, 0, 0, 0, 0, 0, 0, 0, 0, ...</td>\n    </tr>\n    <tr>\n      <th>29</th>\n      <td>#120</td>\n      <td>CN1CCN(c2cccc(C(=O)O)c2)CC1</td>\n      <td>Nc1nc2cc(Br)ccc2[nH]1</td>\n      <td>CN1CCN(c2cccc(C(=O)Nc3nc4cc(Br)ccc4[nH]3)c2)CC1</td>\n      <td></td>\n      <td>[NH2:1][c:2]1[nH:11][c:10]2[c:4]([cH:5][c:6]([...</td>\n      <td>[1, 1, 0, 0, 0, 0, 0, 0, 0, 1, 0, 0, 0, 0, 0, ...</td>\n      <td>[0, 0, 0, 0, 0, 0, 0, 0, 0, 0, 0, 0, 0, 0, 0, ...</td>\n    </tr>\n    <tr>\n      <th>30</th>\n      <td>#121</td>\n      <td>O=C(O)c1cc2ccccc2nc1Cl</td>\n      <td>Nc1ccnc(Cl)c1</td>\n      <td>O=C(Nc1ccnc(Cl)c1)c1cc2ccccc2nc1Cl</td>\n      <td></td>\n      <td>[NH2:1][c:2]1[cH:8][c:6]([Cl:7])[n:5][cH:4][cH...</td>\n      <td>[1, 1, 0, 0, 0, 0, 0, 0, 0, 0, 1, 0, 0, 0, 0, ...</td>\n      <td>[0, 0, 0, 0, 0, 0, 0, 0, 0, 0, 0, 0, 0, 0, 0, ...</td>\n    </tr>\n    <tr>\n      <th>31</th>\n      <td>#124</td>\n      <td>Cc1cc(C(=O)O)c(C(F)(F)F)o1</td>\n      <td>Cc1cc(N)[nH]n1</td>\n      <td>Cc1cc(NC(=O)c2cc(C)oc2C(F)(F)F)n[nH]1</td>\n      <td></td>\n      <td>[CH3:1][c:2]1[n:7][nH:6][c:4]([NH2:5])[cH:3]1....</td>\n      <td>[1, 1, 0, 0, 0, 0, 0, 0, 0, 0, 1, 0, 0, 0, 0, ...</td>\n      <td>[0, 0, 0, 0, 0, 0, 0, 0, 0, 0, 0, 0, 0, 0, 0, ...</td>\n    </tr>\n    <tr>\n      <th>32</th>\n      <td>#128</td>\n      <td>O=C(O)c1c(O)cccc1F</td>\n      <td>Nc1ccnc2cc(Br)ccc12</td>\n      <td>O=C(Nc1ccnc2cc(Br)ccc12)c1c(O)cccc1F</td>\n      <td></td>\n      <td>[NH2:1][c:2]1[c:12]2[c:6]([cH:7][c:8]([cH:10][...</td>\n      <td>[1, 1, 0, 0, 0, 0, 0, 0, 0, 0, 1, 0, 0, 0, 0, ...</td>\n      <td>[0, 0, 0, 0, 0, 0, 0, 0, 0, 0, 0, 0, 0, 0, 0, ...</td>\n    </tr>\n    <tr>\n      <th>33</th>\n      <td>#129</td>\n      <td>O=C(O)C1CC1(F)F</td>\n      <td>Nc1ccnc2c(C(F)(F)F)cccc12</td>\n      <td>O=C(Nc1ccnc2c(C(F)(F)F)cccc12)C1CC1(F)F</td>\n      <td></td>\n      <td>[NH2:1][c:2]1[c:15]2[c:6]([c:7]([cH:12][cH:13]...</td>\n      <td>[1, 1, 0, 0, 0, 0, 0, 0, 0, 1, 0, 0, 0, 0, 0, ...</td>\n      <td>[0, 0, 0, 0, 0, 0, 0, 0, 0, 0, 0, 0, 0, 0, 0, ...</td>\n    </tr>\n    <tr>\n      <th>34</th>\n      <td>#131</td>\n      <td>O=C(O)c1cccc2[nH]ncc12</td>\n      <td>Nc1cc(F)c(Br)cc1F</td>\n      <td>O=C(Nc1cc(F)c(Br)cc1F)c1cccc2[nH]ncc12</td>\n      <td></td>\n      <td>[NH2:1][c:2]1[c:9]([F:10])[cH:8][c:6]([Br:7])[...</td>\n      <td>[1, 1, 0, 0, 0, 0, 0, 0, 0, 1, 0, 0, 0, 0, 0, ...</td>\n      <td>[0, 0, 0, 0, 0, 0, 0, 0, 0, 0, 0, 0, 0, 0, 0, ...</td>\n    </tr>\n    <tr>\n      <th>35</th>\n      <td>#140</td>\n      <td>Cn1nc2ccccc2c1C(=O)O</td>\n      <td>Nc1cc(-c2ccccc2)n[nH]1</td>\n      <td>Cn1nc2ccccc2c1C(=O)Nc1cc(-c2ccccc2)n[nH]1</td>\n      <td></td>\n      <td>[NH2:1][c:2]1[nH:12][n:11][c:4](-[c:5]2[cH:10]...</td>\n      <td>[1, 1, 0, 0, 0, 0, 0, 0, 0, 1, 0, 0, 0, 0, 0, ...</td>\n      <td>[0, 0, 0, 0, 0, 0, 0, 0, 0, 0, 0, 0, 0, 0, 0, ...</td>\n    </tr>\n    <tr>\n      <th>36</th>\n      <td>#143</td>\n      <td>O=C(O)c1cc(Cl)ccc1I</td>\n      <td>Cc1cc(C#N)c(N)s1</td>\n      <td>Cc1cc(C#N)c(NC(=O)c2cc(Cl)ccc2I)s1</td>\n      <td></td>\n      <td>[CH3:1][c:2]1[s:9][c:7]([NH2:8])[c:4]([C:5]#[N...</td>\n      <td>[1, 1, 0, 0, 0, 0, 0, 0, 0, 0, 1, 0, 0, 0, 0, ...</td>\n      <td>[0, 0, 0, 0, 0, 0, 0, 0, 0, 0, 0, 0, 0, 0, 0, ...</td>\n    </tr>\n    <tr>\n      <th>37</th>\n      <td>#145</td>\n      <td>O=C(O)Cc1ccc[nH]1</td>\n      <td>Nc1nc2c(Cl)cc(Cl)cc2s1</td>\n      <td>O=C(Cc1ccc[nH]1)Nc1nc2c(Cl)cc(Cl)cc2s1</td>\n      <td></td>\n      <td>[NH2:1][c:2]1[s:12][c:11]2[c:4]([c:5]([cH:7][c...</td>\n      <td>[1, 1, 0, 0, 0, 0, 0, 0, 0, 0, 1, 0, 0, 0, 0, ...</td>\n      <td>[0, 0, 0, 0, 0, 0, 0, 0, 0, 0, 0, 0, 0, 0, 0, ...</td>\n    </tr>\n    <tr>\n      <th>38</th>\n      <td>#153</td>\n      <td>O=C(O)c1c[nH]c2ccc(Br)cc12</td>\n      <td>Nc1ccc2cn[nH]c2c1</td>\n      <td>O=C(Nc1ccc2cn[nH]c2c1)c1c[nH]c2ccc(Br)cc12</td>\n      <td></td>\n      <td>[NH2:1][c:2]1[cH:10][c:9]2[c:5]([cH:6][n:7][nH...</td>\n      <td>[1, 1, 0, 0, 0, 0, 0, 0, 0, 0, 1, 0, 0, 0, 0, ...</td>\n      <td>[0, 0, 0, 0, 0, 0, 0, 0, 0, 0, 0, 0, 0, 0, 0, ...</td>\n    </tr>\n    <tr>\n      <th>39</th>\n      <td>#157</td>\n      <td>Cc1nc2ccccc2c(C(=O)O)c1O</td>\n      <td>Nc1ccncc1</td>\n      <td>Cc1nc2ccccc2c(C(=O)Nc2ccncc2)c1O</td>\n      <td></td>\n      <td>[NH2:1][c:2]1[cH:7][cH:6][n:5][cH:4][cH:3]1.[C...</td>\n      <td>[1, 1, 0, 0, 0, 0, 0, 0, 0, 1, 0, 0, 0, 0, 0, ...</td>\n      <td>[0, 0, 0, 0, 0, 0, 0, 0, 0, 0, 0, 0, 0, 0, 0, ...</td>\n    </tr>\n    <tr>\n      <th>40</th>\n      <td>#160</td>\n      <td>Cc1nc(-c2ccccc2)c(C(=O)O)s1</td>\n      <td>Nc1ncccc1Cl</td>\n      <td>Cc1nc(-c2ccccc2)c(C(=O)Nc2ncccc2Cl)s1</td>\n      <td></td>\n      <td>[NH2:1][c:2]1[c:7]([Cl:8])[cH:6][cH:5][cH:4][n...</td>\n      <td>[1, 1, 0, 0, 0, 0, 0, 0, 0, 0, 1, 0, 0, 0, 0, ...</td>\n      <td>[0, 0, 0, 0, 0, 0, 0, 0, 0, 0, 0, 0, 0, 0, 0, ...</td>\n    </tr>\n    <tr>\n      <th>41</th>\n      <td>#163</td>\n      <td>O=C(O)C(O)c1ccccc1</td>\n      <td>Nc1nc2cc(Br)ccc2[nH]1</td>\n      <td>O=C(Nc1nc2cc(Br)ccc2[nH]1)C(O)c1ccccc1</td>\n      <td></td>\n      <td>[NH2:1][c:2]1[nH:11][c:10]2[c:4]([cH:5][c:6]([...</td>\n      <td>[1, 1, 0, 0, 0, 0, 0, 0, 0, 1, 0, 0, 0, 0, 0, ...</td>\n      <td>[0, 0, 0, 0, 0, 0, 0, 0, 0, 0, 0, 0, 0, 0, 0, ...</td>\n    </tr>\n    <tr>\n      <th>42</th>\n      <td>#179</td>\n      <td>O=C(O)C(F)c1ccccc1</td>\n      <td>Cc1cc(=O)[nH]c(N)n1</td>\n      <td>Cc1cc(=O)[nH]c(NC(=O)C(F)c2ccccc2)n1</td>\n      <td></td>\n      <td>[CH3:1][c:2]1[n:9][c:7]([NH2:8])[nH:6][c:4](=[...</td>\n      <td>[1, 1, 0, 0, 0, 0, 0, 0, 0, 1, 0, 0, 0, 0, 0, ...</td>\n      <td>[0, 0, 0, 0, 0, 0, 0, 0, 0, 0, 0, 0, 0, 0, 0, ...</td>\n    </tr>\n    <tr>\n      <th>43</th>\n      <td>#185</td>\n      <td>O=C(O)C(O)C1CCCCC1</td>\n      <td>Nc1n[nH]c2cc(Br)ccc12</td>\n      <td>O=C(Nc1n[nH]c2cc(Br)ccc12)C(O)C1CCCCC1</td>\n      <td></td>\n      <td>[NH2:1][c:2]1[c:11]2[c:5]([cH:6][c:7]([cH:9][c...</td>\n      <td>[1, 1, 0, 0, 0, 0, 0, 0, 0, 1, 0, 0, 0, 0, 0, ...</td>\n      <td>[0, 0, 0, 0, 0, 0, 0, 0, 0, 0, 0, 0, 0, 0, 0, ...</td>\n    </tr>\n    <tr>\n      <th>44</th>\n      <td>#197</td>\n      <td>O=C(O)C1CC2CC1CCC2O</td>\n      <td>Nc1nc2cc(C(F)(F)F)ccc2[nH]1</td>\n      <td>O=C(Nc1nc2cc(C(F)(F)F)ccc2[nH]1)C1CC2CC1CCC2O</td>\n      <td></td>\n      <td>[NH2:1][c:2]1[nH:14][c:13]2[c:4]([cH:5][c:6]([...</td>\n      <td>[1, 1, 0, 0, 0, 0, 0, 0, 0, 1, 0, 0, 0, 0, 0, ...</td>\n      <td>[0, 0, 0, 0, 0, 0, 0, 0, 0, 0, 0, 0, 0, 0, 0, ...</td>\n    </tr>\n    <tr>\n      <th>45</th>\n      <td>#201</td>\n      <td>Cn1ccnc1C(=O)O</td>\n      <td>Cc1cc(N)[nH]n1</td>\n      <td>Cc1cc(NC(=O)c2nccn2C)n[nH]1</td>\n      <td></td>\n      <td>[CH3:1][c:2]1[n:7][nH:6][c:4]([NH2:5])[cH:3]1....</td>\n      <td>[1, 1, 0, 0, 0, 0, 0, 0, 0, 1, 0, 0, 0, 0, 0, ...</td>\n      <td>[0, 0, 0, 0, 0, 0, 0, 0, 0, 0, 0, 0, 0, 0, 0, ...</td>\n    </tr>\n    <tr>\n      <th>46</th>\n      <td>#204</td>\n      <td>Cn1nc2ccccc2c1C(=O)O</td>\n      <td>Cc1cc(C#N)c(N)s1</td>\n      <td>Cc1cc(C#N)c(NC(=O)c2c3ccccc3nn2C)s1</td>\n      <td></td>\n      <td>[CH3:1][c:2]1[s:9][c:7]([NH2:8])[c:4]([C:5]#[N...</td>\n      <td>NaN</td>\n      <td>NaN</td>\n    </tr>\n    <tr>\n      <th>47</th>\n      <td>#206-1</td>\n      <td>CC(C)(C)OC(=O)N1CCC(c2cccc(C(=O)O)c2)CC1</td>\n      <td>Nc1n[nH]c2cc(Br)ccc12</td>\n      <td>CC(C)(C)OC(=O)N1CCC(c2cccc(C(=O)Nc3n[nH]c4cc(B...</td>\n      <td></td>\n      <td>[NH2:1][c:2]1[c:11]2[c:5]([cH:6][c:7]([cH:9][c...</td>\n      <td>NaN</td>\n      <td>NaN</td>\n    </tr>\n  </tbody>\n</table>\n</div>"
     },
     "execution_count": 10,
     "metadata": {},
     "output_type": "execute_result"
    }
   ],
   "source": [
    "import pandas as pd\n",
    "import numpy as np\n",
    "\n",
    "from linux_qm.src.rxn_fp import RxnFpGenerator\n",
    "\n",
    "fp_gen = RxnFpGenerator()\n",
    "\n",
    "df = pd.read_csv('../data/slv_amides/amide_mapped_training_set.csv')\n",
    "df"
   ]
  },
  {
   "cell_type": "code",
   "execution_count": 12,
   "outputs": [
    {
     "data": {
      "text/plain": "array([0, 0, 0, 0, 1, 1, 0, 0, 0, 1, 0, 0, 0, 1, 1, 0, 0, 1, 0, 1, 0, 0,\n       1, 0, 0, 0, 1, 0, 0, 0, 0, 0, 1, 0, 0, 0, 0, 1, 0, 1, 0, 1, 1, 1,\n       0, 0, 0, 0, 1, 0, 0, 1, 0, 0, 0, 0, 0, 0, 1, 0, 0, 1, 1, 0, 1, 0,\n       0, 0, 1, 0, 0, 0, 1, 0, 1, 0, 0, 1, 0, 1, 1, 1, 0, 0, 0, 0, 1, 0,\n       1, 0, 1, 0, 1, 0, 1, 0, 1, 0, 0, 0, 1, 0, 0, 1, 0, 1, 0, 1, 0, 0,\n       0, 0, 0, 0, 0, 0, 0, 0, 0, 0, 0, 0, 0, 0, 0, 1, 0, 0, 0, 1, 0, 0,\n       1, 1, 0, 0, 0, 1, 1, 0, 0, 1, 1, 0, 0, 1, 0, 1, 0, 0, 1, 0, 0, 0,\n       1, 0, 0, 0, 0, 0, 1, 0, 0, 0, 1, 1, 1, 1, 0, 1, 1, 1, 0, 0, 0, 0,\n       1, 0, 0, 1, 0, 1, 0, 0, 0, 0, 1, 0, 0, 1, 1, 1, 1, 0, 0, 0, 1, 1,\n       0, 0, 1, 1, 1, 0, 0, 1, 0, 1, 1, 1, 0, 1, 0, 1, 1, 0, 1, 0, 1, 0,\n       1, 0, 1, 1, 1, 1, 0, 0, 1, 0, 1, 1, 0, 1, 0, 1, 0, 0, 0, 0, 0, 0,\n       0, 0, 0, 0, 0, 0, 0, 0, 1, 0, 0, 1, 0, 0], dtype=uint8)"
     },
     "execution_count": 12,
     "metadata": {},
     "output_type": "execute_result"
    }
   ],
   "source": [
    "fp_gen = RxnFpGenerator(\n",
    "    ([0,   0,   0],    # full fp for rxn reagents and product\n",
    "     [  0,   0,   0],      # dist 0 layer (only reacting atoms)\n",
    "     [32, 32, 64],    # dist 1 layer\n",
    "     [32, 32, 64],    # dist 2 layer\n",
    "     )\n",
    ")\n",
    "fp_gen.get_rxnfp(df.rxn_smi[0])"
   ],
   "metadata": {
    "collapsed": false,
    "ExecuteTime": {
     "end_time": "2023-12-06T11:52:27.601762Z",
     "start_time": "2023-12-06T11:52:27.581565300Z"
    }
   }
  },
  {
   "cell_type": "code",
   "execution_count": 13,
   "outputs": [],
   "source": [
    "df['rxn_fp_128_2_layers'] = df.rxn_smi.apply(fp_gen.get_rxnfp)"
   ],
   "metadata": {
    "collapsed": false,
    "ExecuteTime": {
     "end_time": "2023-12-06T11:52:27.967251200Z",
     "start_time": "2023-12-06T11:52:27.870569600Z"
    }
   }
  },
  {
   "cell_type": "code",
   "execution_count": 14,
   "outputs": [],
   "source": [
    "fp_gen = RxnFpGenerator(\n",
    "    ([ 0,  0,  0],    # full fp for rxn reagents and product\n",
    "     [ 0,  0,  0],      # dist 0 layer (only reacting atoms)\n",
    "     [32, 32, 64],    # dist 1 layer\n",
    "     [32, 32, 64],    # dist 2 layer\n",
    "     [32, 32, 64],    # dist 3 layer\n",
    "     )\n",
    ")\n",
    "df['rxn_fp_128_3_layers'] = df.rxn_smi.apply(fp_gen.get_rxnfp)"
   ],
   "metadata": {
    "collapsed": false,
    "ExecuteTime": {
     "end_time": "2023-12-06T11:52:28.267780900Z",
     "start_time": "2023-12-06T11:52:28.107913400Z"
    }
   }
  },
  {
   "cell_type": "code",
   "execution_count": 15,
   "outputs": [],
   "source": [
    "fp_gen = RxnFpGenerator(\n",
    "    ([ 0,  0,  0],    # full fp for rxn reagents and product\n",
    "     [ 0,  0,  0],      # dist 0 layer (only reacting atoms)\n",
    "     [16, 16, 32],    # dist 1 layer\n",
    "     [16, 16, 32],    # dist 2 layer\n",
    "     # [32, 32, 64],    # dist 3 layer\n",
    "     )\n",
    ")\n",
    "df['rxn_fp_64_2_layers'] = df.rxn_smi.apply(fp_gen.get_rxnfp)"
   ],
   "metadata": {
    "collapsed": false,
    "ExecuteTime": {
     "end_time": "2023-12-06T11:52:28.457895100Z",
     "start_time": "2023-12-06T11:52:28.342393400Z"
    }
   }
  },
  {
   "cell_type": "code",
   "execution_count": 16,
   "outputs": [],
   "source": [
    "fp_gen = RxnFpGenerator(\n",
    "    ([ 0,  0,  0],    # full fp for rxn reagents and product\n",
    "     [ 0,  0,  0],      # dist 0 layer (only reacting atoms)\n",
    "     [16, 16, 32],    # dist 1 layer\n",
    "     [16, 16, 32],    # dist 2 layer\n",
    "     [16, 16, 32],    # dist 3 layer\n",
    "     )\n",
    ")\n",
    "df['rxn_fp_64_3_layers'] = df.rxn_smi.apply(fp_gen.get_rxnfp)"
   ],
   "metadata": {
    "collapsed": false,
    "ExecuteTime": {
     "end_time": "2023-12-06T11:52:28.719849900Z",
     "start_time": "2023-12-06T11:52:28.577280100Z"
    }
   }
  },
  {
   "cell_type": "code",
   "execution_count": 17,
   "outputs": [],
   "source": [
    "df.to_pickle('../data/slv_amides/amides_train_rxn_fp.pkl')"
   ],
   "metadata": {
    "collapsed": false,
    "ExecuteTime": {
     "end_time": "2023-12-06T11:52:28.778000200Z",
     "start_time": "2023-12-06T11:52:28.767605200Z"
    }
   }
  }
 ],
 "metadata": {
  "kernelspec": {
   "display_name": "Python 3",
   "language": "python",
   "name": "python3"
  },
  "language_info": {
   "codemirror_mode": {
    "name": "ipython",
    "version": 2
   },
   "file_extension": ".py",
   "mimetype": "text/x-python",
   "name": "python",
   "nbconvert_exporter": "python",
   "pygments_lexer": "ipython2",
   "version": "2.7.6"
  }
 },
 "nbformat": 4,
 "nbformat_minor": 0
}
