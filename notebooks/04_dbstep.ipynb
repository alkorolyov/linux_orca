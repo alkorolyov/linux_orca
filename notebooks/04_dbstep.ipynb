{
 "cells": [
  {
   "cell_type": "code",
   "execution_count": 1,
   "metadata": {
    "collapsed": true,
    "ExecuteTime": {
     "end_time": "2023-11-28T08:11:24.162669400Z",
     "start_time": "2023-11-28T08:11:24.109755500Z"
    }
   },
   "outputs": [],
   "source": [
    "%load_ext autoreload\n",
    "%autoreload 2"
   ]
  },
  {
   "cell_type": "code",
   "execution_count": 8,
   "outputs": [],
   "source": [
    "import rdkit.Chem as Chem\n",
    "from rdkit.Chem import AllChem\n",
    "import dbstep.Dbstep as db\n",
    "\n",
    "import pandas as pd\n",
    "import numpy as np\n",
    "\n",
    "from linux_qm.src.util import load_smiles3D, draw3Dconfs"
   ],
   "metadata": {
    "collapsed": false,
    "ExecuteTime": {
     "end_time": "2023-11-28T08:14:27.611725300Z",
     "start_time": "2023-11-28T08:14:27.599157500Z"
    }
   }
  },
  {
   "cell_type": "code",
   "execution_count": 4,
   "outputs": [
    {
     "name": "stdout",
     "output_type": "stream",
     "text": [
      "<class 'pandas.core.frame.DataFrame'>\n",
      "Index: 167 entries, 0 to 122\n",
      "Data columns (total 6 columns):\n",
      " #   Column           Non-Null Count  Dtype  \n",
      "---  ------           --------------  -----  \n",
      " 0   Reaction number  167 non-null    object \n",
      " 1   yield            167 non-null    float64\n",
      " 2   amine_smiles     167 non-null    object \n",
      " 3   acid_smiles      167 non-null    object \n",
      " 4   activator        44 non-null     object \n",
      " 5   conditions       123 non-null    float64\n",
      "dtypes: float64(2), object(4)\n",
      "memory usage: 9.1+ KB\n"
     ]
    }
   ],
   "source": [
    "df = pd.read_csv('../data/slv_amides/kasia_amide.csv')\n",
    "df_ = pd.read_csv('../data/slv_amides/pawel_amide_parallel.csv')\n",
    "df = pd.concat([df, df_])\n",
    "df.info()"
   ],
   "metadata": {
    "collapsed": false,
    "ExecuteTime": {
     "end_time": "2023-11-28T08:13:16.319031300Z",
     "start_time": "2023-11-28T08:13:16.253619200Z"
    }
   }
  },
  {
   "cell_type": "code",
   "execution_count": 7,
   "outputs": [
    {
     "data": {
      "text/plain": "'C12=NC=CN1CCNC2'"
     },
     "execution_count": 7,
     "metadata": {},
     "output_type": "execute_result"
    }
   ],
   "source": [
    "smi = df.amine_smiles.drop_duplicates().sample(1).iat[0]\n",
    "smi"
   ],
   "metadata": {
    "collapsed": false,
    "ExecuteTime": {
     "end_time": "2023-11-28T08:14:09.017738500Z",
     "start_time": "2023-11-28T08:14:08.998556200Z"
    }
   }
  },
  {
   "cell_type": "code",
   "execution_count": 13,
   "outputs": [
    {
     "name": "stdout",
     "output_type": "stream",
     "text": [
      "1.6 ms ± 27.6 µs per loop (mean ± std. dev. of 7 runs, 1,000 loops each)\n",
      "3.21 ms ± 100 µs per loop (mean ± std. dev. of 7 runs, 100 loops each)\n"
     ]
    }
   ],
   "source": [
    "%timeit load_smiles3D(smi)\n",
    "%timeit load_smiles3D(smi, ff=True)"
   ],
   "metadata": {
    "collapsed": false,
    "ExecuteTime": {
     "end_time": "2023-11-28T08:27:53.719413500Z",
     "start_time": "2023-11-28T08:27:38.024352900Z"
    }
   }
  },
  {
   "cell_type": "code",
   "execution_count": 12,
   "outputs": [
    {
     "name": "stdout",
     "output_type": "stream",
     "text": [
      "num conformers 1\n"
     ]
    },
    {
     "data": {
      "application/3dmoljs_load.v0": "<div id=\"3dmolviewer_1701160045610452\"  style=\"position: relative; width: 600px; height: 400px;\">\n        <p id=\"3dmolwarning_1701160045610452\" style=\"background-color:#ffcccc;color:black\">You appear to be running in JupyterLab (or JavaScript failed to load for some other reason).  You need to install the 3dmol extension: <br>\n        <tt>jupyter labextension install jupyterlab_3dmol</tt></p>\n        </div>\n<script>\n\nvar loadScriptAsync = function(uri){\n  return new Promise((resolve, reject) => {\n    //this is to ignore the existence of requirejs amd\n    var savedexports, savedmodule;\n    if (typeof exports !== 'undefined') savedexports = exports;\n    else exports = {}\n    if (typeof module !== 'undefined') savedmodule = module;\n    else module = {}\n\n    var tag = document.createElement('script');\n    tag.src = uri;\n    tag.async = true;\n    tag.onload = () => {\n        exports = savedexports;\n        module = savedmodule;\n        resolve();\n    };\n  var firstScriptTag = document.getElementsByTagName('script')[0];\n  firstScriptTag.parentNode.insertBefore(tag, firstScriptTag);\n});\n};\n\nif(typeof $3Dmolpromise === 'undefined') {\n$3Dmolpromise = null;\n  $3Dmolpromise = loadScriptAsync('https://cdnjs.cloudflare.com/ajax/libs/3Dmol/2.0.4/3Dmol-min.js');\n}\n\nvar viewer_1701160045610452 = null;\nvar warn = document.getElementById(\"3dmolwarning_1701160045610452\");\nif(warn) {\n    warn.parentNode.removeChild(warn);\n}\n$3Dmolpromise.then(function() {\nviewer_1701160045610452 = $3Dmol.createViewer(document.getElementById(\"3dmolviewer_1701160045610452\"),{backgroundColor:\"white\"});\nviewer_1701160045610452.zoomTo();\n\tviewer_1701160045610452.addModel(\"\\n     RDKit          3D\\n\\n 18 19  0  0  0  0  0  0  0  0999 V2000\\n    0.4990   -0.9445   -0.0365 C   0  0  0  0  0  0  0  0  0  0  0  0\\n    1.6027   -1.5938   -0.3465 N   0  0  0  0  0  0  0  0  0  0  0  0\\n    2.4869   -0.6328   -0.7726 C   0  0  0  0  0  0  0  0  0  0  0  0\\n    1.9158    0.6182   -0.7243 C   0  0  0  0  0  0  0  0  0  0  0  0\\n    0.6566    0.4004   -0.2550 N   0  0  0  0  0  0  0  0  0  0  0  0\\n   -0.4005    1.3716   -0.0663 C   0  0  0  0  0  0  0  0  0  0  0  0\\n   -1.5691    0.7780    0.7324 C   0  0  0  0  0  0  0  0  0  0  0  0\\n   -1.9232   -0.5841    0.2992 N   0  0  0  0  0  0  0  0  0  0  0  0\\n   -0.7785   -1.4945    0.5125 C   0  0  0  0  0  0  0  0  0  0  0  0\\n    3.4868   -0.8947   -1.0936 H   0  0  0  0  0  0  0  0  0  0  0  0\\n    2.2906    1.5984   -0.9822 H   0  0  0  0  0  0  0  0  0  0  0  0\\n    0.0219    2.2401    0.4492 H   0  0  0  0  0  0  0  0  0  0  0  0\\n   -0.7303    1.6719   -1.0674 H   0  0  0  0  0  0  0  0  0  0  0  0\\n   -2.4454    1.4270    0.6273 H   0  0  0  0  0  0  0  0  0  0  0  0\\n   -1.3229    0.7619    1.8019 H   0  0  0  0  0  0  0  0  0  0  0  0\\n   -2.1300   -0.5814   -0.7003 H   0  0  0  0  0  0  0  0  0  0  0  0\\n   -1.0006   -2.4559    0.0369 H   0  0  0  0  0  0  0  0  0  0  0  0\\n   -0.6597   -1.6856    1.5853 H   0  0  0  0  0  0  0  0  0  0  0  0\\n  1  2  2  0\\n  2  3  1  0\\n  3  4  2  0\\n  4  5  1  0\\n  5  6  1  0\\n  6  7  1  0\\n  7  8  1  0\\n  8  9  1  0\\n  5  1  1  0\\n  9  1  1  0\\n  3 10  1  0\\n  4 11  1  0\\n  6 12  1  0\\n  6 13  1  0\\n  7 14  1  0\\n  7 15  1  0\\n  8 16  1  0\\n  9 17  1  0\\n  9 18  1  0\\nM  END\\n\",\"mol\");\n\tviewer_1701160045610452.setStyle({\"stick\": {}});\n\tviewer_1701160045610452.zoomTo();\nviewer_1701160045610452.render();\n});\n</script>",
      "text/html": "<div id=\"3dmolviewer_1701160045610452\"  style=\"position: relative; width: 600px; height: 400px;\">\n        <p id=\"3dmolwarning_1701160045610452\" style=\"background-color:#ffcccc;color:black\">You appear to be running in JupyterLab (or JavaScript failed to load for some other reason).  You need to install the 3dmol extension: <br>\n        <tt>jupyter labextension install jupyterlab_3dmol</tt></p>\n        </div>\n<script>\n\nvar loadScriptAsync = function(uri){\n  return new Promise((resolve, reject) => {\n    //this is to ignore the existence of requirejs amd\n    var savedexports, savedmodule;\n    if (typeof exports !== 'undefined') savedexports = exports;\n    else exports = {}\n    if (typeof module !== 'undefined') savedmodule = module;\n    else module = {}\n\n    var tag = document.createElement('script');\n    tag.src = uri;\n    tag.async = true;\n    tag.onload = () => {\n        exports = savedexports;\n        module = savedmodule;\n        resolve();\n    };\n  var firstScriptTag = document.getElementsByTagName('script')[0];\n  firstScriptTag.parentNode.insertBefore(tag, firstScriptTag);\n});\n};\n\nif(typeof $3Dmolpromise === 'undefined') {\n$3Dmolpromise = null;\n  $3Dmolpromise = loadScriptAsync('https://cdnjs.cloudflare.com/ajax/libs/3Dmol/2.0.4/3Dmol-min.js');\n}\n\nvar viewer_1701160045610452 = null;\nvar warn = document.getElementById(\"3dmolwarning_1701160045610452\");\nif(warn) {\n    warn.parentNode.removeChild(warn);\n}\n$3Dmolpromise.then(function() {\nviewer_1701160045610452 = $3Dmol.createViewer(document.getElementById(\"3dmolviewer_1701160045610452\"),{backgroundColor:\"white\"});\nviewer_1701160045610452.zoomTo();\n\tviewer_1701160045610452.addModel(\"\\n     RDKit          3D\\n\\n 18 19  0  0  0  0  0  0  0  0999 V2000\\n    0.4990   -0.9445   -0.0365 C   0  0  0  0  0  0  0  0  0  0  0  0\\n    1.6027   -1.5938   -0.3465 N   0  0  0  0  0  0  0  0  0  0  0  0\\n    2.4869   -0.6328   -0.7726 C   0  0  0  0  0  0  0  0  0  0  0  0\\n    1.9158    0.6182   -0.7243 C   0  0  0  0  0  0  0  0  0  0  0  0\\n    0.6566    0.4004   -0.2550 N   0  0  0  0  0  0  0  0  0  0  0  0\\n   -0.4005    1.3716   -0.0663 C   0  0  0  0  0  0  0  0  0  0  0  0\\n   -1.5691    0.7780    0.7324 C   0  0  0  0  0  0  0  0  0  0  0  0\\n   -1.9232   -0.5841    0.2992 N   0  0  0  0  0  0  0  0  0  0  0  0\\n   -0.7785   -1.4945    0.5125 C   0  0  0  0  0  0  0  0  0  0  0  0\\n    3.4868   -0.8947   -1.0936 H   0  0  0  0  0  0  0  0  0  0  0  0\\n    2.2906    1.5984   -0.9822 H   0  0  0  0  0  0  0  0  0  0  0  0\\n    0.0219    2.2401    0.4492 H   0  0  0  0  0  0  0  0  0  0  0  0\\n   -0.7303    1.6719   -1.0674 H   0  0  0  0  0  0  0  0  0  0  0  0\\n   -2.4454    1.4270    0.6273 H   0  0  0  0  0  0  0  0  0  0  0  0\\n   -1.3229    0.7619    1.8019 H   0  0  0  0  0  0  0  0  0  0  0  0\\n   -2.1300   -0.5814   -0.7003 H   0  0  0  0  0  0  0  0  0  0  0  0\\n   -1.0006   -2.4559    0.0369 H   0  0  0  0  0  0  0  0  0  0  0  0\\n   -0.6597   -1.6856    1.5853 H   0  0  0  0  0  0  0  0  0  0  0  0\\n  1  2  2  0\\n  2  3  1  0\\n  3  4  2  0\\n  4  5  1  0\\n  5  6  1  0\\n  6  7  1  0\\n  7  8  1  0\\n  8  9  1  0\\n  5  1  1  0\\n  9  1  1  0\\n  3 10  1  0\\n  4 11  1  0\\n  6 12  1  0\\n  6 13  1  0\\n  7 14  1  0\\n  7 15  1  0\\n  8 16  1  0\\n  9 17  1  0\\n  9 18  1  0\\nM  END\\n\",\"mol\");\n\tviewer_1701160045610452.setStyle({\"stick\": {}});\n\tviewer_1701160045610452.zoomTo();\nviewer_1701160045610452.render();\n});\n</script>"
     },
     "metadata": {},
     "output_type": "display_data"
    }
   ],
   "source": [
    "mol = load_smiles3D(smi, ff=True)\n",
    "draw3Dconfs(mol)"
   ],
   "metadata": {
    "collapsed": false,
    "ExecuteTime": {
     "end_time": "2023-11-28T08:27:25.612994200Z",
     "start_time": "2023-11-28T08:27:25.578474300Z"
    }
   }
  }
 ],
 "metadata": {
  "kernelspec": {
   "name": "linux_qm",
   "language": "python",
   "display_name": "linux_qm"
  },
  "language_info": {
   "codemirror_mode": {
    "name": "ipython",
    "version": 2
   },
   "file_extension": ".py",
   "mimetype": "text/x-python",
   "name": "python",
   "nbconvert_exporter": "python",
   "pygments_lexer": "ipython2",
   "version": "2.7.6"
  }
 },
 "nbformat": 4,
 "nbformat_minor": 0
}
